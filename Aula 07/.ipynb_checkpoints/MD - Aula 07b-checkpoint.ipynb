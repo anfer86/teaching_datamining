{
 "cells": [
  {
   "cell_type": "markdown",
   "metadata": {
    "slideshow": {
     "slide_type": "slide"
    }
   },
   "source": [
    "<link rel=\"stylesheet\" href=\"estilo.css\">\n",
    "\n",
    "<img src=\"img/logoifsc.png\">"
   ]
  },
  {
   "cell_type": "markdown",
   "metadata": {},
   "source": [
    "---\n",
    "\n",
    "Prof. Carlos Andrés Ferrero\n",
    "\n",
    "# Mineração de Dados\n",
    "\n",
    "## Pré-Processamento de Dados no Conjunto de Dados Shelter Animals\n",
    "    \n",
    "---"
   ]
  },
  {
   "cell_type": "markdown",
   "metadata": {
    "slideshow": {
     "slide_type": "slide"
    }
   },
   "source": [
    "## Problema: predição do destino de animais em abrigos\n",
    "\n",
    "- Aproximadamente 7,6 milhões de animais são recolhidos em abrigos. Muitos desses animais tem a sorte de voltar aos seus donos ou ainda serem adotados, mas não todos contam com essa sorte. Muitos animais esperam a vida inteira por uma família que possa adotá-lo. 2.7 milhões de cachorros e gatos sofrem eutanasia todo ano nos estados unidos. O Centro Animal de Austin divulgou dados sobre mais de 25.000 animais para a comunidade de Data Mining auxiliá-los a predizer qual será o destino dos animais. Mais informações no site da [Kaggle](https://www.kaggle.com/c/shelter-animal-outcomes)"
   ]
  },
  {
   "cell_type": "markdown",
   "metadata": {
    "slideshow": {
     "slide_type": "slide"
    }
   },
   "source": [
    "## Visão Geral dos Dados"
   ]
  },
  {
   "cell_type": "code",
   "execution_count": 146,
   "metadata": {},
   "outputs": [
    {
     "data": {
      "text/html": [
       "<table>\n",
       "<thead><tr><th scope=col>AnimalID</th><th scope=col>Name</th><th scope=col>DateTime</th><th scope=col>OutcomeType</th><th scope=col>OutcomeSubtype</th><th scope=col>AnimalType</th><th scope=col>SexuponOutcome</th><th scope=col>AgeuponOutcome</th><th scope=col>Breed</th><th scope=col>Color</th></tr></thead>\n",
       "<tbody>\n",
       "\t<tr><td>A671945                    </td><td>Hambone                    </td><td>2014-02-12 18:22:00        </td><td>Return_to_owner            </td><td>                           </td><td>Dog                        </td><td>Neutered Male              </td><td>1 year                     </td><td>Shetland Sheepdog Mix      </td><td>Brown/White                </td></tr>\n",
       "\t<tr><td>A656520                    </td><td>Emily                      </td><td>2013-10-13 12:44:00        </td><td>Euthanasia                 </td><td>Suffering                  </td><td>Cat                        </td><td>Spayed Female              </td><td>1 year                     </td><td>Domestic Shorthair Mix     </td><td>Cream Tabby                </td></tr>\n",
       "\t<tr><td>A686464                    </td><td>Pearce                     </td><td>2015-01-31 12:28:00        </td><td>Adoption                   </td><td>Foster                     </td><td>Dog                        </td><td>Neutered Male              </td><td>2 years                    </td><td>Pit Bull Mix               </td><td>Blue/White                 </td></tr>\n",
       "\t<tr><td>A683430                    </td><td>                           </td><td>2014-07-11 19:09:00        </td><td>Transfer                   </td><td>Partner                    </td><td>Cat                        </td><td>Intact Male                </td><td>3 weeks                    </td><td>Domestic Shorthair Mix     </td><td>Blue Cream                 </td></tr>\n",
       "\t<tr><td>A667013                    </td><td>                           </td><td>2013-11-15 12:52:00        </td><td>Transfer                   </td><td>Partner                    </td><td>Dog                        </td><td>Neutered Male              </td><td>2 years                    </td><td>Lhasa Apso/Miniature Poodle</td><td>Tan                        </td></tr>\n",
       "</tbody>\n",
       "</table>\n"
      ],
      "text/latex": [
       "\\begin{tabular}{r|llllllllll}\n",
       " AnimalID & Name & DateTime & OutcomeType & OutcomeSubtype & AnimalType & SexuponOutcome & AgeuponOutcome & Breed & Color\\\\\n",
       "\\hline\n",
       "\t A671945                     & Hambone                     & 2014-02-12 18:22:00         & Return\\_to\\_owner         &                             & Dog                         & Neutered Male               & 1 year                      & Shetland Sheepdog Mix       & Brown/White                \\\\\n",
       "\t A656520                     & Emily                       & 2013-10-13 12:44:00         & Euthanasia                  & Suffering                   & Cat                         & Spayed Female               & 1 year                      & Domestic Shorthair Mix      & Cream Tabby                \\\\\n",
       "\t A686464                     & Pearce                      & 2015-01-31 12:28:00         & Adoption                    & Foster                      & Dog                         & Neutered Male               & 2 years                     & Pit Bull Mix                & Blue/White                 \\\\\n",
       "\t A683430                     &                             & 2014-07-11 19:09:00         & Transfer                    & Partner                     & Cat                         & Intact Male                 & 3 weeks                     & Domestic Shorthair Mix      & Blue Cream                 \\\\\n",
       "\t A667013                     &                             & 2013-11-15 12:52:00         & Transfer                    & Partner                     & Dog                         & Neutered Male               & 2 years                     & Lhasa Apso/Miniature Poodle & Tan                        \\\\\n",
       "\\end{tabular}\n"
      ],
      "text/markdown": [
       "\n",
       "AnimalID | Name | DateTime | OutcomeType | OutcomeSubtype | AnimalType | SexuponOutcome | AgeuponOutcome | Breed | Color | \n",
       "|---|---|---|---|---|\n",
       "| A671945                     | Hambone                     | 2014-02-12 18:22:00         | Return_to_owner             |                             | Dog                         | Neutered Male               | 1 year                      | Shetland Sheepdog Mix       | Brown/White                 | \n",
       "| A656520                     | Emily                       | 2013-10-13 12:44:00         | Euthanasia                  | Suffering                   | Cat                         | Spayed Female               | 1 year                      | Domestic Shorthair Mix      | Cream Tabby                 | \n",
       "| A686464                     | Pearce                      | 2015-01-31 12:28:00         | Adoption                    | Foster                      | Dog                         | Neutered Male               | 2 years                     | Pit Bull Mix                | Blue/White                  | \n",
       "| A683430                     |                             | 2014-07-11 19:09:00         | Transfer                    | Partner                     | Cat                         | Intact Male                 | 3 weeks                     | Domestic Shorthair Mix      | Blue Cream                  | \n",
       "| A667013                     |                             | 2013-11-15 12:52:00         | Transfer                    | Partner                     | Dog                         | Neutered Male               | 2 years                     | Lhasa Apso/Miniature Poodle | Tan                         | \n",
       "\n",
       "\n"
      ],
      "text/plain": [
       "  AnimalID Name    DateTime            OutcomeType     OutcomeSubtype\n",
       "1 A671945  Hambone 2014-02-12 18:22:00 Return_to_owner               \n",
       "2 A656520  Emily   2013-10-13 12:44:00 Euthanasia      Suffering     \n",
       "3 A686464  Pearce  2015-01-31 12:28:00 Adoption        Foster        \n",
       "4 A683430          2014-07-11 19:09:00 Transfer        Partner       \n",
       "5 A667013          2013-11-15 12:52:00 Transfer        Partner       \n",
       "  AnimalType SexuponOutcome AgeuponOutcome Breed                      \n",
       "1 Dog        Neutered Male  1 year         Shetland Sheepdog Mix      \n",
       "2 Cat        Spayed Female  1 year         Domestic Shorthair Mix     \n",
       "3 Dog        Neutered Male  2 years        Pit Bull Mix               \n",
       "4 Cat        Intact Male    3 weeks        Domestic Shorthair Mix     \n",
       "5 Dog        Neutered Male  2 years        Lhasa Apso/Miniature Poodle\n",
       "  Color      \n",
       "1 Brown/White\n",
       "2 Cream Tabby\n",
       "3 Blue/White \n",
       "4 Blue Cream \n",
       "5 Tan        "
      ]
     },
     "metadata": {},
     "output_type": "display_data"
    }
   ],
   "source": [
    "library(data.table)\n",
    "dt <- fread(\"data/train.csv\")\n",
    "head(dt,5)"
   ]
  },
  {
   "cell_type": "markdown",
   "metadata": {
    "slideshow": {
     "slide_type": "slide"
    }
   },
   "source": [
    "## Ativdade\n",
    "\n",
    "- (1) Apresente tabelas com a frequência (contagem e percentual) dos possíveis valores dos atributos **AnimalType**, **SexuponOutcome** e **AgeuponOutcome**. Apresente um gráfico para esses atributos que também mostre a frequência ou proporção dos possíveis valores."
   ]
  },
  {
   "cell_type": "markdown",
   "metadata": {
    "slideshow": {
     "slide_type": "subslide"
    }
   },
   "source": [
    "### Tabelas de Frequência"
   ]
  },
  {
   "cell_type": "code",
   "execution_count": 147,
   "metadata": {},
   "outputs": [
    {
     "data": {
      "text/html": [
       "<table>\n",
       "<thead><tr><th scope=col>AnimalType</th><th scope=col>contagem</th><th scope=col>percentual</th></tr></thead>\n",
       "<tbody>\n",
       "\t<tr><td>Dog      </td><td>15595    </td><td>0.5834487</td></tr>\n",
       "\t<tr><td>Cat      </td><td>11134    </td><td>0.4165513</td></tr>\n",
       "</tbody>\n",
       "</table>\n"
      ],
      "text/latex": [
       "\\begin{tabular}{r|lll}\n",
       " AnimalType & contagem & percentual\\\\\n",
       "\\hline\n",
       "\t Dog       & 15595     & 0.5834487\\\\\n",
       "\t Cat       & 11134     & 0.4165513\\\\\n",
       "\\end{tabular}\n"
      ],
      "text/markdown": [
       "\n",
       "AnimalType | contagem | percentual | \n",
       "|---|---|\n",
       "| Dog       | 15595     | 0.5834487 | \n",
       "| Cat       | 11134     | 0.4165513 | \n",
       "\n",
       "\n"
      ],
      "text/plain": [
       "  AnimalType contagem percentual\n",
       "1 Dog        15595    0.5834487 \n",
       "2 Cat        11134    0.4165513 "
      ]
     },
     "metadata": {},
     "output_type": "display_data"
    }
   ],
   "source": [
    "n <- nrow(dt)\n",
    "dt.AnimalType.freq <- dt[,.(contagem = .N, percentual = .N/n),by=.(AnimalType)]\n",
    "dt.AnimalType.freq"
   ]
  },
  {
   "cell_type": "code",
   "execution_count": 148,
   "metadata": {
    "slideshow": {
     "slide_type": "subslide"
    }
   },
   "outputs": [
    {
     "data": {
      "text/html": [
       "<table>\n",
       "<thead><tr><th scope=col>SexuponOutcome</th><th scope=col>contagem</th><th scope=col>percentual</th></tr></thead>\n",
       "<tbody>\n",
       "\t<tr><td>Neutered Male</td><td>9779         </td><td>3.658573e-01 </td></tr>\n",
       "\t<tr><td>Spayed Female</td><td>8820         </td><td>3.299787e-01 </td></tr>\n",
       "\t<tr><td>Intact Male  </td><td>3525         </td><td>1.318792e-01 </td></tr>\n",
       "\t<tr><td>Intact Female</td><td>3511         </td><td>1.313555e-01 </td></tr>\n",
       "\t<tr><td>Unknown      </td><td>1093         </td><td>4.089192e-02 </td></tr>\n",
       "\t<tr><td>             </td><td>   1         </td><td>3.741255e-05 </td></tr>\n",
       "</tbody>\n",
       "</table>\n"
      ],
      "text/latex": [
       "\\begin{tabular}{r|lll}\n",
       " SexuponOutcome & contagem & percentual\\\\\n",
       "\\hline\n",
       "\t Neutered Male & 9779          & 3.658573e-01 \\\\\n",
       "\t Spayed Female & 8820          & 3.299787e-01 \\\\\n",
       "\t Intact Male   & 3525          & 1.318792e-01 \\\\\n",
       "\t Intact Female & 3511          & 1.313555e-01 \\\\\n",
       "\t Unknown       & 1093          & 4.089192e-02 \\\\\n",
       "\t               &    1          & 3.741255e-05 \\\\\n",
       "\\end{tabular}\n"
      ],
      "text/markdown": [
       "\n",
       "SexuponOutcome | contagem | percentual | \n",
       "|---|---|---|---|---|---|\n",
       "| Neutered Male | 9779          | 3.658573e-01  | \n",
       "| Spayed Female | 8820          | 3.299787e-01  | \n",
       "| Intact Male   | 3525          | 1.318792e-01  | \n",
       "| Intact Female | 3511          | 1.313555e-01  | \n",
       "| Unknown       | 1093          | 4.089192e-02  | \n",
       "|               |    1          | 3.741255e-05  | \n",
       "\n",
       "\n"
      ],
      "text/plain": [
       "  SexuponOutcome contagem percentual  \n",
       "1 Neutered Male  9779     3.658573e-01\n",
       "2 Spayed Female  8820     3.299787e-01\n",
       "3 Intact Male    3525     1.318792e-01\n",
       "4 Intact Female  3511     1.313555e-01\n",
       "5 Unknown        1093     4.089192e-02\n",
       "6                   1     3.741255e-05"
      ]
     },
     "metadata": {},
     "output_type": "display_data"
    }
   ],
   "source": [
    "dt.SexuponOutcome.freq <- dt[,.(contagem = .N, percentual = .N/n),by=.(SexuponOutcome)]\n",
    "dt.SexuponOutcome.freq"
   ]
  },
  {
   "cell_type": "code",
   "execution_count": 149,
   "metadata": {
    "slideshow": {
     "slide_type": "subslide"
    }
   },
   "outputs": [
    {
     "data": {
      "text/html": [
       "<table>\n",
       "<thead><tr><th scope=col>SexuponOutcome</th><th scope=col>contagem</th><th scope=col>percentual</th></tr></thead>\n",
       "<tbody>\n",
       "\t<tr><td>Neutered Male</td><td>9779         </td><td>3.658573e-01 </td></tr>\n",
       "\t<tr><td>Spayed Female</td><td>8820         </td><td>3.299787e-01 </td></tr>\n",
       "\t<tr><td>Intact Male  </td><td>3525         </td><td>1.318792e-01 </td></tr>\n",
       "\t<tr><td>Intact Female</td><td>3511         </td><td>1.313555e-01 </td></tr>\n",
       "\t<tr><td>Unknown      </td><td>1093         </td><td>4.089192e-02 </td></tr>\n",
       "\t<tr><td>             </td><td>   1         </td><td>3.741255e-05 </td></tr>\n",
       "</tbody>\n",
       "</table>\n"
      ],
      "text/latex": [
       "\\begin{tabular}{r|lll}\n",
       " SexuponOutcome & contagem & percentual\\\\\n",
       "\\hline\n",
       "\t Neutered Male & 9779          & 3.658573e-01 \\\\\n",
       "\t Spayed Female & 8820          & 3.299787e-01 \\\\\n",
       "\t Intact Male   & 3525          & 1.318792e-01 \\\\\n",
       "\t Intact Female & 3511          & 1.313555e-01 \\\\\n",
       "\t Unknown       & 1093          & 4.089192e-02 \\\\\n",
       "\t               &    1          & 3.741255e-05 \\\\\n",
       "\\end{tabular}\n"
      ],
      "text/markdown": [
       "\n",
       "SexuponOutcome | contagem | percentual | \n",
       "|---|---|---|---|---|---|\n",
       "| Neutered Male | 9779          | 3.658573e-01  | \n",
       "| Spayed Female | 8820          | 3.299787e-01  | \n",
       "| Intact Male   | 3525          | 1.318792e-01  | \n",
       "| Intact Female | 3511          | 1.313555e-01  | \n",
       "| Unknown       | 1093          | 4.089192e-02  | \n",
       "|               |    1          | 3.741255e-05  | \n",
       "\n",
       "\n"
      ],
      "text/plain": [
       "  SexuponOutcome contagem percentual  \n",
       "1 Neutered Male  9779     3.658573e-01\n",
       "2 Spayed Female  8820     3.299787e-01\n",
       "3 Intact Male    3525     1.318792e-01\n",
       "4 Intact Female  3511     1.313555e-01\n",
       "5 Unknown        1093     4.089192e-02\n",
       "6                   1     3.741255e-05"
      ]
     },
     "metadata": {},
     "output_type": "display_data"
    }
   ],
   "source": [
    "dt.AgeuponOutcome.freq <- dt[,.(contagem = .N, percentual = .N/n),by=.(AgeuponOutcome)]\n",
    "head(dt.SexuponOutcome.freq)"
   ]
  },
  {
   "cell_type": "markdown",
   "metadata": {
    "slideshow": {
     "slide_type": "subslide"
    }
   },
   "source": [
    "### Gráficos de Frequência"
   ]
  },
  {
   "cell_type": "code",
   "execution_count": 150,
   "metadata": {
    "slideshow": {
     "slide_type": "-"
    }
   },
   "outputs": [
    {
     "data": {},
     "metadata": {},
     "output_type": "display_data"
    },
    {
     "data": {
      "image/png": "[encoded data removed]",
      "text/plain": [
       "plot without title"
      ]
     },
     "metadata": {},
     "output_type": "display_data"
    }
   ],
   "source": [
    "library(ggplot2)\n",
    "options(repr.plot.width=5, repr.plot.height=3)\n",
    "ggplot( data = dt.AnimalType.freq, aes(x = AnimalType, y = contagem) ) + geom_col()"
   ]
  },
  {
   "cell_type": "code",
   "execution_count": 151,
   "metadata": {
    "slideshow": {
     "slide_type": "subslide"
    }
   },
   "outputs": [
    {
     "data": {},
     "metadata": {},
     "output_type": "display_data"
    },
    {
     "data": {
      "image/png": "[encoded data removed]",
      "text/plain": [
       "plot without title"
      ]
     },
     "metadata": {},
     "output_type": "display_data"
    }
   ],
   "source": [
    "ggplot( data = dt, aes(x = AnimalType) ) + geom_bar()"
   ]
  },
  {
   "cell_type": "code",
   "execution_count": 152,
   "metadata": {
    "slideshow": {
     "slide_type": "subslide"
    }
   },
   "outputs": [
    {
     "data": {},
     "metadata": {},
     "output_type": "display_data"
    },
    {
     "data": {
      "image/png": "[encoded data removed]",
      "text/plain": [
       "plot without title"
      ]
     },
     "metadata": {},
     "output_type": "display_data"
    }
   ],
   "source": [
    "ggplot( data = dt, aes(x = SexuponOutcome) ) + geom_bar() + coord_flip()"
   ]
  },
  {
   "cell_type": "code",
   "execution_count": 153,
   "metadata": {
    "slideshow": {
     "slide_type": "subslide"
    }
   },
   "outputs": [
    {
     "data": {},
     "metadata": {},
     "output_type": "display_data"
    },
    {
     "data": {
      "image/png": "[encoded data removed]",
      "text/plain": [
       "plot without title"
      ]
     },
     "metadata": {},
     "output_type": "display_data"
    }
   ],
   "source": [
    "options(repr.plot.width=8, repr.plot.height=4)\n",
    "ggplot( data = dt.AgeuponOutcome.freq, \n",
    "           aes(x = reorder(AgeuponOutcome,contagem), y = contagem) ) + \n",
    "    geom_col() + theme(axis.text.x = element_text(angle = 90, size = 10))"
   ]
  },
  {
   "cell_type": "markdown",
   "metadata": {
    "slideshow": {
     "slide_type": "subslide"
    }
   },
   "source": [
    "- (2) O atributo **AgeuponOutcome** descreve quantidades mas é apresentado de forma nominal, misturando anos, meses e semanas. Transforme o atributo AgeuponOutcome para número de dias **DaysuponOutcome**. Transforme o atributo DaysuponOutcome em um atributo discreto (não substitua o atributo original, crie novos atributos), utilizando as seguintes técnicas:\n",
    "\n",
    "    a. Intervalos de tamanho pré-definidos. Intervalos: [0;1095), [1095;2555), [2555,4380] dias. (atributo *DaysuponOutcome. intervalo_a*)\n",
    "\n",
    "    b. Intervalos de igual tamanho, sendo o tamanho 3 intervalos. (atributo *DaysuponOutcome.intervalo_b*)\n",
    "\n",
    "    c. Intervalos com o mesmo número de elementos, sendo 10 intervalos. (atributo *DaysuponOutcome.intervalo_c*)\n",
    "    \n",
    "    d. Faça gráficos mostrar como ficou a distribuição dos valores utilizando os diferentes intervalos, nas questões a) e b), para a questão c) calcule a média e o desvio padrão de cada intervalo."
   ]
  },
  {
   "cell_type": "markdown",
   "metadata": {
    "slideshow": {
     "slide_type": "subslide"
    }
   },
   "source": [
    "#### Transformando o Atributo AgeuponOutcome\n",
    "\n",
    "1. O atributo é uma string com no máximo dois termos: o número e a unidade de medida (year, month, etc.). Então, divide-se o atributo em duas colunas, uma para cada termo;\n",
    "\n",
    "2. Transforma-se cada medida em um número em dias;\n",
    "\n",
    "3. Convertem-se as duas colunas para formato numérico;\n",
    "\n",
    "4. Faz-se a multiplicação das colunas em uma nova coluna **DaysuponOutcome**;"
   ]
  },
  {
   "cell_type": "code",
   "execution_count": 154,
   "metadata": {
    "slideshow": {
     "slide_type": "subslide"
    }
   },
   "outputs": [
    {
     "data": {
      "text/html": [
       "<table>\n",
       "<thead><tr><th scope=col>AgeuponOutcome</th><th scope=col>Numero</th><th scope=col>Unidade</th></tr></thead>\n",
       "<tbody>\n",
       "\t<tr><td>1 year </td><td>1      </td><td>year   </td></tr>\n",
       "\t<tr><td>1 year </td><td>1      </td><td>year   </td></tr>\n",
       "\t<tr><td>2 years</td><td>2      </td><td>years  </td></tr>\n",
       "\t<tr><td>3 weeks</td><td>3      </td><td>weeks  </td></tr>\n",
       "\t<tr><td>2 years</td><td>2      </td><td>years  </td></tr>\n",
       "\t<tr><td>1 month</td><td>1      </td><td>month  </td></tr>\n",
       "</tbody>\n",
       "</table>\n"
      ],
      "text/latex": [
       "\\begin{tabular}{r|lll}\n",
       " AgeuponOutcome & Numero & Unidade\\\\\n",
       "\\hline\n",
       "\t 1 year  & 1       & year   \\\\\n",
       "\t 1 year  & 1       & year   \\\\\n",
       "\t 2 years & 2       & years  \\\\\n",
       "\t 3 weeks & 3       & weeks  \\\\\n",
       "\t 2 years & 2       & years  \\\\\n",
       "\t 1 month & 1       & month  \\\\\n",
       "\\end{tabular}\n"
      ],
      "text/markdown": [
       "\n",
       "AgeuponOutcome | Numero | Unidade | \n",
       "|---|---|---|---|---|---|\n",
       "| 1 year  | 1       | year    | \n",
       "| 1 year  | 1       | year    | \n",
       "| 2 years | 2       | years   | \n",
       "| 3 weeks | 3       | weeks   | \n",
       "| 2 years | 2       | years   | \n",
       "| 1 month | 1       | month   | \n",
       "\n",
       "\n"
      ],
      "text/plain": [
       "  AgeuponOutcome Numero Unidade\n",
       "1 1 year         1      year   \n",
       "2 1 year         1      year   \n",
       "3 2 years        2      years  \n",
       "4 3 weeks        3      weeks  \n",
       "5 2 years        2      years  \n",
       "6 1 month        1      month  "
      ]
     },
     "metadata": {},
     "output_type": "display_data"
    }
   ],
   "source": [
    "dt.aux <- data.table(AgeuponOutcome = dt$AgeuponOutcome)\n",
    "dt.aux <- dt.aux[, c(\"Numero\",\"Unidade\") := tstrsplit(AgeuponOutcome,\" \",fixed=T) ]\n",
    "head(dt.aux)"
   ]
  },
  {
   "cell_type": "code",
   "execution_count": 155,
   "metadata": {
    "slideshow": {
     "slide_type": "subslide"
    }
   },
   "outputs": [
    {
     "data": {
      "text/html": [
       "<table>\n",
       "<thead><tr><th scope=col>AgeuponOutcome</th><th scope=col>Numero</th><th scope=col>Unidade</th></tr></thead>\n",
       "<tbody>\n",
       "\t<tr><td>1 year </td><td>1      </td><td>365    </td></tr>\n",
       "\t<tr><td>1 year </td><td>1      </td><td>365    </td></tr>\n",
       "\t<tr><td>2 years</td><td>2      </td><td>365    </td></tr>\n",
       "\t<tr><td>3 weeks</td><td>3      </td><td>7      </td></tr>\n",
       "\t<tr><td>2 years</td><td>2      </td><td>365    </td></tr>\n",
       "\t<tr><td>1 month</td><td>1      </td><td>30     </td></tr>\n",
       "</tbody>\n",
       "</table>\n"
      ],
      "text/latex": [
       "\\begin{tabular}{r|lll}\n",
       " AgeuponOutcome & Numero & Unidade\\\\\n",
       "\\hline\n",
       "\t 1 year  & 1       & 365    \\\\\n",
       "\t 1 year  & 1       & 365    \\\\\n",
       "\t 2 years & 2       & 365    \\\\\n",
       "\t 3 weeks & 3       & 7      \\\\\n",
       "\t 2 years & 2       & 365    \\\\\n",
       "\t 1 month & 1       & 30     \\\\\n",
       "\\end{tabular}\n"
      ],
      "text/markdown": [
       "\n",
       "AgeuponOutcome | Numero | Unidade | \n",
       "|---|---|---|---|---|---|\n",
       "| 1 year  | 1       | 365     | \n",
       "| 1 year  | 1       | 365     | \n",
       "| 2 years | 2       | 365     | \n",
       "| 3 weeks | 3       | 7       | \n",
       "| 2 years | 2       | 365     | \n",
       "| 1 month | 1       | 30      | \n",
       "\n",
       "\n"
      ],
      "text/plain": [
       "  AgeuponOutcome Numero Unidade\n",
       "1 1 year         1      365    \n",
       "2 1 year         1      365    \n",
       "3 2 years        2      365    \n",
       "4 3 weeks        3      7      \n",
       "5 2 years        2      365    \n",
       "6 1 month        1      30     "
      ]
     },
     "metadata": {},
     "output_type": "display_data"
    }
   ],
   "source": [
    "dt.aux$Unidade <- gsub(\"year(\\\\w?)\" ,\"365\", dt.aux$Unidade )\n",
    "dt.aux$Unidade <- gsub(\"month(\\\\w?)\",\"30\",  dt.aux$Unidade )\n",
    "dt.aux$Unidade <- gsub(\"week(\\\\w?)\" ,\"7\",   dt.aux$Unidade )\n",
    "dt.aux$Unidade <- gsub(\"day(\\\\w?)\"  ,\"1\",   dt.aux$Unidade )\n",
    "dt.aux$Unidade <- gsub(\"^$\"         ,NA ,   dt.aux$Unidade )\n",
    "head(dt.aux)"
   ]
  },
  {
   "cell_type": "code",
   "execution_count": 156,
   "metadata": {
    "slideshow": {
     "slide_type": "subslide"
    }
   },
   "outputs": [
    {
     "data": {
      "text/html": [
       "<table>\n",
       "<thead><tr><th scope=col>AgeuponOutcome</th><th scope=col>Numero</th><th scope=col>Unidade</th><th scope=col>DaysuponOutcome</th></tr></thead>\n",
       "<tbody>\n",
       "\t<tr><td>1 year </td><td>1      </td><td>365    </td><td>365    </td></tr>\n",
       "\t<tr><td>1 year </td><td>1      </td><td>365    </td><td>365    </td></tr>\n",
       "\t<tr><td>2 years</td><td>2      </td><td>365    </td><td>730    </td></tr>\n",
       "\t<tr><td>3 weeks</td><td>3      </td><td>  7    </td><td> 21    </td></tr>\n",
       "\t<tr><td>2 years</td><td>2      </td><td>365    </td><td>730    </td></tr>\n",
       "\t<tr><td>1 month</td><td>1      </td><td> 30    </td><td> 30    </td></tr>\n",
       "</tbody>\n",
       "</table>\n"
      ],
      "text/latex": [
       "\\begin{tabular}{r|llll}\n",
       " AgeuponOutcome & Numero & Unidade & DaysuponOutcome\\\\\n",
       "\\hline\n",
       "\t 1 year  & 1       & 365     & 365    \\\\\n",
       "\t 1 year  & 1       & 365     & 365    \\\\\n",
       "\t 2 years & 2       & 365     & 730    \\\\\n",
       "\t 3 weeks & 3       &   7     &  21    \\\\\n",
       "\t 2 years & 2       & 365     & 730    \\\\\n",
       "\t 1 month & 1       &  30     &  30    \\\\\n",
       "\\end{tabular}\n"
      ],
      "text/markdown": [
       "\n",
       "AgeuponOutcome | Numero | Unidade | DaysuponOutcome | \n",
       "|---|---|---|---|---|---|\n",
       "| 1 year  | 1       | 365     | 365     | \n",
       "| 1 year  | 1       | 365     | 365     | \n",
       "| 2 years | 2       | 365     | 730     | \n",
       "| 3 weeks | 3       |   7     |  21     | \n",
       "| 2 years | 2       | 365     | 730     | \n",
       "| 1 month | 1       |  30     |  30     | \n",
       "\n",
       "\n"
      ],
      "text/plain": [
       "  AgeuponOutcome Numero Unidade DaysuponOutcome\n",
       "1 1 year         1      365     365            \n",
       "2 1 year         1      365     365            \n",
       "3 2 years        2      365     730            \n",
       "4 3 weeks        3        7      21            \n",
       "5 2 years        2      365     730            \n",
       "6 1 month        1       30      30            "
      ]
     },
     "metadata": {},
     "output_type": "display_data"
    }
   ],
   "source": [
    "dt.aux$Numero <- as.numeric(dt.aux$Numero)\n",
    "dt.aux$Unidade <- as.numeric(dt.aux$Unidade)\n",
    "dt.aux$DaysuponOutcome <- dt.aux$Numero * dt.aux$Unidade\n",
    "head(dt.aux)"
   ]
  },
  {
   "cell_type": "code",
   "execution_count": 157,
   "metadata": {
    "slideshow": {
     "slide_type": "subslide"
    }
   },
   "outputs": [
    {
     "data": {
      "text/html": [
       "<table>\n",
       "<thead><tr><th scope=col>AnimalID</th><th scope=col>Name</th><th scope=col>DateTime</th><th scope=col>OutcomeType</th><th scope=col>OutcomeSubtype</th><th scope=col>AnimalType</th><th scope=col>SexuponOutcome</th><th scope=col>AgeuponOutcome</th><th scope=col>Breed</th><th scope=col>Color</th><th scope=col>DaysuponOutcome</th></tr></thead>\n",
       "<tbody>\n",
       "\t<tr><td>A671945               </td><td>Hambone               </td><td>2014-02-12 18:22:00   </td><td>Return_to_owner       </td><td>                      </td><td>Dog                   </td><td>Neutered Male         </td><td>1 year                </td><td>Shetland Sheepdog Mix </td><td>Brown/White           </td><td>365                   </td></tr>\n",
       "\t<tr><td>A656520               </td><td>Emily                 </td><td>2013-10-13 12:44:00   </td><td>Euthanasia            </td><td>Suffering             </td><td>Cat                   </td><td>Spayed Female         </td><td>1 year                </td><td>Domestic Shorthair Mix</td><td>Cream Tabby           </td><td>365                   </td></tr>\n",
       "\t<tr><td>A686464               </td><td>Pearce                </td><td>2015-01-31 12:28:00   </td><td>Adoption              </td><td>Foster                </td><td>Dog                   </td><td>Neutered Male         </td><td>2 years               </td><td>Pit Bull Mix          </td><td>Blue/White            </td><td>730                   </td></tr>\n",
       "\t<tr><td>A683430               </td><td>                      </td><td>2014-07-11 19:09:00   </td><td>Transfer              </td><td>Partner               </td><td>Cat                   </td><td>Intact Male           </td><td>3 weeks               </td><td>Domestic Shorthair Mix</td><td>Blue Cream            </td><td> 21                   </td></tr>\n",
       "</tbody>\n",
       "</table>\n"
      ],
      "text/latex": [
       "\\begin{tabular}{r|lllllllllll}\n",
       " AnimalID & Name & DateTime & OutcomeType & OutcomeSubtype & AnimalType & SexuponOutcome & AgeuponOutcome & Breed & Color & DaysuponOutcome\\\\\n",
       "\\hline\n",
       "\t A671945                & Hambone                & 2014-02-12 18:22:00    & Return\\_to\\_owner    &                        & Dog                    & Neutered Male          & 1 year                 & Shetland Sheepdog Mix  & Brown/White            & 365                   \\\\\n",
       "\t A656520                & Emily                  & 2013-10-13 12:44:00    & Euthanasia             & Suffering              & Cat                    & Spayed Female          & 1 year                 & Domestic Shorthair Mix & Cream Tabby            & 365                   \\\\\n",
       "\t A686464                & Pearce                 & 2015-01-31 12:28:00    & Adoption               & Foster                 & Dog                    & Neutered Male          & 2 years                & Pit Bull Mix           & Blue/White             & 730                   \\\\\n",
       "\t A683430                &                        & 2014-07-11 19:09:00    & Transfer               & Partner                & Cat                    & Intact Male            & 3 weeks                & Domestic Shorthair Mix & Blue Cream             &  21                   \\\\\n",
       "\\end{tabular}\n"
      ],
      "text/markdown": [
       "\n",
       "AnimalID | Name | DateTime | OutcomeType | OutcomeSubtype | AnimalType | SexuponOutcome | AgeuponOutcome | Breed | Color | DaysuponOutcome | \n",
       "|---|---|---|---|\n",
       "| A671945                | Hambone                | 2014-02-12 18:22:00    | Return_to_owner        |                        | Dog                    | Neutered Male          | 1 year                 | Shetland Sheepdog Mix  | Brown/White            | 365                    | \n",
       "| A656520                | Emily                  | 2013-10-13 12:44:00    | Euthanasia             | Suffering              | Cat                    | Spayed Female          | 1 year                 | Domestic Shorthair Mix | Cream Tabby            | 365                    | \n",
       "| A686464                | Pearce                 | 2015-01-31 12:28:00    | Adoption               | Foster                 | Dog                    | Neutered Male          | 2 years                | Pit Bull Mix           | Blue/White             | 730                    | \n",
       "| A683430                |                        | 2014-07-11 19:09:00    | Transfer               | Partner                | Cat                    | Intact Male            | 3 weeks                | Domestic Shorthair Mix | Blue Cream             |  21                    | \n",
       "\n",
       "\n"
      ],
      "text/plain": [
       "  AnimalID Name    DateTime            OutcomeType     OutcomeSubtype\n",
       "1 A671945  Hambone 2014-02-12 18:22:00 Return_to_owner               \n",
       "2 A656520  Emily   2013-10-13 12:44:00 Euthanasia      Suffering     \n",
       "3 A686464  Pearce  2015-01-31 12:28:00 Adoption        Foster        \n",
       "4 A683430          2014-07-11 19:09:00 Transfer        Partner       \n",
       "  AnimalType SexuponOutcome AgeuponOutcome Breed                  Color      \n",
       "1 Dog        Neutered Male  1 year         Shetland Sheepdog Mix  Brown/White\n",
       "2 Cat        Spayed Female  1 year         Domestic Shorthair Mix Cream Tabby\n",
       "3 Dog        Neutered Male  2 years        Pit Bull Mix           Blue/White \n",
       "4 Cat        Intact Male    3 weeks        Domestic Shorthair Mix Blue Cream \n",
       "  DaysuponOutcome\n",
       "1 365            \n",
       "2 365            \n",
       "3 730            \n",
       "4  21            "
      ]
     },
     "metadata": {},
     "output_type": "display_data"
    }
   ],
   "source": [
    "dt$DaysuponOutcome <- dt.aux$DaysuponOutcome\n",
    "head(dt,4)"
   ]
  },
  {
   "cell_type": "code",
   "execution_count": 158,
   "metadata": {
    "slideshow": {
     "slide_type": "subslide"
    }
   },
   "outputs": [
    {
     "name": "stderr",
     "output_type": "stream",
     "text": [
      "Warning message:\n",
      "\"Removed 18 rows containing non-finite values (stat_bin).\""
     ]
    },
    {
     "data": {},
     "metadata": {},
     "output_type": "display_data"
    },
    {
     "data": {
      "image/png": "[encoded data removed]",
      "text/plain": [
       "plot without title"
      ]
     },
     "metadata": {},
     "output_type": "display_data"
    }
   ],
   "source": [
    "ggplot(data = dt, aes(x=DaysuponOutcome)) + geom_histogram(bins=20)"
   ]
  },
  {
   "cell_type": "markdown",
   "metadata": {
    "slideshow": {
     "slide_type": "subslide"
    }
   },
   "source": [
    "#### Intervalos de Tamanho Pré-definido"
   ]
  },
  {
   "cell_type": "code",
   "execution_count": 159,
   "metadata": {},
   "outputs": [],
   "source": [
    "x <- dt$DaysuponOutcome\n",
    "# [0;1095), [1095;2555), [2555,4380]\n",
    "dt$DaysuponOutcome.intervalo_a  <- ifelse(x < 1095, \"[0;1095)\",\n",
    "                                   ifelse(x < 2555, \"[1095;555)\",\n",
    "                                   ifelse(x <= 4380, \"[2555;4380]\",\n",
    "                                   ifelse(x > 4380, \"(4380;inf)\", NA))))"
   ]
  },
  {
   "cell_type": "code",
   "execution_count": 160,
   "metadata": {},
   "outputs": [
    {
     "data": {
      "text/html": [
       "<table>\n",
       "<thead><tr><th scope=col>DaysuponOutcome.intervalo_a</th><th scope=col>contagem</th></tr></thead>\n",
       "<tbody>\n",
       "\t<tr><td>[0;1095)   </td><td>19601      </td></tr>\n",
       "\t<tr><td>[1095;555) </td><td> 4556      </td></tr>\n",
       "\t<tr><td>[2555;4380]</td><td> 2161      </td></tr>\n",
       "\t<tr><td>(4380;inf) </td><td>  393      </td></tr>\n",
       "\t<tr><td>NA         </td><td>   18      </td></tr>\n",
       "</tbody>\n",
       "</table>\n"
      ],
      "text/latex": [
       "\\begin{tabular}{r|ll}\n",
       " DaysuponOutcome.intervalo\\_a & contagem\\\\\n",
       "\\hline\n",
       "\t {[}0;1095)    & 19601        \\\\\n",
       "\t {[}1095;555)  &  4556        \\\\\n",
       "\t {[}2555;4380{]} &  2161          \\\\\n",
       "\t (4380;inf)  &   393      \\\\\n",
       "\t NA          &    18      \\\\\n",
       "\\end{tabular}\n"
      ],
      "text/markdown": [
       "\n",
       "DaysuponOutcome.intervalo_a | contagem | \n",
       "|---|---|---|---|---|\n",
       "| [0;1095)    | 19601       | \n",
       "| [1095;555)  |  4556       | \n",
       "| [2555;4380] |  2161       | \n",
       "| (4380;inf)  |   393       | \n",
       "| NA          |    18       | \n",
       "\n",
       "\n"
      ],
      "text/plain": [
       "  DaysuponOutcome.intervalo_a contagem\n",
       "1 [0;1095)                    19601   \n",
       "2 [1095;555)                   4556   \n",
       "3 [2555;4380]                  2161   \n",
       "4 (4380;inf)                    393   \n",
       "5 NA                             18   "
      ]
     },
     "metadata": {},
     "output_type": "display_data"
    }
   ],
   "source": [
    "dt[, .(contagem = .N),by=DaysuponOutcome.intervalo_a]"
   ]
  },
  {
   "cell_type": "markdown",
   "metadata": {
    "slideshow": {
     "slide_type": "subslide"
    }
   },
   "source": [
    "#### Intervalos de Igual Tamanho"
   ]
  },
  {
   "cell_type": "code",
   "execution_count": 161,
   "metadata": {},
   "outputs": [],
   "source": [
    "intervalos.igual.tamanho <- function( x, k ) {\n",
    "    min <- min(x, na.rm = T)\n",
    "    max <- max(x, na.rm = T)\n",
    "    L <- (max + min - 1) / k\n",
    "    x.new <- (x - min) %/% L\n",
    "    x.new\n",
    "}\n",
    "\n",
    "dt$DaysuponOutcome.intervalo_b <- intervalos.igual.tamanho(x = dt$DaysuponOutcome, k = 3)"
   ]
  },
  {
   "cell_type": "code",
   "execution_count": 162,
   "metadata": {},
   "outputs": [
    {
     "data": {
      "text/html": [
       "<table>\n",
       "<thead><tr><th scope=col>DaysuponOutcome.intervalo_b</th><th scope=col>contagem</th></tr></thead>\n",
       "<tbody>\n",
       "\t<tr><td> 0   </td><td>24157</td></tr>\n",
       "\t<tr><td> 1   </td><td> 2304</td></tr>\n",
       "\t<tr><td> 2   </td><td>  248</td></tr>\n",
       "\t<tr><td>NA   </td><td>   18</td></tr>\n",
       "\t<tr><td> 3   </td><td>    2</td></tr>\n",
       "</tbody>\n",
       "</table>\n"
      ],
      "text/latex": [
       "\\begin{tabular}{r|ll}\n",
       " DaysuponOutcome.intervalo\\_b & contagem\\\\\n",
       "\\hline\n",
       "\t  0    & 24157\\\\\n",
       "\t  1    &  2304\\\\\n",
       "\t  2    &   248\\\\\n",
       "\t NA    &    18\\\\\n",
       "\t  3    &     2\\\\\n",
       "\\end{tabular}\n"
      ],
      "text/markdown": [
       "\n",
       "DaysuponOutcome.intervalo_b | contagem | \n",
       "|---|---|---|---|---|\n",
       "|  0    | 24157 | \n",
       "|  1    |  2304 | \n",
       "|  2    |   248 | \n",
       "| NA    |    18 | \n",
       "|  3    |     2 | \n",
       "\n",
       "\n"
      ],
      "text/plain": [
       "  DaysuponOutcome.intervalo_b contagem\n",
       "1  0                          24157   \n",
       "2  1                           2304   \n",
       "3  2                            248   \n",
       "4 NA                             18   \n",
       "5  3                              2   "
      ]
     },
     "metadata": {},
     "output_type": "display_data"
    }
   ],
   "source": [
    "dt[, .(contagem = .N),by=DaysuponOutcome.intervalo_b]"
   ]
  },
  {
   "cell_type": "markdown",
   "metadata": {
    "slideshow": {
     "slide_type": "subslide"
    }
   },
   "source": [
    "#### Intervalos de Igual Frequência"
   ]
  },
  {
   "cell_type": "code",
   "execution_count": 163,
   "metadata": {
    "slideshow": {
     "slide_type": "-"
    }
   },
   "outputs": [],
   "source": [
    "intervalos.igual.frequencia <- function( x, k ){\n",
    "    x.rank <- rank(x, na.last = \"keep\", ties.method = \"min\")    \n",
    "    x.new <- intervalos.igual.tamanho(x.rank, k)\n",
    "    x.new\n",
    "}\n",
    "\n",
    "dt$DaysuponOutcome.intervalo_c <- intervalos.igual.frequencia(x = dt$DaysuponOutcome, k = 10)"
   ]
  },
  {
   "cell_type": "code",
   "execution_count": 164,
   "metadata": {},
   "outputs": [
    {
     "data": {
      "text/html": [
       "<table>\n",
       "<thead><tr><th scope=col>DaysuponOutcome.intervalo_c</th><th scope=col>contagem</th></tr></thead>\n",
       "<tbody>\n",
       "\t<tr><td> 4  </td><td>4816</td></tr>\n",
       "\t<tr><td> 5  </td><td>3742</td></tr>\n",
       "\t<tr><td> 0  </td><td>3540</td></tr>\n",
       "\t<tr><td> 3  </td><td>2818</td></tr>\n",
       "\t<tr><td> 8  </td><td>2733</td></tr>\n",
       "\t<tr><td> 2  </td><td>1277</td></tr>\n",
       "\t<tr><td> 1  </td><td>3408</td></tr>\n",
       "\t<tr><td> 9  </td><td>2554</td></tr>\n",
       "\t<tr><td> 7  </td><td>1823</td></tr>\n",
       "\t<tr><td>NA  </td><td>  18</td></tr>\n",
       "</tbody>\n",
       "</table>\n"
      ],
      "text/latex": [
       "\\begin{tabular}{r|ll}\n",
       " DaysuponOutcome.intervalo\\_c & contagem\\\\\n",
       "\\hline\n",
       "\t  4   & 4816\\\\\n",
       "\t  5   & 3742\\\\\n",
       "\t  0   & 3540\\\\\n",
       "\t  3   & 2818\\\\\n",
       "\t  8   & 2733\\\\\n",
       "\t  2   & 1277\\\\\n",
       "\t  1   & 3408\\\\\n",
       "\t  9   & 2554\\\\\n",
       "\t  7   & 1823\\\\\n",
       "\t NA   &   18\\\\\n",
       "\\end{tabular}\n"
      ],
      "text/markdown": [
       "\n",
       "DaysuponOutcome.intervalo_c | contagem | \n",
       "|---|---|---|---|---|---|---|---|---|---|\n",
       "|  4   | 4816 | \n",
       "|  5   | 3742 | \n",
       "|  0   | 3540 | \n",
       "|  3   | 2818 | \n",
       "|  8   | 2733 | \n",
       "|  2   | 1277 | \n",
       "|  1   | 3408 | \n",
       "|  9   | 2554 | \n",
       "|  7   | 1823 | \n",
       "| NA   |   18 | \n",
       "\n",
       "\n"
      ],
      "text/plain": [
       "   DaysuponOutcome.intervalo_c contagem\n",
       "1   4                          4816    \n",
       "2   5                          3742    \n",
       "3   0                          3540    \n",
       "4   3                          2818    \n",
       "5   8                          2733    \n",
       "6   2                          1277    \n",
       "7   1                          3408    \n",
       "8   9                          2554    \n",
       "9   7                          1823    \n",
       "10 NA                            18    "
      ]
     },
     "metadata": {},
     "output_type": "display_data"
    }
   ],
   "source": [
    "dt[, .(contagem = .N),by=DaysuponOutcome.intervalo_c]"
   ]
  },
  {
   "cell_type": "markdown",
   "metadata": {
    "slideshow": {
     "slide_type": "subslide"
    }
   },
   "source": [
    "Também podemos usar um método pronto da biblioteca **arules**"
   ]
  },
  {
   "cell_type": "code",
   "execution_count": 165,
   "metadata": {},
   "outputs": [],
   "source": [
    "library(arules)\n",
    "dt$DaysuponOutcome.intervalo_c <- discretize(dt$DaysuponOutcome, \n",
    "                                              method=\"frequency\", \n",
    "                                              categories = 10)"
   ]
  },
  {
   "cell_type": "code",
   "execution_count": 166,
   "metadata": {},
   "outputs": [
    {
     "data": {
      "text/html": [
       "<table>\n",
       "<thead><tr><th scope=col>DaysuponOutcome.intervalo_c</th><th scope=col>contagem</th></tr></thead>\n",
       "<tbody>\n",
       "\t<tr><td>[ 270, 730)</td><td>4816       </td></tr>\n",
       "\t<tr><td> 730       </td><td>3742       </td></tr>\n",
       "\t<tr><td>[   0,  35)</td><td>3540       </td></tr>\n",
       "\t<tr><td>[ 120, 270)</td><td>2818       </td></tr>\n",
       "\t<tr><td>[1460,2555)</td><td>2733       </td></tr>\n",
       "\t<tr><td>  90       </td><td>1277       </td></tr>\n",
       "\t<tr><td>[  35,  90)</td><td>3408       </td></tr>\n",
       "\t<tr><td>[2555,7300]</td><td>2554       </td></tr>\n",
       "\t<tr><td>1095       </td><td>1823       </td></tr>\n",
       "\t<tr><td>NA         </td><td>  18       </td></tr>\n",
       "</tbody>\n",
       "</table>\n"
      ],
      "text/latex": [
       "\\begin{tabular}{r|ll}\n",
       " DaysuponOutcome.intervalo\\_c & contagem\\\\\n",
       "\\hline\n",
       "\t {[} 270, 730) & 4816         \\\\\n",
       "\t  730        & 3742       \\\\\n",
       "\t {[}   0,  35) & 3540         \\\\\n",
       "\t {[} 120, 270) & 2818         \\\\\n",
       "\t {[}1460,2555) & 2733         \\\\\n",
       "\t   90        & 1277       \\\\\n",
       "\t {[}  35,  90) & 3408         \\\\\n",
       "\t {[}2555,7300{]} & 2554           \\\\\n",
       "\t 1095        & 1823       \\\\\n",
       "\t NA          &   18       \\\\\n",
       "\\end{tabular}\n"
      ],
      "text/markdown": [
       "\n",
       "DaysuponOutcome.intervalo_c | contagem | \n",
       "|---|---|---|---|---|---|---|---|---|---|\n",
       "| [ 270, 730) | 4816        | \n",
       "|  730        | 3742        | \n",
       "| [   0,  35) | 3540        | \n",
       "| [ 120, 270) | 2818        | \n",
       "| [1460,2555) | 2733        | \n",
       "|   90        | 1277        | \n",
       "| [  35,  90) | 3408        | \n",
       "| [2555,7300] | 2554        | \n",
       "| 1095        | 1823        | \n",
       "| NA          |   18        | \n",
       "\n",
       "\n"
      ],
      "text/plain": [
       "   DaysuponOutcome.intervalo_c contagem\n",
       "1  [ 270, 730)                 4816    \n",
       "2   730                        3742    \n",
       "3  [   0,  35)                 3540    \n",
       "4  [ 120, 270)                 2818    \n",
       "5  [1460,2555)                 2733    \n",
       "6    90                        1277    \n",
       "7  [  35,  90)                 3408    \n",
       "8  [2555,7300]                 2554    \n",
       "9  1095                        1823    \n",
       "10 NA                            18    "
      ]
     },
     "metadata": {},
     "output_type": "display_data"
    }
   ],
   "source": [
    "dt[, .(contagem = .N),by=DaysuponOutcome.intervalo_c]"
   ]
  },
  {
   "cell_type": "markdown",
   "metadata": {
    "slideshow": {
     "slide_type": "subslide"
    }
   },
   "source": [
    "#### Gráficos"
   ]
  },
  {
   "cell_type": "code",
   "execution_count": 167,
   "metadata": {},
   "outputs": [
    {
     "data": {},
     "metadata": {},
     "output_type": "display_data"
    },
    {
     "data": {
      "image/png": "[encoded data removed]",
      "text/plain": [
       "plot without title"
      ]
     },
     "metadata": {},
     "output_type": "display_data"
    }
   ],
   "source": [
    "options(repr.plot.width=5, repr.plot.height=3)\n",
    "ggplot(dt, aes(x = DaysuponOutcome.intervalo_a)) + geom_bar()"
   ]
  },
  {
   "cell_type": "code",
   "execution_count": 168,
   "metadata": {
    "slideshow": {
     "slide_type": "subslide"
    }
   },
   "outputs": [
    {
     "name": "stderr",
     "output_type": "stream",
     "text": [
      "Warning message:\n",
      "\"Removed 18 rows containing non-finite values (stat_count).\""
     ]
    },
    {
     "data": {},
     "metadata": {},
     "output_type": "display_data"
    },
    {
     "data": {
      "image/png": "[encoded data removed]",
      "text/plain": [
       "plot without title"
      ]
     },
     "metadata": {},
     "output_type": "display_data"
    }
   ],
   "source": [
    "ggplot(dt, aes(x = DaysuponOutcome.intervalo_b)) + geom_bar()"
   ]
  },
  {
   "cell_type": "code",
   "execution_count": 169,
   "metadata": {
    "slideshow": {
     "slide_type": "subslide"
    }
   },
   "outputs": [
    {
     "data": {},
     "metadata": {},
     "output_type": "display_data"
    },
    {
     "data": {
      "image/png": "[encoded data removed]",
      "text/plain": [
       "plot without title"
      ]
     },
     "metadata": {},
     "output_type": "display_data"
    }
   ],
   "source": [
    "ggplot(dt, aes(x = DaysuponOutcome.intervalo_c)) + geom_bar() + coord_flip()"
   ]
  },
  {
   "cell_type": "code",
   "execution_count": 170,
   "metadata": {
    "slideshow": {
     "slide_type": "subslide"
    }
   },
   "outputs": [
    {
     "data": {
      "text/html": [
       "<table>\n",
       "<thead><tr><th scope=col>DaysuponOutcome.intervalo_c</th><th scope=col>media</th><th scope=col>desvio.padrao</th></tr></thead>\n",
       "<tbody>\n",
       "\t<tr><td>[ 270, 730)</td><td> 353.20702 </td><td> 26.906988 </td></tr>\n",
       "\t<tr><td> 730       </td><td> 730.00000 </td><td>  0.000000 </td></tr>\n",
       "\t<tr><td>[   0,  35)</td><td>  20.46808 </td><td>  9.890320 </td></tr>\n",
       "\t<tr><td>[ 120, 270)</td><td> 165.77715 </td><td> 41.791392 </td></tr>\n",
       "\t<tr><td>[1460,2555)</td><td>1771.44530 </td><td>286.408946 </td></tr>\n",
       "\t<tr><td>  90       </td><td>  90.00000 </td><td>  0.000000 </td></tr>\n",
       "\t<tr><td>[  35,  90)</td><td>  59.91931 </td><td>  1.418235 </td></tr>\n",
       "\t<tr><td>[2555,7300]</td><td>3556.39193 </td><td>921.739588 </td></tr>\n",
       "\t<tr><td>1095       </td><td>1095.00000 </td><td>  0.000000 </td></tr>\n",
       "\t<tr><td>NA         </td><td>        NA </td><td>        NA </td></tr>\n",
       "</tbody>\n",
       "</table>\n"
      ],
      "text/latex": [
       "\\begin{tabular}{r|lll}\n",
       " DaysuponOutcome.intervalo\\_c & media & desvio.padrao\\\\\n",
       "\\hline\n",
       "\t {[} 270, 730) &  353.20702    &  26.906988   \\\\\n",
       "\t  730        &  730.00000  &   0.000000 \\\\\n",
       "\t {[}   0,  35) &   20.46808    &   9.890320   \\\\\n",
       "\t {[} 120, 270) &  165.77715    &  41.791392   \\\\\n",
       "\t {[}1460,2555) & 1771.44530    & 286.408946   \\\\\n",
       "\t   90        &   90.00000  &   0.000000 \\\\\n",
       "\t {[}  35,  90) &   59.91931    &   1.418235   \\\\\n",
       "\t {[}2555,7300{]} & 3556.39193      & 921.739588     \\\\\n",
       "\t 1095        & 1095.00000  &   0.000000 \\\\\n",
       "\t NA          &         NA  &         NA \\\\\n",
       "\\end{tabular}\n"
      ],
      "text/markdown": [
       "\n",
       "DaysuponOutcome.intervalo_c | media | desvio.padrao | \n",
       "|---|---|---|---|---|---|---|---|---|---|\n",
       "| [ 270, 730) |  353.20702  |  26.906988  | \n",
       "|  730        |  730.00000  |   0.000000  | \n",
       "| [   0,  35) |   20.46808  |   9.890320  | \n",
       "| [ 120, 270) |  165.77715  |  41.791392  | \n",
       "| [1460,2555) | 1771.44530  | 286.408946  | \n",
       "|   90        |   90.00000  |   0.000000  | \n",
       "| [  35,  90) |   59.91931  |   1.418235  | \n",
       "| [2555,7300] | 3556.39193  | 921.739588  | \n",
       "| 1095        | 1095.00000  |   0.000000  | \n",
       "| NA          |         NA  |         NA  | \n",
       "\n",
       "\n"
      ],
      "text/plain": [
       "   DaysuponOutcome.intervalo_c media      desvio.padrao\n",
       "1  [ 270, 730)                  353.20702  26.906988   \n",
       "2   730                         730.00000   0.000000   \n",
       "3  [   0,  35)                   20.46808   9.890320   \n",
       "4  [ 120, 270)                  165.77715  41.791392   \n",
       "5  [1460,2555)                 1771.44530 286.408946   \n",
       "6    90                          90.00000   0.000000   \n",
       "7  [  35,  90)                   59.91931   1.418235   \n",
       "8  [2555,7300]                 3556.39193 921.739588   \n",
       "9  1095                        1095.00000   0.000000   \n",
       "10 NA                                  NA         NA   "
      ]
     },
     "metadata": {},
     "output_type": "display_data"
    }
   ],
   "source": [
    "dt[ , .(media = mean(DaysuponOutcome), \n",
    "        desvio.padrao = sd(DaysuponOutcome)), \n",
    "   by = DaysuponOutcome.intervalo_c]"
   ]
  },
  {
   "cell_type": "code",
   "execution_count": 171,
   "metadata": {
    "slideshow": {
     "slide_type": "subslide"
    }
   },
   "outputs": [
    {
     "data": {
      "text/html": [
       "<table>\n",
       "<thead><tr><th scope=col>DaysuponOutcome.intervalo_c</th><th scope=col>media</th><th scope=col>desvio.padrao</th></tr></thead>\n",
       "<tbody>\n",
       "\t<tr><td>[ 270, 730)</td><td> 353       </td><td> 27        </td></tr>\n",
       "\t<tr><td> 730       </td><td> 730       </td><td>  0        </td></tr>\n",
       "\t<tr><td>[   0,  35)</td><td>  20       </td><td> 10        </td></tr>\n",
       "\t<tr><td>[ 120, 270)</td><td> 166       </td><td> 42        </td></tr>\n",
       "\t<tr><td>[1460,2555)</td><td>1771       </td><td>286        </td></tr>\n",
       "\t<tr><td>  90       </td><td>  90       </td><td>  0        </td></tr>\n",
       "\t<tr><td>[  35,  90)</td><td>  60       </td><td>  1        </td></tr>\n",
       "\t<tr><td>[2555,7300]</td><td>3556       </td><td>922        </td></tr>\n",
       "\t<tr><td>1095       </td><td>1095       </td><td>  0        </td></tr>\n",
       "\t<tr><td>NA         </td><td>  NA       </td><td> NA        </td></tr>\n",
       "</tbody>\n",
       "</table>\n"
      ],
      "text/latex": [
       "\\begin{tabular}{r|lll}\n",
       " DaysuponOutcome.intervalo\\_c & media & desvio.padrao\\\\\n",
       "\\hline\n",
       "\t {[} 270, 730) &  353          &  27          \\\\\n",
       "\t  730        &  730        &   0        \\\\\n",
       "\t {[}   0,  35) &   20          &  10          \\\\\n",
       "\t {[} 120, 270) &  166          &  42          \\\\\n",
       "\t {[}1460,2555) & 1771          & 286          \\\\\n",
       "\t   90        &   90        &   0        \\\\\n",
       "\t {[}  35,  90) &   60          &   1          \\\\\n",
       "\t {[}2555,7300{]} & 3556            & 922            \\\\\n",
       "\t 1095        & 1095        &   0        \\\\\n",
       "\t NA          &   NA        &  NA        \\\\\n",
       "\\end{tabular}\n"
      ],
      "text/markdown": [
       "\n",
       "DaysuponOutcome.intervalo_c | media | desvio.padrao | \n",
       "|---|---|---|---|---|---|---|---|---|---|\n",
       "| [ 270, 730) |  353        |  27         | \n",
       "|  730        |  730        |   0         | \n",
       "| [   0,  35) |   20        |  10         | \n",
       "| [ 120, 270) |  166        |  42         | \n",
       "| [1460,2555) | 1771        | 286         | \n",
       "|   90        |   90        |   0         | \n",
       "| [  35,  90) |   60        |   1         | \n",
       "| [2555,7300] | 3556        | 922         | \n",
       "| 1095        | 1095        |   0         | \n",
       "| NA          |   NA        |  NA         | \n",
       "\n",
       "\n"
      ],
      "text/plain": [
       "   DaysuponOutcome.intervalo_c media desvio.padrao\n",
       "1  [ 270, 730)                  353   27          \n",
       "2   730                         730    0          \n",
       "3  [   0,  35)                   20   10          \n",
       "4  [ 120, 270)                  166   42          \n",
       "5  [1460,2555)                 1771  286          \n",
       "6    90                          90    0          \n",
       "7  [  35,  90)                   60    1          \n",
       "8  [2555,7300]                 3556  922          \n",
       "9  1095                        1095    0          \n",
       "10 NA                            NA   NA          "
      ]
     },
     "metadata": {},
     "output_type": "display_data"
    }
   ],
   "source": [
    "dt[ , .(media = round(mean(DaysuponOutcome)), \n",
    "        desvio.padrao = round(sd(DaysuponOutcome))), \n",
    "   by = DaysuponOutcome.intervalo_c]"
   ]
  },
  {
   "cell_type": "markdown",
   "metadata": {
    "slideshow": {
     "slide_type": "subslide"
    }
   },
   "source": [
    "- (3) Ainda em relação ao atributo **DaysuponOutcome**, calcule:\n",
    "\n",
    "    a. Média, desvio padrão.\n",
    "\n",
    "    b. Mediana, Valor mínimo e Valor máximo.\n",
    "\n",
    "    c. Crie os novos atributos com os valores normalizados com as técncias de normalização linear, desvio padrão e valor máximo."
   ]
  },
  {
   "cell_type": "markdown",
   "metadata": {
    "slideshow": {
     "slide_type": "subslide"
    }
   },
   "source": [
    "### Estatísticas Básicas"
   ]
  },
  {
   "cell_type": "markdown",
   "metadata": {},
   "source": [
    "Observe que a possibilidade de valores faltantes está sempre presente"
   ]
  },
  {
   "cell_type": "code",
   "execution_count": 172,
   "metadata": {},
   "outputs": [],
   "source": [
    "media <- mean(dt$DaysuponOutcome, na.rm = TRUE)\n",
    "desvio.padrao <- sd(dt$DaysuponOutcome, na.rm = T)\n",
    "mediana <- median(dt$DaysuponOutcome, na.rm = T)\n",
    "minimo <- min(dt$DaysuponOutcome, na.rm = T)\n",
    "maximo <- max(dt$DaysuponOutcome, na.rm = T)"
   ]
  },
  {
   "cell_type": "markdown",
   "metadata": {
    "slideshow": {
     "slide_type": "subslide"
    }
   },
   "source": [
    "### Transformações: normalização linear\n",
    "\n",
    "Lembrando a função: \n",
    "\n",
    "$$ f(x) = \\frac{x - min(\\mathbf{x})}{max(\\mathbf{x}) - min(\\mathbf{x})} = x'$$"
   ]
  },
  {
   "cell_type": "code",
   "execution_count": 173,
   "metadata": {},
   "outputs": [],
   "source": [
    "normalizacao.linear <- function (x){\n",
    "    (x - min(x, na.rm = T)) / (max(x, na.rm = T)-min(x, na.rm = T))    \n",
    "}\n",
    "\n",
    "dt$DaysuponOutcome.norm_l <- normalizacao.linear(dt$DaysuponOutcome)"
   ]
  },
  {
   "cell_type": "code",
   "execution_count": 174,
   "metadata": {
    "slideshow": {
     "slide_type": "subslide"
    }
   },
   "outputs": [
    {
     "name": "stderr",
     "output_type": "stream",
     "text": [
      "Warning message:\n",
      "\"Removed 18 rows containing non-finite values (stat_bin).\""
     ]
    },
    {
     "data": {},
     "metadata": {},
     "output_type": "display_data"
    },
    {
     "data": {
      "image/png": "[encoded data removed]",
      "text/plain": [
       "plot without title"
      ]
     },
     "metadata": {},
     "output_type": "display_data"
    }
   ],
   "source": [
    "ggplot(data = dt, aes(x=DaysuponOutcome.norm_l)) + geom_histogram(bins=20)"
   ]
  },
  {
   "cell_type": "markdown",
   "metadata": {
    "slideshow": {
     "slide_type": "subslide"
    }
   },
   "source": [
    "### Transformações: normalização por desvio padrão\n",
    "\n",
    "Lembrando a função:\n",
    "\n",
    "$$ f(x) = \\frac{x - mean(\\mathbf{x})}{sd(\\mathbf{x})} = x'$$"
   ]
  },
  {
   "cell_type": "code",
   "execution_count": 175,
   "metadata": {},
   "outputs": [],
   "source": [
    "normalizacao.desvio.padrao <- function(x){\n",
    "    (x - mean(x, na.rm = T)) / sd(x, na.rm = T)\n",
    "}\n",
    "\n",
    "dt$DaysuponOutcome.norm_dp <- normalizacao.desvio.padrao(dt$DaysuponOutcome)"
   ]
  },
  {
   "cell_type": "code",
   "execution_count": 176,
   "metadata": {
    "slideshow": {
     "slide_type": "subslide"
    }
   },
   "outputs": [
    {
     "name": "stderr",
     "output_type": "stream",
     "text": [
      "Warning message:\n",
      "\"Removed 18 rows containing non-finite values (stat_bin).\""
     ]
    },
    {
     "data": {},
     "metadata": {},
     "output_type": "display_data"
    },
    {
     "data": {
      "image/png": "[encoded data removed]",
      "text/plain": [
       "plot without title"
      ]
     },
     "metadata": {},
     "output_type": "display_data"
    }
   ],
   "source": [
    "ggplot(data = dt, aes(x=DaysuponOutcome.norm_dp)) + geom_histogram(bins=20)"
   ]
  },
  {
   "cell_type": "markdown",
   "metadata": {
    "slideshow": {
     "slide_type": "subslide"
    }
   },
   "source": [
    "### Transformações: normalização por valor máximo\n",
    "\n",
    "Lembrando a função:\n",
    "\n",
    "$$ f(x) = \\frac{x}{max(|\\mathbf{x}|)} = x'$$"
   ]
  },
  {
   "cell_type": "code",
   "execution_count": 177,
   "metadata": {},
   "outputs": [],
   "source": [
    "normalizacao.valor.maximo <- function(x){\n",
    "    x / max(abs(x), na.rm = T)\n",
    "}\n",
    "\n",
    "dt$DaysuponOutcome.norm_vm <- normalizacao.valor.maximo(dt$DaysuponOutcome)"
   ]
  },
  {
   "cell_type": "code",
   "execution_count": 178,
   "metadata": {
    "slideshow": {
     "slide_type": "subslide"
    }
   },
   "outputs": [
    {
     "name": "stderr",
     "output_type": "stream",
     "text": [
      "Warning message:\n",
      "\"Removed 18 rows containing non-finite values (stat_bin).\""
     ]
    },
    {
     "data": {},
     "metadata": {},
     "output_type": "display_data"
    },
    {
     "data": {
      "image/png": "[encoded data removed]",
      "text/plain": [
       "plot without title"
      ]
     },
     "metadata": {},
     "output_type": "display_data"
    }
   ],
   "source": [
    "ggplot(data = dt, aes(x=DaysuponOutcome.norm_vm)) + geom_histogram(bins=20)"
   ]
  },
  {
   "cell_type": "markdown",
   "metadata": {
    "slideshow": {
     "slide_type": "subslide"
    }
   },
   "source": [
    "- (4) Mostre o novo conjunto de dados incluíndo os atributos criados e seus valores."
   ]
  },
  {
   "cell_type": "code",
   "execution_count": 179,
   "metadata": {},
   "outputs": [
    {
     "data": {
      "text/html": [
       "<table>\n",
       "<thead><tr><th scope=col>AnimalID</th><th scope=col>Name</th><th scope=col>DateTime</th><th scope=col>OutcomeType</th><th scope=col>OutcomeSubtype</th><th scope=col>AnimalType</th><th scope=col>SexuponOutcome</th><th scope=col>AgeuponOutcome</th><th scope=col>Breed</th><th scope=col>Color</th><th scope=col>DaysuponOutcome</th><th scope=col>DaysuponOutcome.intervalo_a</th><th scope=col>DaysuponOutcome.intervalo_b</th><th scope=col>DaysuponOutcome.intervalo_c</th><th scope=col>DaysuponOutcome.norm_l</th><th scope=col>DaysuponOutcome.norm_dp</th><th scope=col>DaysuponOutcome.norm_vm</th></tr></thead>\n",
       "<tbody>\n",
       "\t<tr><td>A671945                    </td><td>Hambone                    </td><td>2014-02-12 18:22:00        </td><td>Return_to_owner            </td><td>                           </td><td>Dog                        </td><td>Neutered Male              </td><td>1 year                     </td><td>Shetland Sheepdog Mix      </td><td>Brown/White                </td><td>365                        </td><td>[0;1095)                   </td><td>0                          </td><td>[ 270, 730)                </td><td>0.050000000                </td><td>-0.39630476                </td><td>0.050000000                </td></tr>\n",
       "\t<tr><td>A656520                    </td><td>Emily                      </td><td>2013-10-13 12:44:00        </td><td>Euthanasia                 </td><td>Suffering                  </td><td>Cat                        </td><td>Spayed Female              </td><td>1 year                     </td><td>Domestic Shorthair Mix     </td><td>Cream Tabby                </td><td>365                        </td><td>[0;1095)                   </td><td>0                          </td><td>[ 270, 730)                </td><td>0.050000000                </td><td>-0.39630476                </td><td>0.050000000                </td></tr>\n",
       "\t<tr><td>A686464                    </td><td>Pearce                     </td><td>2015-01-31 12:28:00        </td><td>Adoption                   </td><td>Foster                     </td><td>Dog                        </td><td>Neutered Male              </td><td>2 years                    </td><td>Pit Bull Mix               </td><td>Blue/White                 </td><td>730                        </td><td>[0;1095)                   </td><td>0                          </td><td> 730                       </td><td>0.100000000                </td><td>-0.05922514                </td><td>0.100000000                </td></tr>\n",
       "\t<tr><td>A683430                    </td><td>                           </td><td>2014-07-11 19:09:00        </td><td>Transfer                   </td><td>Partner                    </td><td>Cat                        </td><td>Intact Male                </td><td>3 weeks                    </td><td>Domestic Shorthair Mix     </td><td>Blue Cream                 </td><td> 21                        </td><td>[0;1095)                   </td><td>0                          </td><td>[   0,  35)                </td><td>0.002876712                </td><td>-0.71399075                </td><td>0.002876712                </td></tr>\n",
       "\t<tr><td>A667013                    </td><td>                           </td><td>2013-11-15 12:52:00        </td><td>Transfer                   </td><td>Partner                    </td><td>Dog                        </td><td>Neutered Male              </td><td>2 years                    </td><td>Lhasa Apso/Miniature Poodle</td><td>Tan                        </td><td>730                        </td><td>[0;1095)                   </td><td>0                          </td><td> 730                       </td><td>0.100000000                </td><td>-0.05922514                </td><td>0.100000000                </td></tr>\n",
       "</tbody>\n",
       "</table>\n"
      ],
      "text/latex": [
       "\\begin{tabular}{r|lllllllllllllllll}\n",
       " AnimalID & Name & DateTime & OutcomeType & OutcomeSubtype & AnimalType & SexuponOutcome & AgeuponOutcome & Breed & Color & DaysuponOutcome & DaysuponOutcome.intervalo\\_a & DaysuponOutcome.intervalo\\_b & DaysuponOutcome.intervalo\\_c & DaysuponOutcome.norm\\_l & DaysuponOutcome.norm\\_dp & DaysuponOutcome.norm\\_vm\\\\\n",
       "\\hline\n",
       "\t A671945                     & Hambone                     & 2014-02-12 18:22:00         & Return\\_to\\_owner         &                             & Dog                         & Neutered Male               & 1 year                      & Shetland Sheepdog Mix       & Brown/White                 & 365                         & {[}0;1095)                  & 0                           & {[} 270, 730)               & 0.050000000                 & -0.39630476                 & 0.050000000                \\\\\n",
       "\t A656520                     & Emily                       & 2013-10-13 12:44:00         & Euthanasia                  & Suffering                   & Cat                         & Spayed Female               & 1 year                      & Domestic Shorthair Mix      & Cream Tabby                 & 365                         & {[}0;1095)                  & 0                           & {[} 270, 730)               & 0.050000000                 & -0.39630476                 & 0.050000000                \\\\\n",
       "\t A686464                     & Pearce                      & 2015-01-31 12:28:00         & Adoption                    & Foster                      & Dog                         & Neutered Male               & 2 years                     & Pit Bull Mix                & Blue/White                  & 730                         & {[}0;1095)                  & 0                           &  730                        & 0.100000000                 & -0.05922514                 & 0.100000000                \\\\\n",
       "\t A683430                     &                             & 2014-07-11 19:09:00         & Transfer                    & Partner                     & Cat                         & Intact Male                 & 3 weeks                     & Domestic Shorthair Mix      & Blue Cream                  &  21                         & {[}0;1095)                  & 0                           & {[}   0,  35)               & 0.002876712                 & -0.71399075                 & 0.002876712                \\\\\n",
       "\t A667013                     &                             & 2013-11-15 12:52:00         & Transfer                    & Partner                     & Dog                         & Neutered Male               & 2 years                     & Lhasa Apso/Miniature Poodle & Tan                         & 730                         & {[}0;1095)                  & 0                           &  730                        & 0.100000000                 & -0.05922514                 & 0.100000000                \\\\\n",
       "\\end{tabular}\n"
      ],
      "text/markdown": [
       "\n",
       "AnimalID | Name | DateTime | OutcomeType | OutcomeSubtype | AnimalType | SexuponOutcome | AgeuponOutcome | Breed | Color | DaysuponOutcome | DaysuponOutcome.intervalo_a | DaysuponOutcome.intervalo_b | DaysuponOutcome.intervalo_c | DaysuponOutcome.norm_l | DaysuponOutcome.norm_dp | DaysuponOutcome.norm_vm | \n",
       "|---|---|---|---|---|\n",
       "| A671945                     | Hambone                     | 2014-02-12 18:22:00         | Return_to_owner             |                             | Dog                         | Neutered Male               | 1 year                      | Shetland Sheepdog Mix       | Brown/White                 | 365                         | [0;1095)                    | 0                           | [ 270, 730)                 | 0.050000000                 | -0.39630476                 | 0.050000000                 | \n",
       "| A656520                     | Emily                       | 2013-10-13 12:44:00         | Euthanasia                  | Suffering                   | Cat                         | Spayed Female               | 1 year                      | Domestic Shorthair Mix      | Cream Tabby                 | 365                         | [0;1095)                    | 0                           | [ 270, 730)                 | 0.050000000                 | -0.39630476                 | 0.050000000                 | \n",
       "| A686464                     | Pearce                      | 2015-01-31 12:28:00         | Adoption                    | Foster                      | Dog                         | Neutered Male               | 2 years                     | Pit Bull Mix                | Blue/White                  | 730                         | [0;1095)                    | 0                           |  730                        | 0.100000000                 | -0.05922514                 | 0.100000000                 | \n",
       "| A683430                     |                             | 2014-07-11 19:09:00         | Transfer                    | Partner                     | Cat                         | Intact Male                 | 3 weeks                     | Domestic Shorthair Mix      | Blue Cream                  |  21                         | [0;1095)                    | 0                           | [   0,  35)                 | 0.002876712                 | -0.71399075                 | 0.002876712                 | \n",
       "| A667013                     |                             | 2013-11-15 12:52:00         | Transfer                    | Partner                     | Dog                         | Neutered Male               | 2 years                     | Lhasa Apso/Miniature Poodle | Tan                         | 730                         | [0;1095)                    | 0                           |  730                        | 0.100000000                 | -0.05922514                 | 0.100000000                 | \n",
       "\n",
       "\n"
      ],
      "text/plain": [
       "  AnimalID Name    DateTime            OutcomeType     OutcomeSubtype\n",
       "1 A671945  Hambone 2014-02-12 18:22:00 Return_to_owner               \n",
       "2 A656520  Emily   2013-10-13 12:44:00 Euthanasia      Suffering     \n",
       "3 A686464  Pearce  2015-01-31 12:28:00 Adoption        Foster        \n",
       "4 A683430          2014-07-11 19:09:00 Transfer        Partner       \n",
       "5 A667013          2013-11-15 12:52:00 Transfer        Partner       \n",
       "  AnimalType SexuponOutcome AgeuponOutcome Breed                      \n",
       "1 Dog        Neutered Male  1 year         Shetland Sheepdog Mix      \n",
       "2 Cat        Spayed Female  1 year         Domestic Shorthair Mix     \n",
       "3 Dog        Neutered Male  2 years        Pit Bull Mix               \n",
       "4 Cat        Intact Male    3 weeks        Domestic Shorthair Mix     \n",
       "5 Dog        Neutered Male  2 years        Lhasa Apso/Miniature Poodle\n",
       "  Color       DaysuponOutcome DaysuponOutcome.intervalo_a\n",
       "1 Brown/White 365             [0;1095)                   \n",
       "2 Cream Tabby 365             [0;1095)                   \n",
       "3 Blue/White  730             [0;1095)                   \n",
       "4 Blue Cream   21             [0;1095)                   \n",
       "5 Tan         730             [0;1095)                   \n",
       "  DaysuponOutcome.intervalo_b DaysuponOutcome.intervalo_c\n",
       "1 0                           [ 270, 730)                \n",
       "2 0                           [ 270, 730)                \n",
       "3 0                            730                       \n",
       "4 0                           [   0,  35)                \n",
       "5 0                            730                       \n",
       "  DaysuponOutcome.norm_l DaysuponOutcome.norm_dp DaysuponOutcome.norm_vm\n",
       "1 0.050000000            -0.39630476             0.050000000            \n",
       "2 0.050000000            -0.39630476             0.050000000            \n",
       "3 0.100000000            -0.05922514             0.100000000            \n",
       "4 0.002876712            -0.71399075             0.002876712            \n",
       "5 0.100000000            -0.05922514             0.100000000            "
      ]
     },
     "metadata": {},
     "output_type": "display_data"
    }
   ],
   "source": [
    "head(dt,5)"
   ]
  },
  {
   "cell_type": "markdown",
   "metadata": {
    "slideshow": {
     "slide_type": "subslide"
    }
   },
   "source": [
    "- (5) O atributo **DateTime** corresponde à data e hora do animal aochegar ao abrigo. Extraia diferentes informações sobre esse atributo complexo: como o período (manhã, tarde, noite, madrugada), dia da semana em número, dia da semana extenso, entre outros. Procurar na documentação do pacote *libridate*."
   ]
  },
  {
   "cell_type": "code",
   "execution_count": 180,
   "metadata": {
    "slideshow": {
     "slide_type": "-"
    }
   },
   "outputs": [],
   "source": [
    "library(lubridate)\n",
    "dt$myDateTime <- ymd_hms(dt$DateTime)"
   ]
  },
  {
   "cell_type": "code",
   "execution_count": 184,
   "metadata": {
    "slideshow": {
     "slide_type": "-"
    }
   },
   "outputs": [],
   "source": [
    "dt$hora    <- hour(dt$DateTime)\n",
    "dt$periodo  <- dt$hora %/% 6 # A cada 6 horas\n",
    "dt$periodo  <- as.factor(dt$periodo)\n",
    "levels(dt$periodo) <- c(\"madrugada\",\"manhã\",\"tarde\",\"noite\")\n",
    "\n",
    "dt$dia.da.semana          <- wday(dt$DateTime)\n",
    "dt$dia.da.semana.extenso  <- wday(dt$DateTime, label = TRUE)\n",
    "dt$dia.do.mes  <- mday(dt$DateTime)\n",
    "dt$mes         <- month(dt$DateTime)\n",
    "dt$mes.extenso <- month(dt$DateTime, label = TRUE)\n",
    "dt$ano         <- year(dt$DateTime)"
   ]
  },
  {
   "cell_type": "markdown",
   "metadata": {},
   "source": [
    "### Conjunto de Dados Final"
   ]
  },
  {
   "cell_type": "code",
   "execution_count": 185,
   "metadata": {
    "slideshow": {
     "slide_type": "subslide"
    }
   },
   "outputs": [
    {
     "data": {
      "text/html": [
       "<table>\n",
       "<thead><tr><th scope=col>AnimalID</th><th scope=col>Name</th><th scope=col>DateTime</th><th scope=col>OutcomeType</th><th scope=col>OutcomeSubtype</th><th scope=col>AnimalType</th><th scope=col>SexuponOutcome</th><th scope=col>AgeuponOutcome</th><th scope=col>Breed</th><th scope=col>Color</th><th scope=col>...</th><th scope=col>DaysuponOutcome.norm_vm</th><th scope=col>myDateTime</th><th scope=col>hora</th><th scope=col>periodo</th><th scope=col>dia.da.semana</th><th scope=col>dia.da.semana.extenso</th><th scope=col>dia.do.mes</th><th scope=col>mes</th><th scope=col>mes.extenso</th><th scope=col>ano</th></tr></thead>\n",
       "<tbody>\n",
       "\t<tr><td>A671945                          </td><td>Hambone                          </td><td>2014-02-12 18:22:00              </td><td>Return_to_owner                  </td><td>                                 </td><td>Dog                              </td><td>Neutered Male                    </td><td>1 year                           </td><td>Shetland Sheepdog Mix            </td><td>Brown/White                      </td><td>...                              </td><td>0.050000000                      </td><td>2014-02-12 18:22:00              </td><td>18                               </td><td>noite                            </td><td>4                                </td><td>Wed                              </td><td>12                               </td><td> 2                               </td><td>Feb                              </td><td>2014                             </td></tr>\n",
       "\t<tr><td>A656520                          </td><td>Emily                            </td><td>2013-10-13 12:44:00              </td><td>Euthanasia                       </td><td>Suffering                        </td><td>Cat                              </td><td>Spayed Female                    </td><td>1 year                           </td><td>Domestic Shorthair Mix           </td><td>Cream Tabby                      </td><td>...                              </td><td>0.050000000                      </td><td>2013-10-13 12:44:00              </td><td>12                               </td><td>tarde                            </td><td>1                                </td><td>Sun                              </td><td>13                               </td><td>10                               </td><td>Oct                              </td><td>2013                             </td></tr>\n",
       "\t<tr><td>A686464                          </td><td>Pearce                           </td><td>2015-01-31 12:28:00              </td><td>Adoption                         </td><td>Foster                           </td><td>Dog                              </td><td>Neutered Male                    </td><td>2 years                          </td><td>Pit Bull Mix                     </td><td>Blue/White                       </td><td>...                              </td><td>0.100000000                      </td><td>2015-01-31 12:28:00              </td><td>12                               </td><td>tarde                            </td><td>7                                </td><td>Sat                              </td><td>31                               </td><td> 1                               </td><td>Jan                              </td><td>2015                             </td></tr>\n",
       "\t<tr><td>A683430                          </td><td>                                 </td><td>2014-07-11 19:09:00              </td><td>Transfer                         </td><td>Partner                          </td><td>Cat                              </td><td>Intact Male                      </td><td>3 weeks                          </td><td>Domestic Shorthair Mix           </td><td>Blue Cream                       </td><td>...                              </td><td>0.002876712                      </td><td>2014-07-11 19:09:00              </td><td>19                               </td><td>noite                            </td><td>6                                </td><td>Fri                              </td><td>11                               </td><td> 7                               </td><td>Jul                              </td><td>2014                             </td></tr>\n",
       "\t<tr><td>A667013                          </td><td>                                 </td><td>2013-11-15 12:52:00              </td><td>Transfer                         </td><td>Partner                          </td><td>Dog                              </td><td>Neutered Male                    </td><td>2 years                          </td><td>Lhasa Apso/Miniature Poodle      </td><td>Tan                              </td><td>...                              </td><td>0.100000000                      </td><td>2013-11-15 12:52:00              </td><td>12                               </td><td>tarde                            </td><td>6                                </td><td>Fri                              </td><td>15                               </td><td>11                               </td><td>Nov                              </td><td>2013                             </td></tr>\n",
       "\t<tr><td>A677334                          </td><td>Elsa                             </td><td>2014-04-25 13:04:00              </td><td>Transfer                         </td><td>Partner                          </td><td>Dog                              </td><td>Intact Female                    </td><td>1 month                          </td><td>Cairn Terrier/Chihuahua Shorthair</td><td>Black/Tan                        </td><td>...                              </td><td>0.004109589                      </td><td>2014-04-25 13:04:00              </td><td>13                               </td><td>tarde                            </td><td>6                                </td><td>Fri                              </td><td>25                               </td><td> 4                               </td><td>Apr                              </td><td>2014                             </td></tr>\n",
       "</tbody>\n",
       "</table>\n"
      ],
      "text/latex": [
       "\\begin{tabular}{r|llllllllllllllllllllllllll}\n",
       " AnimalID & Name & DateTime & OutcomeType & OutcomeSubtype & AnimalType & SexuponOutcome & AgeuponOutcome & Breed & Color & ... & DaysuponOutcome.norm\\_vm & myDateTime & hora & periodo & dia.da.semana & dia.da.semana.extenso & dia.do.mes & mes & mes.extenso & ano\\\\\n",
       "\\hline\n",
       "\t A671945                           & Hambone                           & 2014-02-12 18:22:00               & Return\\_to\\_owner               &                                   & Dog                               & Neutered Male                     & 1 year                            & Shetland Sheepdog Mix             & Brown/White                       & ...                               & 0.050000000                       & 2014-02-12 18:22:00               & 18                                & noite                             & 4                                 & Wed                               & 12                                &  2                                & Feb                               & 2014                             \\\\\n",
       "\t A656520                           & Emily                             & 2013-10-13 12:44:00               & Euthanasia                        & Suffering                         & Cat                               & Spayed Female                     & 1 year                            & Domestic Shorthair Mix            & Cream Tabby                       & ...                               & 0.050000000                       & 2013-10-13 12:44:00               & 12                                & tarde                             & 1                                 & Sun                               & 13                                & 10                                & Oct                               & 2013                             \\\\\n",
       "\t A686464                           & Pearce                            & 2015-01-31 12:28:00               & Adoption                          & Foster                            & Dog                               & Neutered Male                     & 2 years                           & Pit Bull Mix                      & Blue/White                        & ...                               & 0.100000000                       & 2015-01-31 12:28:00               & 12                                & tarde                             & 7                                 & Sat                               & 31                                &  1                                & Jan                               & 2015                             \\\\\n",
       "\t A683430                           &                                   & 2014-07-11 19:09:00               & Transfer                          & Partner                           & Cat                               & Intact Male                       & 3 weeks                           & Domestic Shorthair Mix            & Blue Cream                        & ...                               & 0.002876712                       & 2014-07-11 19:09:00               & 19                                & noite                             & 6                                 & Fri                               & 11                                &  7                                & Jul                               & 2014                             \\\\\n",
       "\t A667013                           &                                   & 2013-11-15 12:52:00               & Transfer                          & Partner                           & Dog                               & Neutered Male                     & 2 years                           & Lhasa Apso/Miniature Poodle       & Tan                               & ...                               & 0.100000000                       & 2013-11-15 12:52:00               & 12                                & tarde                             & 6                                 & Fri                               & 15                                & 11                                & Nov                               & 2013                             \\\\\n",
       "\t A677334                           & Elsa                              & 2014-04-25 13:04:00               & Transfer                          & Partner                           & Dog                               & Intact Female                     & 1 month                           & Cairn Terrier/Chihuahua Shorthair & Black/Tan                         & ...                               & 0.004109589                       & 2014-04-25 13:04:00               & 13                                & tarde                             & 6                                 & Fri                               & 25                                &  4                                & Apr                               & 2014                             \\\\\n",
       "\\end{tabular}\n"
      ],
      "text/markdown": [
       "\n",
       "AnimalID | Name | DateTime | OutcomeType | OutcomeSubtype | AnimalType | SexuponOutcome | AgeuponOutcome | Breed | Color | ... | DaysuponOutcome.norm_vm | myDateTime | hora | periodo | dia.da.semana | dia.da.semana.extenso | dia.do.mes | mes | mes.extenso | ano | \n",
       "|---|---|---|---|---|---|\n",
       "| A671945                           | Hambone                           | 2014-02-12 18:22:00               | Return_to_owner                   |                                   | Dog                               | Neutered Male                     | 1 year                            | Shetland Sheepdog Mix             | Brown/White                       | ...                               | 0.050000000                       | 2014-02-12 18:22:00               | 18                                | noite                             | 4                                 | Wed                               | 12                                |  2                                | Feb                               | 2014                              | \n",
       "| A656520                           | Emily                             | 2013-10-13 12:44:00               | Euthanasia                        | Suffering                         | Cat                               | Spayed Female                     | 1 year                            | Domestic Shorthair Mix            | Cream Tabby                       | ...                               | 0.050000000                       | 2013-10-13 12:44:00               | 12                                | tarde                             | 1                                 | Sun                               | 13                                | 10                                | Oct                               | 2013                              | \n",
       "| A686464                           | Pearce                            | 2015-01-31 12:28:00               | Adoption                          | Foster                            | Dog                               | Neutered Male                     | 2 years                           | Pit Bull Mix                      | Blue/White                        | ...                               | 0.100000000                       | 2015-01-31 12:28:00               | 12                                | tarde                             | 7                                 | Sat                               | 31                                |  1                                | Jan                               | 2015                              | \n",
       "| A683430                           |                                   | 2014-07-11 19:09:00               | Transfer                          | Partner                           | Cat                               | Intact Male                       | 3 weeks                           | Domestic Shorthair Mix            | Blue Cream                        | ...                               | 0.002876712                       | 2014-07-11 19:09:00               | 19                                | noite                             | 6                                 | Fri                               | 11                                |  7                                | Jul                               | 2014                              | \n",
       "| A667013                           |                                   | 2013-11-15 12:52:00               | Transfer                          | Partner                           | Dog                               | Neutered Male                     | 2 years                           | Lhasa Apso/Miniature Poodle       | Tan                               | ...                               | 0.100000000                       | 2013-11-15 12:52:00               | 12                                | tarde                             | 6                                 | Fri                               | 15                                | 11                                | Nov                               | 2013                              | \n",
       "| A677334                           | Elsa                              | 2014-04-25 13:04:00               | Transfer                          | Partner                           | Dog                               | Intact Female                     | 1 month                           | Cairn Terrier/Chihuahua Shorthair | Black/Tan                         | ...                               | 0.004109589                       | 2014-04-25 13:04:00               | 13                                | tarde                             | 6                                 | Fri                               | 25                                |  4                                | Apr                               | 2014                              | \n",
       "\n",
       "\n"
      ],
      "text/plain": [
       "  AnimalID Name    DateTime            OutcomeType     OutcomeSubtype\n",
       "1 A671945  Hambone 2014-02-12 18:22:00 Return_to_owner               \n",
       "2 A656520  Emily   2013-10-13 12:44:00 Euthanasia      Suffering     \n",
       "3 A686464  Pearce  2015-01-31 12:28:00 Adoption        Foster        \n",
       "4 A683430          2014-07-11 19:09:00 Transfer        Partner       \n",
       "5 A667013          2013-11-15 12:52:00 Transfer        Partner       \n",
       "6 A677334  Elsa    2014-04-25 13:04:00 Transfer        Partner       \n",
       "  AnimalType SexuponOutcome AgeuponOutcome Breed                            \n",
       "1 Dog        Neutered Male  1 year         Shetland Sheepdog Mix            \n",
       "2 Cat        Spayed Female  1 year         Domestic Shorthair Mix           \n",
       "3 Dog        Neutered Male  2 years        Pit Bull Mix                     \n",
       "4 Cat        Intact Male    3 weeks        Domestic Shorthair Mix           \n",
       "5 Dog        Neutered Male  2 years        Lhasa Apso/Miniature Poodle      \n",
       "6 Dog        Intact Female  1 month        Cairn Terrier/Chihuahua Shorthair\n",
       "  Color       ... DaysuponOutcome.norm_vm myDateTime          hora periodo\n",
       "1 Brown/White ... 0.050000000             2014-02-12 18:22:00 18   noite  \n",
       "2 Cream Tabby ... 0.050000000             2013-10-13 12:44:00 12   tarde  \n",
       "3 Blue/White  ... 0.100000000             2015-01-31 12:28:00 12   tarde  \n",
       "4 Blue Cream  ... 0.002876712             2014-07-11 19:09:00 19   noite  \n",
       "5 Tan         ... 0.100000000             2013-11-15 12:52:00 12   tarde  \n",
       "6 Black/Tan   ... 0.004109589             2014-04-25 13:04:00 13   tarde  \n",
       "  dia.da.semana dia.da.semana.extenso dia.do.mes mes mes.extenso ano \n",
       "1 4             Wed                   12          2  Feb         2014\n",
       "2 1             Sun                   13         10  Oct         2013\n",
       "3 7             Sat                   31          1  Jan         2015\n",
       "4 6             Fri                   11          7  Jul         2014\n",
       "5 6             Fri                   15         11  Nov         2013\n",
       "6 6             Fri                   25          4  Apr         2014"
      ]
     },
     "metadata": {},
     "output_type": "display_data"
    }
   ],
   "source": [
    "head(dt)"
   ]
  },
  {
   "cell_type": "markdown",
   "metadata": {},
   "source": [
    "### Salvando o Conjunto de Dados"
   ]
  },
  {
   "cell_type": "code",
   "execution_count": 186,
   "metadata": {},
   "outputs": [],
   "source": [
    "fwrite (x = dt, file = \"data/train_processed.csv\" )"
   ]
  }
 ],
 "metadata": {
  "anaconda-cloud": {},
  "kernelspec": {
   "display_name": "R",
   "language": "R",
   "name": "ir"
  },
  "language_info": {
   "codemirror_mode": "r",
   "file_extension": ".r",
   "mimetype": "text/x-r-source",
   "name": "R",
   "pygments_lexer": "r",
   "version": "3.3.3"
  }
 },
 "nbformat": 4,
 "nbformat_minor": 2
}
