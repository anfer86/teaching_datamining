{
 "cells": [
  {
   "cell_type": "markdown",
   "metadata": {
    "slideshow": {
     "slide_type": "slide"
    }
   },
   "source": [
    "<link rel=\"stylesheet\" href=\"estilo.css\">\n",
    "\n",
    "<img src=\"img/logoifsc.png\">"
   ]
  },
  {
   "cell_type": "markdown",
   "metadata": {},
   "source": [
    "---\n",
    "\n",
    "Prof. Carlos Andrés Ferrero\n",
    "\n",
    "# Mineração de Dados\n",
    "\n",
    "## Pré-processamento: Medidas de qualidade de atributos\n",
    "    \n",
    "---"
   ]
  },
  {
   "cell_type": "markdown",
   "metadata": {
    "slideshow": {
     "slide_type": "subslide"
    }
   },
   "source": [
    "- Conteúdo\n",
    "    - Entropia\n",
    "        - Entropia para problemas de duas classes\n",
    "        - Entropia para problemas múltiplas classes\n",
    "    - Entropia de um Atributo\n",
    "    - Ganho de Informação"
   ]
  },
  {
   "cell_type": "markdown",
   "metadata": {
    "slideshow": {
     "slide_type": "subslide"
    }
   },
   "source": [
    "## Entropia\n",
    "\n",
    "- A *entropia* é uma medida de qualidade de atributos que mede a *desordem* de um conjunto de dados.\n",
    "\n",
    "- Essa *desordem* diz respeito a quão bem organizados estão os dados em relação à classe. \n",
    "\n",
    "- A medida é supervisionada, portanto para medir a *entropia* de um atributo precisamos ter um atributo classe."
   ]
  },
  {
   "cell_type": "markdown",
   "metadata": {
    "slideshow": {
     "slide_type": "subslide"
    }
   },
   "source": [
    "### Cálculo de Entropia em um Problema de Duas Clases\n",
    "\n",
    "- Considere um problema de duas clases em que uma delas é positiva (+) e a outra negativa (-). E um conjunto de dados $X$ que possui dados sobre esse problema.\n",
    "\n",
    "- A função para medir a entropia é dada por:\n",
    "\n",
    "$$ E(X) = -\\;(\\;\\;p_+  \\log_2{p_+}\\;\\;+\\;\\;p_- \\times \\log_2{p_-}\\;\\;) $$\n",
    "\n",
    "- onde, \n",
    "    - $p_+$ é a probabilidade de um exemplo ser da classe positiva\n",
    "    - $p_-$ é a probabilidade de um exemplo ser da classe negativa"
   ]
  },
  {
   "cell_type": "markdown",
   "metadata": {
    "slideshow": {
     "slide_type": "subslide"
    }
   },
   "source": [
    "### Exemplos\n",
    "- Vamos imaginar três possíveis conjuntos de dados para $X$\n",
    "    1. $X_1$ só terá exemplos da classe positiva (+)\n",
    "    2. $X_2$ só terá exemplos da classe negativa (-)\n",
    "    3. $X_3$ terá metade dos exemplos da classe positiva e a outra metade da classe negativa"
   ]
  },
  {
   "cell_type": "markdown",
   "metadata": {
    "slideshow": {
     "slide_type": "subslide"
    }
   },
   "source": [
    "- Como $X_1$ só tem exemplos da classe positiva, então a probabilidade de um exemplo ser:\n",
    "    - da classe positiva é simplesmente $p_+=1$\n",
    "    - da classe negativa é $p_-=0$\n",
    "- A entropia de $X_1$ é:\n",
    "\n",
    "\\begin{array}{lcl} \n",
    "E(X)&= & -\\;(&p_+ \\times \\log_2{p_+} & + & p_- \\times \\log_2{p_-}&)  \\\\ \n",
    "E(X_1)&= & -\\;(&1 \\times \\log_2{1} & + & 0 \\times \\log_2{0}&)  \\\\ \n",
    "E(X_1)&= & -\\;(&1 \\times 0 & + & 0 &)  \\\\ \n",
    "E(X_1)&= & -\\;(& 0 & + & 0 &)  \\\\ \n",
    "E(X_1)&= & 0\n",
    "\\end{array}\n",
    "\n",
    "- Uma *entropia* igual a *zero* significa que não há desordem neste conjunto de dados, devido a que todas os exemplos de $X_1$ são da mesma classe."
   ]
  },
  {
   "cell_type": "markdown",
   "metadata": {
    "slideshow": {
     "slide_type": "subslide"
    }
   },
   "source": [
    "- O conjunto $X_2$ apenas tem exemplos da classe negativa, então a probabilidade de um exemplo ser:\n",
    "    - da classe positiva é $p_+=0$\n",
    "    - da classe negativa é $p_-=1$\n",
    "- A entropia de $X_2$ é:\n",
    "\n",
    "\\begin{array}{llllll}\n",
    "E(X)&= & -\\;(&p_+ \\times \\log_2{p_+} & + & p_- \\times \\log_2{p_-}&)  \\\\ \n",
    "E(X_2)&= & -\\;(&0 \\times \\log_2{0} & + & 1 \\times \\log_2{1}&)  \\\\ \n",
    "E(X_2)&= & -\\;(&0 & + & 1 \\times 0&)  \\\\ \n",
    "E(X_2)&= & -\\;(& 0 & + & 0 &)  \\\\ \n",
    "E(X_2)&= & 0\n",
    "\\end{array}\n",
    "\n",
    "- Neste caso, a *desordem* também é zero devido a todos os elementos serem da classe negativa (-)"
   ]
  },
  {
   "cell_type": "markdown",
   "metadata": {
    "slideshow": {
     "slide_type": "subslide"
    }
   },
   "source": [
    "- Já no conjunto $X_3$ temos exemplos de ambas as classes, e a probabilidade de ser:\n",
    "    - da classe positiva é $p_+=1/2$ ou $0.5$ ou $2^{-1}$\n",
    "    - da classe negativa é $p_+=1/2$\n",
    "- A entropia é: \n",
    "\n",
    "\\begin{array}{llllll}\n",
    "E(X)&= & -\\;(&p_+ \\times \\log_2{p_+} & + & p_- \\times \\log_2{p_-}&)  \\\\ \n",
    "E(X_3)&= & -\\;(&0.5 \\times \\log_2{0.5} & + & 0.5 \\times \\log_2{0.5}&)  \\\\ \n",
    "E(X_3)&= & -\\;(&0.5 \\times \\log_2{2^{-1}} & + & 0.5 \\times \\log_2{2^{-1}}&)  \\\\ \n",
    "E(X_3)&= & -\\;(&-0.5 \\times \\log_2{2} & + & - 0.5 \\times \\log_2{2}&)  \\\\ \n",
    "E(X_3)&= & -\\;(&-0.5 \\times 1 & + & - 0.5 \\times 1&)  \\\\ \n",
    "E(X_3)&= & -\\;(&-0.5 & + & -0.5 &)  \\\\ \n",
    "E(X_3)&= & -\\;(& - 1 &&&)  \\\\ \n",
    "E(X_3)&= & 1\n",
    "\\end{array}\n",
    "\n",
    "- No conjunto $X_3$ a *entropia* ou desordem é 1 (máxima), pois não é possível observar que alguma das classes prevalece nesse conjunto de dados."
   ]
  },
  {
   "cell_type": "markdown",
   "metadata": {
    "slideshow": {
     "slide_type": "subslide"
    }
   },
   "source": [
    "- Agora, vamos considerar um conjunto de dados $X_4$ que possui $1/4$ de exemplos da classe positiva e $3/4$ de exemplos da classe negativa.\n",
    "\n",
    "- Espera-se que o valor da entropia esteja entre 0 e 1. Vejamos:\n",
    "\n",
    "\\begin{array}{llllll}\n",
    "E(X)&  = & -\\;(&p_+ \\times \\log_2{p_+}   & + & p_- \\times \\log_2{p_-}&)  \\\\ \n",
    "E(X_4)&= & -\\;(&1/4 \\times \\log_2{1/4} & + & 3/4 \\times \\log_2{3/4}&)  \\\\ \n",
    "E(X_4)&= & -\\;(&1/4 \\times [\\log_2{1} - \\log_2{4}] & + & 3/4 \\times [\\log_2{3} - \\log_2{4}]&)  \\\\ \n",
    "E(X_4)&= & -\\;(&1/4 \\times [0 - 2] & + & 3/4 \\times [1.58 - 2]&)  \\\\ \n",
    "E(X_4)&= & -\\;(&1/4 \\times -2 & + & 3/4 \\times -0.42&)  \\\\ \n",
    "E(X_4)&= & -\\;(&-0.5 & + & -0.32&)  \\\\ \n",
    "E(X_4)&= & -\\;(&-0.82 &&& )  \\\\ \n",
    "E(X_4)&= & 0.82  \\\\ \n",
    "\\end{array}"
   ]
  },
  {
   "cell_type": "markdown",
   "metadata": {
    "slideshow": {
     "slide_type": "subslide"
    }
   },
   "source": [
    "### Uma função para cálculo de entropia para duas classes\n",
    "\n",
    "- Nesta função podemos passar apenas a probabilidade da classe positiva e, com ela, calcular a probabilidade da negativa.\n",
    "\n",
    "- Da forma como esta função foi implementada ela permite calcular a entropia de um valor de probabilidade ou de um vetor de valores de probabilidade."
   ]
  },
  {
   "cell_type": "code",
   "execution_count": 77,
   "metadata": {
    "slideshow": {
     "slide_type": "-"
    }
   },
   "outputs": [],
   "source": [
    "entropy.binary <- function(prob.positive){\n",
    "    pa <- prob.positive\n",
    "    pb <- 1 - prob.positive\n",
    "    primeiro.termo <- ifelse(pa == 0, 0, pa * log2(pa)) \n",
    "    segundo.termo  <- ifelse(pb == 0, 0, pb * log2(pb)) \n",
    "    entropy <- (-1) * (primeiro.termo + segundo.termo)\n",
    "    entropy\n",
    "}"
   ]
  },
  {
   "cell_type": "markdown",
   "metadata": {
    "slideshow": {
     "slide_type": "subslide"
    }
   },
   "source": [
    "- Com essa função podemos calcular qual a entropia à medida que a probabilidade da classe positiva aumenta de 5% em 5%."
   ]
  },
  {
   "cell_type": "code",
   "execution_count": 78,
   "metadata": {},
   "outputs": [
    {
     "data": {
      "text/html": [
       "<table>\n",
       "<thead><tr><th scope=col>prob.positive</th><th scope=col>entropy</th></tr></thead>\n",
       "<tbody>\n",
       "\t<tr><td>0.00     </td><td>0.0000000</td></tr>\n",
       "\t<tr><td>0.05     </td><td>0.2863970</td></tr>\n",
       "\t<tr><td>0.10     </td><td>0.4689956</td></tr>\n",
       "\t<tr><td>0.15     </td><td>0.6098403</td></tr>\n",
       "\t<tr><td>0.20     </td><td>0.7219281</td></tr>\n",
       "\t<tr><td>0.25     </td><td>0.8112781</td></tr>\n",
       "</tbody>\n",
       "</table>\n"
      ],
      "text/latex": [
       "\\begin{tabular}{r|ll}\n",
       " prob.positive & entropy\\\\\n",
       "\\hline\n",
       "\t 0.00      & 0.0000000\\\\\n",
       "\t 0.05      & 0.2863970\\\\\n",
       "\t 0.10      & 0.4689956\\\\\n",
       "\t 0.15      & 0.6098403\\\\\n",
       "\t 0.20      & 0.7219281\\\\\n",
       "\t 0.25      & 0.8112781\\\\\n",
       "\\end{tabular}\n"
      ],
      "text/markdown": [
       "\n",
       "prob.positive | entropy | \n",
       "|---|---|---|---|---|---|\n",
       "| 0.00      | 0.0000000 | \n",
       "| 0.05      | 0.2863970 | \n",
       "| 0.10      | 0.4689956 | \n",
       "| 0.15      | 0.6098403 | \n",
       "| 0.20      | 0.7219281 | \n",
       "| 0.25      | 0.8112781 | \n",
       "\n",
       "\n"
      ],
      "text/plain": [
       "  prob.positive entropy  \n",
       "1 0.00          0.0000000\n",
       "2 0.05          0.2863970\n",
       "3 0.10          0.4689956\n",
       "4 0.15          0.6098403\n",
       "5 0.20          0.7219281\n",
       "6 0.25          0.8112781"
      ]
     },
     "metadata": {},
     "output_type": "display_data"
    }
   ],
   "source": [
    "library(data.table)\n",
    "prob.positive <- seq(0,1,0.05) # Cria sequencia de 5% em 5%\n",
    "entropy <- entropy.binary(prob.positive) # Calcula entropia\n",
    "dt.entropy <- data.table(prob.positive, entropy)\n",
    "head(dt.entropy)"
   ]
  },
  {
   "cell_type": "code",
   "execution_count": 79,
   "metadata": {
    "slideshow": {
     "slide_type": "subslide"
    }
   },
   "outputs": [
    {
     "data": {},
     "metadata": {},
     "output_type": "display_data"
    },
    {
     "data": {
      "image/png": "[encoded data removed]",
      "text/plain": [
       "plot without title"
      ]
     },
     "metadata": {},
     "output_type": "display_data"
    }
   ],
   "source": [
    "library(ggplot2)\n",
    "options(repr.plot.width=4, repr.plot.height=3)\n",
    "ggplot(dt.entropy, aes(x=prob.positive, y=entropy)) + geom_line() + geom_point()"
   ]
  },
  {
   "cell_type": "markdown",
   "metadata": {
    "slideshow": {
     "slide_type": "subslide"
    }
   },
   "source": [
    "### Cálculo de Entropia para um Problema de Múltiplas Classe\n",
    "\n",
    "- Muitos dos problemas que nos enfrentamos atualmente em mineração de dados possuem mais do que duas classes\n",
    "\n",
    "- A Equação geral para cálculo de entropia de um conjunto de dados é:\n",
    "\n",
    "$$ E(X) = - \\sum_{i}^{c} p_i \\times \\log_2{p_i} $$\n",
    "\n",
    "- onde,\n",
    "    - $c$ é o número de classes do problema.\n",
    "    - $p_i$ é a probabilidade de um exemplo ser da $i$-ésima classe."
   ]
  },
  {
   "cell_type": "markdown",
   "metadata": {
    "slideshow": {
     "slide_type": "subslide"
    }
   },
   "source": [
    "- Note que para $c=2$ a equação é equivalente à de duas classes, definida anteriormente:\n",
    "\n",
    "$$ E(X) = - \\sum_{i=1}^{c=2} p_i \\times \\log_2{p_i} = -\\;(\\;\\;p_1 \\times \\log_2{p_1}\\;+\\;p_2 \\times \\log_2{p_2}\\;\\;)$$"
   ]
  },
  {
   "cell_type": "markdown",
   "metadata": {
    "slideshow": {
     "slide_type": "subslide"
    }
   },
   "source": [
    "### Entropia do Atributo\n",
    "\n",
    "- Embora já conseguimos calcular a entropia de um conjunto de dados, baseado na sua classe, ainda precisamos calcular a *desordem* que cada atributo produz no conjunto de dados.\n",
    "\n",
    "- Um atributo terá uma baixa entropia se os seus valores permitem dividir o conjunto de dados em partes com baixa entropia.\n",
    "\n",
    "- Assim, para um atributo ter entropia 0 precisará que os valores do atributo dividam o conjunto de dados em partes com apenas uma classe. Por exemplo,"
   ]
  },
  {
   "cell_type": "code",
   "execution_count": 80,
   "metadata": {
    "slideshow": {
     "slide_type": "-"
    }
   },
   "outputs": [
    {
     "data": {
      "text/html": [
       "<table>\n",
       "<thead><tr><th scope=col>atributo</th><th scope=col>classe</th></tr></thead>\n",
       "<tbody>\n",
       "\t<tr><td>v1</td><td>c1</td></tr>\n",
       "\t<tr><td>v1</td><td>c1</td></tr>\n",
       "\t<tr><td>v2</td><td>c2</td></tr>\n",
       "\t<tr><td>v2</td><td>c2</td></tr>\n",
       "\t<tr><td>v3</td><td>c3</td></tr>\n",
       "\t<tr><td>v3</td><td>c3</td></tr>\n",
       "</tbody>\n",
       "</table>\n"
      ],
      "text/latex": [
       "\\begin{tabular}{r|ll}\n",
       " atributo & classe\\\\\n",
       "\\hline\n",
       "\t v1 & c1\\\\\n",
       "\t v1 & c1\\\\\n",
       "\t v2 & c2\\\\\n",
       "\t v2 & c2\\\\\n",
       "\t v3 & c3\\\\\n",
       "\t v3 & c3\\\\\n",
       "\\end{tabular}\n"
      ],
      "text/markdown": [
       "\n",
       "atributo | classe | \n",
       "|---|---|---|---|---|---|\n",
       "| v1 | c1 | \n",
       "| v1 | c1 | \n",
       "| v2 | c2 | \n",
       "| v2 | c2 | \n",
       "| v3 | c3 | \n",
       "| v3 | c3 | \n",
       "\n",
       "\n"
      ],
      "text/plain": [
       "  atributo classe\n",
       "1 v1       c1    \n",
       "2 v1       c1    \n",
       "3 v2       c2    \n",
       "4 v2       c2    \n",
       "5 v3       c3    \n",
       "6 v3       c3    "
      ]
     },
     "metadata": {},
     "output_type": "display_data"
    }
   ],
   "source": [
    "dt <- data.table(atributo = rep(c(\"v1\",\"v2\",\"v3\"),2),           \n",
    "                 classe   = rep(c(\"c1\",\"c2\",\"c3\"),2))[order(classe)]     \n",
    "dt"
   ]
  },
  {
   "cell_type": "markdown",
   "metadata": {
    "slideshow": {
     "slide_type": "subslide"
    }
   },
   "source": [
    "- Observe o número de exemplos de cada classe para cada valor do atributo."
   ]
  },
  {
   "cell_type": "code",
   "execution_count": 81,
   "metadata": {},
   "outputs": [
    {
     "data": {
      "text/plain": [
       "    \n",
       "     c1 c2 c3\n",
       "  v1  2  0  0\n",
       "  v2  0  2  0\n",
       "  v3  0  0  2"
      ]
     },
     "metadata": {},
     "output_type": "display_data"
    }
   ],
   "source": [
    "table(dt$atributo,dt$classe)"
   ]
  },
  {
   "cell_type": "markdown",
   "metadata": {},
   "source": [
    "- Cada valor de atributo apresenta exemplos de apenas uma classe. Isso significa que os valores desse atributo permitem diferenciar bem as classes do problema."
   ]
  },
  {
   "cell_type": "markdown",
   "metadata": {
    "slideshow": {
     "slide_type": "subslide"
    }
   },
   "source": [
    "- Para calcular a entropia de um atributo é necessário calcular a entropia de cada um dos conjuntos de dados gerados pelos seus valores e usar esse valor proporcionalmente ao tamanho de cada conjunto.\n",
    "\n",
    "- Seja um atributo $A$ com possíveis valores $v_1, v_2, \\ldots, v_m$, o calculo de Entropia do atributo $A$ é definido por:\n",
    "\n",
    "$$ E(X,A) = \\sum_{j=1}^{m} \\frac{|X_{j}|}{|X|} \\times E(X_{j})  $$\n",
    "\n",
    "- onde,\n",
    "    - $A$ é um atributo\n",
    "    - $v$ é cada valor do atributo $A$, sem repetir\n",
    "    - $X_{j}$ é a parte do conjunto de dados em que o atributo $A$ possui valor $v_j$\n",
    "    - $|X_{j}| / |X|$ é a proporção de valores $v_j$ no conjunto de dados\n",
    "    - $E(X_j)$ é a entropia do conjunto $X_j$"
   ]
  },
  {
   "cell_type": "markdown",
   "metadata": {
    "slideshow": {
     "slide_type": "subslide"
    }
   },
   "source": [
    "### Função para Cálculo da Entropia do Atributo"
   ]
  },
  {
   "cell_type": "code",
   "execution_count": 82,
   "metadata": {
    "slideshow": {
     "slide_type": "subslide"
    }
   },
   "outputs": [
    {
     "name": "stdout",
     "output_type": "stream",
     "text": [
      "class.attribute\n",
      "c1 \n",
      " 1 \n",
      "class.attribute\n",
      "c2 \n",
      " 1 \n",
      "class.attribute\n",
      "c3 \n",
      " 1 \n",
      "   atributo      prop entropy\n",
      "1:       v1 0.3333333       0\n",
      "2:       v2 0.3333333       0\n",
      "3:       v3 0.3333333       0\n"
     ]
    },
    {
     "data": {
      "text/html": [
       "0"
      ],
      "text/latex": [
       "0"
      ],
      "text/markdown": [
       "0"
      ],
      "text/plain": [
       "[1] 0"
      ]
     },
     "metadata": {},
     "output_type": "display_data"
    }
   ],
   "source": [
    "entropy <- function(class.attribute){\n",
    "    prob <- table(class.attribute)/length(class.attribute)\n",
    "    print(prob)\n",
    "    entropy <- (-1) * sum(prob * log2(prob))\n",
    "    entropy    \n",
    "}\n",
    "\n",
    "entropy.attr <- function(X,A){\n",
    "    n <- nrow(X)\n",
    "    new.X <- X[,.(prop = .N/n, entropy = entropy(classe)),by=A]   \n",
    "    print(new.X)\n",
    "    entropy.attr <- sum(new.X$prop * new.X$entropy)     \n",
    "    entropy.attr\n",
    "}\n",
    "\n",
    "entropy.attr(dt,\"atributo\")"
   ]
  },
  {
   "cell_type": "markdown",
   "metadata": {
    "slideshow": {
     "slide_type": "slide"
    }
   },
   "source": [
    "## Dados de Shelter Animals"
   ]
  },
  {
   "cell_type": "code",
   "execution_count": 83,
   "metadata": {},
   "outputs": [],
   "source": [
    "dt <- fread (file = \"data/train_processed.csv\" )"
   ]
  },
  {
   "cell_type": "code",
   "execution_count": 84,
   "metadata": {},
   "outputs": [
    {
     "name": "stdout",
     "output_type": "stream",
     "text": [
      "numeric(0)\n"
     ]
    },
    {
     "data": {
      "text/html": [
       "0"
      ],
      "text/latex": [
       "0"
      ],
      "text/markdown": [
       "0"
      ],
      "text/plain": [
       "[1] 0"
      ]
     },
     "metadata": {},
     "output_type": "display_data"
    }
   ],
   "source": [
    "entropy(dt$classe)"
   ]
  },
  {
   "cell_type": "code",
   "execution_count": 85,
   "metadata": {},
   "outputs": [
    {
     "ename": "ERROR",
     "evalue": "Error in table(class.attribute): object 'classe' not found\n",
     "output_type": "error",
     "traceback": [
      "Error in table(class.attribute): object 'classe' not found\nTraceback:\n",
      "1. entropy.attr(dt, \"SexuponOutcome\")",
      "2. X[, .(prop = .N/n, entropy = entropy(classe)), by = A]   # at line 10 of file <text>",
      "3. `[.data.table`(X, , .(prop = .N/n, entropy = entropy(classe)), \n .     by = A)   # at line 10 of file <text>",
      "4. entropy(classe)",
      "5. table(class.attribute)   # at line 2 of file <text>"
     ]
    }
   ],
   "source": [
    "entropy.attr(dt,\"SexuponOutcome\")"
   ]
  },
  {
   "cell_type": "code",
   "execution_count": null,
   "metadata": {},
   "outputs": [],
   "source": []
  }
 ],
 "metadata": {
  "anaconda-cloud": {},
  "kernelspec": {
   "display_name": "R",
   "language": "R",
   "name": "ir"
  },
  "language_info": {
   "codemirror_mode": "r",
   "file_extension": ".r",
   "mimetype": "text/x-r-source",
   "name": "R",
   "pygments_lexer": "r",
   "version": "3.3.3"
  }
 },
 "nbformat": 4,
 "nbformat_minor": 2
}
