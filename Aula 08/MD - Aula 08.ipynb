{
 "cells": [
  {
   "cell_type": "markdown",
   "metadata": {
    "slideshow": {
     "slide_type": "slide"
    }
   },
   "source": [
    "<link rel=\"stylesheet\" href=\"estilo.css\">\n",
    "\n",
    "<img src=\"img/logoifsc.png\">"
   ]
  },
  {
   "cell_type": "markdown",
   "metadata": {},
   "source": [
    "---\n",
    "\n",
    "Prof. Carlos Andrés Ferrero\n",
    "\n",
    "# Mineração de Dados\n",
    "\n",
    "## Pré-processamento: Medidas de qualidade de atributos\n",
    "    \n",
    "---"
   ]
  },
  {
   "cell_type": "markdown",
   "metadata": {
    "slideshow": {
     "slide_type": "slide"
    }
   },
   "source": [
    "## Conteúdo\n",
    "- Entropia\n",
    "    - Entropia para problemas de duas classes\n",
    "    - Entropia para problemas múltiplas classes\n",
    "- Entropia de Atributos\n",
    "- Medidas de Importância\n",
    "    - Ganho de Informação (*Information Gain*)\n",
    "    - Taxa de Ganho (*Gain Ratio*)"
   ]
  },
  {
   "cell_type": "markdown",
   "metadata": {
    "slideshow": {
     "slide_type": "slide"
    }
   },
   "source": [
    "## Introduçao"
   ]
  },
  {
   "cell_type": "code",
   "execution_count": 125,
   "metadata": {
    "slideshow": {
     "slide_type": "skip"
    }
   },
   "outputs": [],
   "source": [
    "library(arules)\n",
    "dt <- data.table(iris)[,.(atributo1 = Sepal.Length, classe = as.factor(Species) )]\n",
    "dt$atributo1<- discretize(dt$atributo1, categories = 3)\n",
    "dt$atributo2<- as.factor(sample(c(\"v1\",\"v2\",\"v3\",\"v4\",\"v5\"), size=150, replace=T))\n",
    "levels(dt$atributo1) <- c(\"v1\",\"v2\",\"v3\")\n",
    "levels(dt$classe) <- c(\"A\",\"B\",\"C\")\n",
    "dt.melt <- melt(dt, id.vars = \"classe\")\n",
    "library(ggplot2)\n",
    "options(repr.plot.width=7, repr.plot.height=3)\n",
    "plot1 <- ggplot(dt.melt , aes(x=value, fill = classe)) + geom_bar() + facet_wrap( ~ variable, scales=\"free_x\")"
   ]
  },
  {
   "cell_type": "code",
   "execution_count": 126,
   "metadata": {
    "slideshow": {
     "slide_type": "-"
    }
   },
   "outputs": [
    {
     "data": {},
     "metadata": {},
     "output_type": "display_data"
    },
    {
     "data": {
      "image/png": "[encoded data removed]",
      "text/plain": [
       "plot without title"
      ]
     },
     "metadata": {},
     "output_type": "display_data"
    }
   ],
   "source": [
    "plot1"
   ]
  },
  {
   "cell_type": "code",
   "execution_count": 127,
   "metadata": {
    "slideshow": {
     "slide_type": "skip"
    }
   },
   "outputs": [],
   "source": [
    "dt <- fread (file = \"data/train_processed.csv\" )\n",
    "dt <- dt[,.(classe = OutcomeType, atributo1 = SexuponOutcome, atributo2 = AgeuponOutcome)]\n",
    "dt.melt <- melt(dt, id.vars = \"classe\")\n",
    "plot2 <- ggplot(dt.melt , aes(x=value, fill = classe)) + geom_bar() + facet_wrap( ~ variable, scales=\"free_x\") + theme(axis.text.x = element_text(angle = 90, size = 8))"
   ]
  },
  {
   "cell_type": "code",
   "execution_count": 128,
   "metadata": {
    "slideshow": {
     "slide_type": "subslide"
    }
   },
   "outputs": [
    {
     "data": {},
     "metadata": {},
     "output_type": "display_data"
    },
    {
     "data": {
      "image/png": "[encoded data removed]",
      "text/plain": [
       "plot without title"
      ]
     },
     "metadata": {},
     "output_type": "display_data"
    }
   ],
   "source": [
    "plot2"
   ]
  },
  {
   "cell_type": "markdown",
   "metadata": {
    "slideshow": {
     "slide_type": "slide"
    }
   },
   "source": [
    "## Entropia\n",
    "\n",
    "- A *entropia* é uma medida de qualidade de atributos que mede a *desordem* de um conjunto de dados.\n",
    "\n",
    "- Essa *desordem* diz respeito a quão bem organizados estão os dados em relação à classe. \n",
    "\n",
    "- A medida é supervisionada, portanto para medir a *entropia* de um atributo precisamos ter um atributo classe."
   ]
  },
  {
   "cell_type": "markdown",
   "metadata": {
    "slideshow": {
     "slide_type": "subslide"
    }
   },
   "source": [
    "### Cálculo de Entropia em um Problema de Duas Clases\n",
    "\n",
    "- Considere um problema de duas clases em que uma delas é positiva (+) e a outra negativa (-). E um conjunto de dados $X$ que possui dados sobre esse problema.\n",
    "\n",
    "- A função para medir a entropia é dada por:\n",
    "\n",
    "$$ E(X) = -\\;(\\;\\;p_+  \\log_2{p_+}\\;\\;+\\;\\;p_- \\times \\log_2{p_-}\\;\\;) $$\n",
    "\n",
    "- onde, \n",
    "    - $p_+$ é a probabilidade de um exemplo ser da classe positiva\n",
    "    - $p_-$ é a probabilidade de um exemplo ser da classe negativa"
   ]
  },
  {
   "cell_type": "markdown",
   "metadata": {
    "slideshow": {
     "slide_type": "subslide"
    }
   },
   "source": [
    "### Exemplos\n",
    "- Vamos imaginar três possíveis conjuntos de dados para $X$\n",
    "    1. $X_1$ só terá exemplos da classe positiva (+)\n",
    "    2. $X_2$ só terá exemplos da classe negativa (-)\n",
    "    3. $X_3$ terá metade dos exemplos da classe positiva e a outra metade da classe negativa"
   ]
  },
  {
   "cell_type": "markdown",
   "metadata": {
    "slideshow": {
     "slide_type": "subslide"
    }
   },
   "source": [
    "- Como $X_1$ só tem exemplos da classe positiva, então a probabilidade de um exemplo ser:\n",
    "    - da classe positiva é simplesmente $p_+=1$\n",
    "    - da classe negativa é $p_-=0$\n",
    "- A entropia de $X_1$ é:\n",
    "\n",
    "\\begin{array}{lcl} \n",
    "E(X)&= & -\\;(&p_+ \\times \\log_2{p_+} & + & p_- \\times \\log_2{p_-}&)  \\\\ \n",
    "E(X_1)&= & -\\;(&1 \\times \\log_2{1} & + & 0 \\times \\log_2{0}&)  \\\\ \n",
    "E(X_1)&= & -\\;(&1 \\times 0 & + & 0 &)  \\\\ \n",
    "E(X_1)&= & -\\;(& 0 & + & 0 &)  \\\\ \n",
    "E(X_1)&= & 0\n",
    "\\end{array}\n",
    "\n",
    "- Uma *entropia* igual a *zero* significa que não há desordem neste conjunto de dados, devido a que todas os exemplos de $X_1$ são da mesma classe."
   ]
  },
  {
   "cell_type": "markdown",
   "metadata": {
    "slideshow": {
     "slide_type": "subslide"
    }
   },
   "source": [
    "- O conjunto $X_2$ apenas tem exemplos da classe negativa, então a probabilidade de um exemplo ser:\n",
    "    - da classe positiva é $p_+=0$\n",
    "    - da classe negativa é $p_-=1$\n",
    "- A entropia de $X_2$ é:\n",
    "\n",
    "\\begin{array}{llllll}\n",
    "E(X)&= & -\\;(&p_+ \\times \\log_2{p_+} & + & p_- \\times \\log_2{p_-}&)  \\\\ \n",
    "E(X_2)&= & -\\;(&0 \\times \\log_2{0} & + & 1 \\times \\log_2{1}&)  \\\\ \n",
    "E(X_2)&= & -\\;(&0 & + & 1 \\times 0&)  \\\\ \n",
    "E(X_2)&= & -\\;(& 0 & + & 0 &)  \\\\ \n",
    "E(X_2)&= & 0\n",
    "\\end{array}\n",
    "\n",
    "- Neste caso, a *desordem* também é zero devido a todos os elementos serem da classe negativa (-)"
   ]
  },
  {
   "cell_type": "markdown",
   "metadata": {
    "slideshow": {
     "slide_type": "subslide"
    }
   },
   "source": [
    "- Já no conjunto $X_3$ temos exemplos de ambas as classes, e a probabilidade de ser:\n",
    "    - da classe positiva é $p_+=1/2$ ou $0.5$ ou $2^{-1}$\n",
    "    - da classe negativa é $p_+=1/2$\n",
    "- A entropia é: \n",
    "\n",
    "\\begin{array}{llllll}\n",
    "E(X)&= & -\\;(&p_+ \\times \\log_2{p_+} & + & p_- \\times \\log_2{p_-}&)  \\\\ \n",
    "E(X_3)&= & -\\;(&0.5 \\times \\log_2{0.5} & + & 0.5 \\times \\log_2{0.5}&)  \\\\ \n",
    "E(X_3)&= & -\\;(&0.5 \\times \\log_2{2^{-1}} & + & 0.5 \\times \\log_2{2^{-1}}&)  \\\\ \n",
    "E(X_3)&= & -\\;(&-0.5 \\times \\log_2{2} & + & - 0.5 \\times \\log_2{2}&)  \\\\ \n",
    "E(X_3)&= & -\\;(&-0.5 \\times 1 & + & - 0.5 \\times 1&)  \\\\ \n",
    "E(X_3)&= & -\\;(&-0.5 & + & -0.5 &)  \\\\ \n",
    "E(X_3)&= & -\\;(& - 1 &&&)  \\\\ \n",
    "E(X_3)&= & 1\n",
    "\\end{array}"
   ]
  },
  {
   "cell_type": "markdown",
   "metadata": {
    "slideshow": {
     "slide_type": "subslide"
    }
   },
   "source": [
    "- No conjunto $X_3$ a *entropia* ou desordem é 1 (máxima)\n",
    "\n",
    "- Isso indica que em $X_3$ não é possível observar que alguma das classes prevalece nesse conjunto de dados."
   ]
  },
  {
   "cell_type": "markdown",
   "metadata": {
    "slideshow": {
     "slide_type": "subslide"
    }
   },
   "source": [
    "- Agora, vamos considerar um conjunto de dados $X_4$ que possui $1/4$ de exemplos da classe positiva e $3/4$ de exemplos da classe negativa.\n",
    "\n",
    "- Em uma problema de duas classes espera-se que o valor da entropia esteja entre 0 e 1.\n",
    "\n",
    "\\begin{array}{llllll}\n",
    "E(X)&  = & -\\;(&p_+ \\times \\log_2{p_+}   & + & p_- \\times \\log_2{p_-}&)  \\\\ \n",
    "E(X_4)&= & -\\;(&1/4 \\times \\log_2{1/4} & + & 3/4 \\times \\log_2{3/4}&)  \\\\ \n",
    "E(X_4)&= & -\\;(&1/4 \\times [\\log_2{1} - \\log_2{4}] & + & 3/4 \\times [\\log_2{3} - \\log_2{4}]&)  \\\\ \n",
    "E(X_4)&= & -\\;(&1/4 \\times [0 - 2] & + & 3/4 \\times [1.58 - 2]&)  \\\\ \n",
    "E(X_4)&= & -\\;(&1/4 \\times -2 & + & 3/4 \\times -0.42&)  \\\\ \n",
    "E(X_4)&= & -\\;(&-0.5 & + & -0.32&)  \\\\ \n",
    "E(X_4)&= & -\\;(&-0.82 &&& )  \\\\ \n",
    "E(X_4)&= & 0.82  \\\\ \n",
    "\\end{array}"
   ]
  },
  {
   "cell_type": "markdown",
   "metadata": {
    "slideshow": {
     "slide_type": "subslide"
    }
   },
   "source": [
    "### Uma função para cálculo de entropia para duas classes\n",
    "\n",
    "- Nesta função podemos passar apenas a probabilidade da classe positiva e, com ela, calcular a probabilidade da negativa.\n",
    "\n",
    "- Da forma como esta função foi implementada ela permite calcular a entropia de um valor de probabilidade ou de um vetor de valores de probabilidade."
   ]
  },
  {
   "cell_type": "code",
   "execution_count": 1,
   "metadata": {
    "slideshow": {
     "slide_type": "-"
    }
   },
   "outputs": [],
   "source": [
    "entropy.binary <- function(prob.positive){\n",
    "    pa <- prob.positive\n",
    "    pb <- 1 - prob.positive\n",
    "    primeiro.termo <- ifelse(pa == 0, 0, pa * log2(pa)) \n",
    "    segundo.termo  <- ifelse(pb == 0, 0, pb * log2(pb)) \n",
    "    entropy <- (-1) * (primeiro.termo + segundo.termo)\n",
    "    entropy\n",
    "}"
   ]
  },
  {
   "cell_type": "markdown",
   "metadata": {
    "slideshow": {
     "slide_type": "subslide"
    }
   },
   "source": [
    "- Com essa função podemos calcular qual a entropia à medida que a probabilidade da classe positiva aumenta de 5% em 5%."
   ]
  },
  {
   "cell_type": "code",
   "execution_count": 2,
   "metadata": {},
   "outputs": [
    {
     "data": {
      "text/html": [
       "<table>\n",
       "<thead><tr><th scope=col>prob.positive</th><th scope=col>entropy</th></tr></thead>\n",
       "<tbody>\n",
       "\t<tr><td>0.00     </td><td>0.0000000</td></tr>\n",
       "\t<tr><td>0.05     </td><td>0.2863970</td></tr>\n",
       "\t<tr><td>0.10     </td><td>0.4689956</td></tr>\n",
       "\t<tr><td>0.15     </td><td>0.6098403</td></tr>\n",
       "\t<tr><td>0.20     </td><td>0.7219281</td></tr>\n",
       "\t<tr><td>0.25     </td><td>0.8112781</td></tr>\n",
       "</tbody>\n",
       "</table>\n"
      ],
      "text/latex": [
       "\\begin{tabular}{r|ll}\n",
       " prob.positive & entropy\\\\\n",
       "\\hline\n",
       "\t 0.00      & 0.0000000\\\\\n",
       "\t 0.05      & 0.2863970\\\\\n",
       "\t 0.10      & 0.4689956\\\\\n",
       "\t 0.15      & 0.6098403\\\\\n",
       "\t 0.20      & 0.7219281\\\\\n",
       "\t 0.25      & 0.8112781\\\\\n",
       "\\end{tabular}\n"
      ],
      "text/markdown": [
       "\n",
       "prob.positive | entropy | \n",
       "|---|---|---|---|---|---|\n",
       "| 0.00      | 0.0000000 | \n",
       "| 0.05      | 0.2863970 | \n",
       "| 0.10      | 0.4689956 | \n",
       "| 0.15      | 0.6098403 | \n",
       "| 0.20      | 0.7219281 | \n",
       "| 0.25      | 0.8112781 | \n",
       "\n",
       "\n"
      ],
      "text/plain": [
       "  prob.positive entropy  \n",
       "1 0.00          0.0000000\n",
       "2 0.05          0.2863970\n",
       "3 0.10          0.4689956\n",
       "4 0.15          0.6098403\n",
       "5 0.20          0.7219281\n",
       "6 0.25          0.8112781"
      ]
     },
     "metadata": {},
     "output_type": "display_data"
    }
   ],
   "source": [
    "library(data.table)\n",
    "prob.positive <- seq(0,1,0.05) # Cria sequencia de 5% em 5%\n",
    "entropy <- entropy.binary(prob.positive) # Calcula entropia\n",
    "dt.entropy <- data.table(prob.positive, entropy)\n",
    "head(dt.entropy)"
   ]
  },
  {
   "cell_type": "code",
   "execution_count": 3,
   "metadata": {
    "slideshow": {
     "slide_type": "subslide"
    }
   },
   "outputs": [
    {
     "data": {},
     "metadata": {},
     "output_type": "display_data"
    },
    {
     "data": {
      "image/png": "[encoded data removed]",
      "text/plain": [
       "plot without title"
      ]
     },
     "metadata": {},
     "output_type": "display_data"
    }
   ],
   "source": [
    "library(ggplot2)\n",
    "options(repr.plot.width=4, repr.plot.height=3)\n",
    "ggplot(dt.entropy, aes(x=prob.positive, y=entropy)) + geom_line() + geom_point()"
   ]
  },
  {
   "cell_type": "markdown",
   "metadata": {
    "slideshow": {
     "slide_type": "subslide"
    }
   },
   "source": [
    "### Cálculo de Entropia para Problemas de Múltiplas Classes\n",
    "\n",
    "- Muitos dos problemas que nos enfrentamos atualmente em mineração de dados possuem mais do que duas classes\n",
    "\n",
    "- A Equação geral para cálculo de entropia de um conjunto de dados é:\n",
    "\n",
    "$$ E(X) = - \\sum_{i}^{c} p_i \\times \\log_2{p_i} $$\n",
    "\n",
    "- onde,\n",
    "    - $c$ é o número de classes do problema.\n",
    "    - $p_i$ é a probabilidade de um exemplo ser da $i$-ésima classe."
   ]
  },
  {
   "cell_type": "markdown",
   "metadata": {
    "slideshow": {
     "slide_type": "subslide"
    }
   },
   "source": [
    "- Note que para $c=2$ a equação é equivalente à de duas classes, definida anteriormente:\n",
    "\n",
    "\\begin{array}{llllll}\n",
    "E(X) & = & - \\sum_{i=1}^{c=2} p_i \\times \\log_2{p_i} \\\\ \n",
    "E(X) & = & -\\;(\\;\\;p_1 \\times \\log_2{p_1}\\;+\\;p_2 \\times \\log_2{p_2}\\;\\;)\n",
    "\\end{array}"
   ]
  },
  {
   "cell_type": "markdown",
   "metadata": {
    "slideshow": {
     "slide_type": "subslide"
    }
   },
   "source": [
    "### Uma Função para Calcular a Entropia para Múltiplas Classes\n",
    "\n",
    "- Como a entropia de um conjunto de dados depende apenas da coluna de dados do atributo classe, neste implementação usaremos apenas esse atributo para calcular a entropia.\n",
    "\n",
    "- Assim, primeiro calculamos a frequência de elementos, usando a função *table* e dividimos pelo número de elementos do atributo classe para obter as probabilidades $P = (p_1, p_2, \\dots, p_c)$ das classes.\n",
    "\n",
    "- E após, com $P$ fazemos o calculo de entropia."
   ]
  },
  {
   "cell_type": "code",
   "execution_count": 4,
   "metadata": {},
   "outputs": [],
   "source": [
    "entropia <- function(class.attribute){    \n",
    "    P <- table(class.attribute) / length(class.attribute)\n",
    "    termos <- ifelse(P == 0, 0, P * log2(P))\n",
    "    entropia <- (-1) * sum(termos)\n",
    "    entropia    \n",
    "}"
   ]
  },
  {
   "cell_type": "markdown",
   "metadata": {
    "slideshow": {
     "slide_type": "subslide"
    }
   },
   "source": [
    "### Alguns Exemplos"
   ]
  },
  {
   "cell_type": "markdown",
   "metadata": {},
   "source": [
    "#### Exemplo 1\n",
    "- Dez exemplos com classes A, B e C."
   ]
  },
  {
   "cell_type": "code",
   "execution_count": 5,
   "metadata": {},
   "outputs": [
    {
     "name": "stdout",
     "output_type": "stream",
     "text": [
      " [1] A B B C A C C B B A\n",
      "Levels: A B C\n"
     ]
    }
   ],
   "source": [
    "set.seed(1)\n",
    "classe <- sample(c(\"A\",\"B\",\"C\"),size=10,replace=T)\n",
    "classe <- factor(classe, levels = c(\"A\",\"B\",\"C\"))\n",
    "print(classe)"
   ]
  },
  {
   "cell_type": "code",
   "execution_count": 6,
   "metadata": {
    "slideshow": {
     "slide_type": "fragment"
    }
   },
   "outputs": [
    {
     "data": {
      "text/html": [
       "1.57095059445467"
      ],
      "text/latex": [
       "1.57095059445467"
      ],
      "text/markdown": [
       "1.57095059445467"
      ],
      "text/plain": [
       "[1] 1.570951"
      ]
     },
     "metadata": {},
     "output_type": "display_data"
    }
   ],
   "source": [
    "entropia(classe)"
   ]
  },
  {
   "cell_type": "markdown",
   "metadata": {
    "slideshow": {
     "slide_type": "subslide"
    }
   },
   "source": [
    "#### Exemplo 2\n",
    "- Dez exemplos com classes A, B e C ordenados."
   ]
  },
  {
   "cell_type": "code",
   "execution_count": 7,
   "metadata": {},
   "outputs": [
    {
     "name": "stdout",
     "output_type": "stream",
     "text": [
      " [1] A A A B B B B C C C\n",
      "Levels: A B C\n"
     ]
    }
   ],
   "source": [
    "set.seed(1)\n",
    "classe <- sort(sample(c(\"A\",\"B\",\"C\"),size=10,replace=T))\n",
    "classe <- factor(classe, levels = c(\"A\",\"B\",\"C\"))\n",
    "print(classe)"
   ]
  },
  {
   "cell_type": "code",
   "execution_count": 8,
   "metadata": {
    "slideshow": {
     "slide_type": "fragment"
    }
   },
   "outputs": [
    {
     "data": {
      "text/html": [
       "1.57095059445467"
      ],
      "text/latex": [
       "1.57095059445467"
      ],
      "text/markdown": [
       "1.57095059445467"
      ],
      "text/plain": [
       "[1] 1.570951"
      ]
     },
     "metadata": {},
     "output_type": "display_data"
    }
   ],
   "source": [
    "entropia(classe)"
   ]
  },
  {
   "cell_type": "markdown",
   "metadata": {
    "slideshow": {
     "slide_type": "fragment"
    }
   },
   "source": [
    "- Note que a ordem dos exemplos não altera o valor da entropia. Consideram-se os exemplos como eventos independentes."
   ]
  },
  {
   "cell_type": "markdown",
   "metadata": {
    "slideshow": {
     "slide_type": "subslide"
    }
   },
   "source": [
    "#### Exemplo 3\n",
    "- Dez exemplos do problema com três classes (A, B e C), mas apenas contendo exemplos com classes A e B."
   ]
  },
  {
   "cell_type": "code",
   "execution_count": 9,
   "metadata": {},
   "outputs": [
    {
     "name": "stdout",
     "output_type": "stream",
     "text": [
      " [1] A A B B A B B B B A\n",
      "Levels: A B C\n"
     ]
    }
   ],
   "source": [
    "set.seed(1)\n",
    "classe <- sample(c(\"A\",\"B\"),size=10,replace=T)\n",
    "classe <- factor(classe, levels = c(\"A\",\"B\",\"C\"))\n",
    "print(classe)"
   ]
  },
  {
   "cell_type": "code",
   "execution_count": 10,
   "metadata": {
    "slideshow": {
     "slide_type": "fragment"
    }
   },
   "outputs": [
    {
     "data": {
      "text/html": [
       "0.970950594454669"
      ],
      "text/latex": [
       "0.970950594454669"
      ],
      "text/markdown": [
       "0.970950594454669"
      ],
      "text/plain": [
       "[1] 0.9709506"
      ]
     },
     "metadata": {},
     "output_type": "display_data"
    }
   ],
   "source": [
    "entropia(classe)"
   ]
  },
  {
   "cell_type": "markdown",
   "metadata": {
    "slideshow": {
     "slide_type": "fragment"
    }
   },
   "source": [
    "- Ao diminuir o número de classes no conjunto (de três para duas) a entropia do conjunto diminuiu consideravelmente."
   ]
  },
  {
   "cell_type": "markdown",
   "metadata": {
    "slideshow": {
     "slide_type": "subslide"
    }
   },
   "source": [
    "#### Exemplo 4\n",
    "- Dez exemplos do problema com três classes (A, B e C), mas apenas contendo exemplos da classe A."
   ]
  },
  {
   "cell_type": "code",
   "execution_count": 11,
   "metadata": {},
   "outputs": [
    {
     "name": "stdout",
     "output_type": "stream",
     "text": [
      " [1] A A A A A A A A A A\n",
      "Levels: A B C\n"
     ]
    }
   ],
   "source": [
    "set.seed(1)\n",
    "classe <- sample(c(\"A\"),size=10,replace=T)\n",
    "classe <- factor(classe, levels = c(\"A\",\"B\",\"C\"))\n",
    "print(classe)"
   ]
  },
  {
   "cell_type": "code",
   "execution_count": 12,
   "metadata": {},
   "outputs": [
    {
     "data": {
      "text/html": [
       "0"
      ],
      "text/latex": [
       "0"
      ],
      "text/markdown": [
       "0"
      ],
      "text/plain": [
       "[1] 0"
      ]
     },
     "metadata": {},
     "output_type": "display_data"
    }
   ],
   "source": [
    "entropia(classe)"
   ]
  },
  {
   "cell_type": "markdown",
   "metadata": {},
   "source": [
    "- Note como os valores de entropia descrescem à medida que o atributo classe vai ficando com elementos de apenas uma classe"
   ]
  },
  {
   "cell_type": "markdown",
   "metadata": {
    "slideshow": {
     "slide_type": "subslide"
    }
   },
   "source": [
    "#### Exemplo 5\n",
    "- Dez exemplos de um problema com duas classes, A e B."
   ]
  },
  {
   "cell_type": "code",
   "execution_count": 13,
   "metadata": {},
   "outputs": [
    {
     "name": "stdout",
     "output_type": "stream",
     "text": [
      " [1] A A B B A B B B B A\n",
      "Levels: A B\n"
     ]
    }
   ],
   "source": [
    "set.seed(1)\n",
    "classe <- sample(c(\"A\",\"B\"),size=10,replace=T)\n",
    "classe <- factor(classe, levels = c(\"A\",\"B\"))\n",
    "print(classe)"
   ]
  },
  {
   "cell_type": "code",
   "execution_count": 14,
   "metadata": {
    "slideshow": {
     "slide_type": "fragment"
    }
   },
   "outputs": [
    {
     "data": {
      "text/html": [
       "0.970950594454669"
      ],
      "text/latex": [
       "0.970950594454669"
      ],
      "text/markdown": [
       "0.970950594454669"
      ],
      "text/plain": [
       "[1] 0.9709506"
      ]
     },
     "metadata": {},
     "output_type": "display_data"
    }
   ],
   "source": [
    "entropia(classe)"
   ]
  },
  {
   "cell_type": "markdown",
   "metadata": {
    "slideshow": {
     "slide_type": "fragment"
    }
   },
   "source": [
    "- Esse resultado da entropia é o mesmo do *Exemplo 3*\n",
    "- Observe que se o nosso problema é de 2 (A e B) classes ou de 3 classes (A, B e C), havendo elementos de duas classes (A e B), e a distribuição for a mesma, a entropia será igual."
   ]
  },
  {
   "cell_type": "markdown",
   "metadata": {
    "slideshow": {
     "slide_type": "slide"
    }
   },
   "source": [
    "## Entropia de Atributos\n",
    "\n",
    "- Embora já conseguimos calcular a entropia de um conjunto de dados, baseado na sua classe, ainda precisamos calcular a *desordem* que cada atributo produz no conjunto de dados.\n",
    "\n",
    "- Um atributo terá uma baixa entropia se os seus valores permitem dividir o conjunto de dados em partes com baixa entropia.\n",
    "\n",
    "- Assim, para um atributo ter entropia 0 precisará que os valores do atributo dividam o conjunto de dados em partes com apenas uma classe."
   ]
  },
  {
   "cell_type": "markdown",
   "metadata": {
    "slideshow": {
     "slide_type": "subslide"
    }
   },
   "source": [
    "- Por exemplo,"
   ]
  },
  {
   "cell_type": "code",
   "execution_count": 52,
   "metadata": {
    "slideshow": {
     "slide_type": "-"
    }
   },
   "outputs": [
    {
     "data": {
      "text/html": [
       "<table>\n",
       "<thead><tr><th scope=col>atributo</th><th scope=col>classe</th></tr></thead>\n",
       "<tbody>\n",
       "\t<tr><td>v1</td><td>A </td></tr>\n",
       "\t<tr><td>v1</td><td>A </td></tr>\n",
       "\t<tr><td>v2</td><td>B </td></tr>\n",
       "\t<tr><td>v2</td><td>B </td></tr>\n",
       "\t<tr><td>v3</td><td>C </td></tr>\n",
       "\t<tr><td>v3</td><td>C </td></tr>\n",
       "</tbody>\n",
       "</table>\n"
      ],
      "text/latex": [
       "\\begin{tabular}{r|ll}\n",
       " atributo & classe\\\\\n",
       "\\hline\n",
       "\t v1 & A \\\\\n",
       "\t v1 & A \\\\\n",
       "\t v2 & B \\\\\n",
       "\t v2 & B \\\\\n",
       "\t v3 & C \\\\\n",
       "\t v3 & C \\\\\n",
       "\\end{tabular}\n"
      ],
      "text/markdown": [
       "\n",
       "atributo | classe | \n",
       "|---|---|---|---|---|---|\n",
       "| v1 | A  | \n",
       "| v1 | A  | \n",
       "| v2 | B  | \n",
       "| v2 | B  | \n",
       "| v3 | C  | \n",
       "| v3 | C  | \n",
       "\n",
       "\n"
      ],
      "text/plain": [
       "  atributo classe\n",
       "1 v1       A     \n",
       "2 v1       A     \n",
       "3 v2       B     \n",
       "4 v2       B     \n",
       "5 v3       C     \n",
       "6 v3       C     "
      ]
     },
     "metadata": {},
     "output_type": "display_data"
    }
   ],
   "source": [
    "dt <- data.table(atributo = rep(c(\"v1\",\"v2\",\"v3\"),2),           \n",
    "                 classe   = rep(c(\"A\",\"B\",\"C\"),2))[order(classe)]     \n",
    "dt"
   ]
  },
  {
   "cell_type": "markdown",
   "metadata": {
    "slideshow": {
     "slide_type": "subslide"
    }
   },
   "source": [
    "- Observe o número de exemplos de cada classe para cada valor do atributo."
   ]
  },
  {
   "cell_type": "code",
   "execution_count": 16,
   "metadata": {},
   "outputs": [
    {
     "data": {
      "text/plain": [
       "    \n",
       "     A B C\n",
       "  v1 2 0 0\n",
       "  v2 0 2 0\n",
       "  v3 0 0 2"
      ]
     },
     "metadata": {},
     "output_type": "display_data"
    }
   ],
   "source": [
    "table(dt$atributo,dt$classe)"
   ]
  },
  {
   "cell_type": "markdown",
   "metadata": {},
   "source": [
    "- Cada valor de atributo apresenta exemplos de apenas uma classe. Isso significa que os valores desse atributo permitem diferenciar bem as classes do problema.\n",
    "\n",
    "- Para calcular a entropia de um atributo é necessário calcular a entropia de cada um dos conjuntos de dados gerados pelos seus valores e usar esse valor proporcionalmente ao tamanho de cada conjunto."
   ]
  },
  {
   "cell_type": "markdown",
   "metadata": {
    "slideshow": {
     "slide_type": "subslide"
    }
   },
   "source": [
    "- Seja um atributo $A$ com possíveis valores $v_1, v_2, \\ldots, v_m$, o calculo de Entropia do atributo $A$ é definido por:\n",
    "\n",
    "$$ E(X,A) = \\sum_{j=1}^{m} \\frac{|X_{j}|}{|X|} \\times E(X_{j})  $$\n",
    "\n",
    "- onde,\n",
    "    - $A$ é um atributo\n",
    "    - $v$ é cada valor do atributo $A$, sem repetir\n",
    "    - $X_{j}$ é a partição do conjunto $X$ em que o atributo $A$ possui valor $v_j$\n",
    "    - $|X_{j}| / |X|$ é a proporção de valores $v_j$ no conjunto de dados\n",
    "    - $E(X_j)$ é a entropia do conjunto $X_j$"
   ]
  },
  {
   "cell_type": "markdown",
   "metadata": {
    "slideshow": {
     "slide_type": "subslide"
    }
   },
   "source": [
    "### Exemplo\n",
    "\n",
    "- Suponha o seguinte conjunto de dados, onde temos um atributo que pode assumir valores $v_1$, $v_2$ e $v_3$, e a classe (ou atributo classe) pode ser $A$, $B$ ou $C$."
   ]
  },
  {
   "cell_type": "code",
   "execution_count": 53,
   "metadata": {
    "slideshow": {
     "slide_type": "skip"
    }
   },
   "outputs": [],
   "source": [
    "library(arules)\n",
    "dt <- data.table(iris)[,.(atributo = Sepal.Length, classe = as.factor(Species) )]\n",
    "dt$atributo <- discretize(dt$atributo)\n",
    "levels(dt$atributo) <- c(\"v1\",\"v2\",\"v3\")\n",
    "levels(dt$classe) <- c(\"A\",\"B\",\"C\")"
   ]
  },
  {
   "cell_type": "markdown",
   "metadata": {},
   "source": [
    "- O conjunto de dados possui 50 elementos de cada classe, ao todo 150 elementos, então sua entropia inicial é:"
   ]
  },
  {
   "cell_type": "code",
   "execution_count": 55,
   "metadata": {},
   "outputs": [
    {
     "data": {
      "text/html": [
       "1.58496250072116"
      ],
      "text/latex": [
       "1.58496250072116"
      ],
      "text/markdown": [
       "1.58496250072116"
      ],
      "text/plain": [
       "[1] 1.584963"
      ]
     },
     "metadata": {},
     "output_type": "display_data"
    }
   ],
   "source": [
    "entropia(dt$classe)"
   ]
  },
  {
   "cell_type": "markdown",
   "metadata": {
    "slideshow": {
     "slide_type": "subslide"
    }
   },
   "source": [
    "- O seguinte gráfico nos mostra a frequência das classes para os diferentes valores do *atributo*"
   ]
  },
  {
   "cell_type": "code",
   "execution_count": 19,
   "metadata": {},
   "outputs": [
    {
     "data": {},
     "metadata": {},
     "output_type": "display_data"
    },
    {
     "data": {
      "image/png": "[encoded data removed]",
      "text/plain": [
       "plot without title"
      ]
     },
     "metadata": {},
     "output_type": "display_data"
    }
   ],
   "source": [
    "ggplot(data=dt, aes(x=atributo, fill = classe)) + geom_bar()"
   ]
  },
  {
   "cell_type": "markdown",
   "metadata": {
    "slideshow": {
     "slide_type": "subslide"
    }
   },
   "source": [
    "- Ao utilizar o *atributo* para saber o quanto ele permite deixar o conjunto de dados mais organizado, temos a seguinte tabela de frequência"
   ]
  },
  {
   "cell_type": "code",
   "execution_count": 20,
   "metadata": {},
   "outputs": [
    {
     "data": {
      "text/plain": [
       "    \n",
       "      A  B  C\n",
       "  v1 45  6  1\n",
       "  v2  5 38 27\n",
       "  v3  0  6 22"
      ]
     },
     "metadata": {},
     "output_type": "display_data"
    }
   ],
   "source": [
    "table(dt$atributo, dt$classe)"
   ]
  },
  {
   "cell_type": "markdown",
   "metadata": {},
   "source": [
    "- Assim, se $X$ é o conjunto de dados total, utilizando o atributo dividimos o conjunto em $X_1$, $X_2$ e $X_3$.\n",
    "\n",
    "- Cada um desses conjuntos tem um valor de entropia, que pode ser calculado a função de *entropia*"
   ]
  },
  {
   "cell_type": "markdown",
   "metadata": {},
   "source": [
    "- Para $v_1$ o conjunto $X_1$ é dado por **dt\\[atributo == \"v1\", , \\]** "
   ]
  },
  {
   "cell_type": "code",
   "execution_count": 21,
   "metadata": {},
   "outputs": [
    {
     "data": {
      "text/html": [
       "0.649609634695663"
      ],
      "text/latex": [
       "0.649609634695663"
      ],
      "text/markdown": [
       "0.649609634695663"
      ],
      "text/plain": [
       "[1] 0.6496096"
      ]
     },
     "metadata": {},
     "output_type": "display_data"
    }
   ],
   "source": [
    "entropia(dt[atributo == \"v1\"]$classe)"
   ]
  },
  {
   "cell_type": "markdown",
   "metadata": {
    "slideshow": {
     "slide_type": "subslide"
    }
   },
   "source": [
    "- Para $v_2$ o conjunto $X_2$ é dado por **dt\\[atributo == \"v2\", , \\]** "
   ]
  },
  {
   "cell_type": "code",
   "execution_count": 22,
   "metadata": {},
   "outputs": [
    {
     "data": {
      "text/html": [
       "1.28052803774916"
      ],
      "text/latex": [
       "1.28052803774916"
      ],
      "text/markdown": [
       "1.28052803774916"
      ],
      "text/plain": [
       "[1] 1.280528"
      ]
     },
     "metadata": {},
     "output_type": "display_data"
    }
   ],
   "source": [
    "entropia(dt[atributo == \"v2\"]$classe)"
   ]
  },
  {
   "cell_type": "markdown",
   "metadata": {},
   "source": [
    "- Para $v_3$ o conjunto $X_3$ é dado por **dt\\[atributo == \"v3\", , \\]** "
   ]
  },
  {
   "cell_type": "code",
   "execution_count": 23,
   "metadata": {},
   "outputs": [
    {
     "data": {
      "text/html": [
       "0.74959525725948"
      ],
      "text/latex": [
       "0.74959525725948"
      ],
      "text/markdown": [
       "0.74959525725948"
      ],
      "text/plain": [
       "[1] 0.7495953"
      ]
     },
     "metadata": {},
     "output_type": "display_data"
    }
   ],
   "source": [
    "entropia(dt[atributo == \"v3\"]$classe)"
   ]
  },
  {
   "cell_type": "markdown",
   "metadata": {
    "slideshow": {
     "slide_type": "subslide"
    }
   },
   "source": [
    "- Uma vez calculadas as entropias para cada valor do atributo, podemos calcular a **Entropia do Atributo**\n",
    "\n",
    "\\begin{array}{lllll}\n",
    "E(X,A) & = & \\sum_{j=1}^{m} \\frac{|X_{j}|}{|X|} \\times E(X_{j})  \\\\ \n",
    "E(X,A) & = & \\sum_{j=1}^{m=3} \\frac{|X_{j}|}{|X|} \\times E(X_{j}) \\\\\n",
    "E(X,A) & = & \\frac{|X_{1}|}{|X|} \\times E(X_{1}) + \\frac{|X_{2}|}{|X|} \\times E(X_{2}) + \\frac{|X_{3}|}{|X|} \\times E(X_{3}) \\\\\n",
    "E(X,A) & = & \\frac{52}{150} \\times E(X_{1}) + \\frac{70}{150} \\times E(X_{2}) + \\frac{28}{150} \\times E(X_{3}) \\\\ \n",
    "E(X,A) & = & \\frac{52}{150} \\times 0.65 + \\frac{70}{150} \\times 1.28 + \\frac{28}{150} \\times 0.75 \\\\ \n",
    "E(X,A) & = & 0.23 + 0.60 + 0.14 \\\\ \n",
    "E(X,A) & = & 0.97\n",
    "\\end{array}"
   ]
  },
  {
   "cell_type": "markdown",
   "metadata": {
    "slideshow": {
     "slide_type": "subslide"
    }
   },
   "source": [
    "- Esses cálculos inidicam que:\n",
    "    - O valor do atributo $v_1$ contribuiu com $0.23$ para a entropia, \n",
    "    - O valor $v_2$ com $0.60$, e\n",
    "    - O valor $v_3$ com $0.14$.\n",
    "    \n",
    "- O total da entropia ficou em $0.97$\n",
    "\n",
    "- Mas não devemos esquecer que a entropia inicial do conjunto de dados (50 exemplos de  cada classe) foi de $1.58$"
   ]
  },
  {
   "cell_type": "code",
   "execution_count": 24,
   "metadata": {},
   "outputs": [
    {
     "data": {
      "text/html": [
       "1.58496250072116"
      ],
      "text/latex": [
       "1.58496250072116"
      ],
      "text/markdown": [
       "1.58496250072116"
      ],
      "text/plain": [
       "[1] 1.584963"
      ]
     },
     "metadata": {},
     "output_type": "display_data"
    }
   ],
   "source": [
    "entropia(dt$classe)"
   ]
  },
  {
   "cell_type": "markdown",
   "metadata": {},
   "source": [
    "- O que indica que utilizando o *atributo* conseguimos organizar melhor o conjunto de dados, pois a *entropia* é diminuiu, e consequentemente, a *desordem* do conjunto de dados. "
   ]
  },
  {
   "cell_type": "markdown",
   "metadata": {
    "slideshow": {
     "slide_type": "subslide"
    }
   },
   "source": [
    "#### Função para Cálculo da Entropia do Atributo"
   ]
  },
  {
   "cell_type": "code",
   "execution_count": 25,
   "metadata": {
    "slideshow": {
     "slide_type": "-"
    }
   },
   "outputs": [
    {
     "name": "stdout",
     "output_type": "stream",
     "text": [
      "   atributo      prop  entropia\n",
      "1:       v1 0.3466667 0.6496096\n",
      "2:       v2 0.4666667 1.2805280\n",
      "3:       v3 0.1866667 0.7495953\n"
     ]
    },
    {
     "data": {
      "text/html": [
       "0.962702205665873"
      ],
      "text/latex": [
       "0.962702205665873"
      ],
      "text/markdown": [
       "0.962702205665873"
      ],
      "text/plain": [
       "[1] 0.9627022"
      ]
     },
     "metadata": {},
     "output_type": "display_data"
    }
   ],
   "source": [
    "entropia.atributo <- function(X,A, show.partial.results=F){\n",
    "    n <- nrow(X)\n",
    "    Xj <- X[,.(prop = .N/n, entropia = entropia(classe)),by=A]\n",
    "    if (show.partial.results) print(Xj)\n",
    "    entropia.atributo <- sum(Xj$prop * Xj$entropia)     \n",
    "    entropia.atributo\n",
    "}\n",
    "\n",
    "entropia.atributo( X = dt, A = \"atributo\", show.partial.results=T)"
   ]
  },
  {
   "cell_type": "markdown",
   "metadata": {
    "slideshow": {
     "slide_type": "subslide"
    }
   },
   "source": [
    "#### Dados de Shelter Animals"
   ]
  },
  {
   "cell_type": "code",
   "execution_count": 129,
   "metadata": {},
   "outputs": [],
   "source": [
    "dt <- fread (file = \"data/train_processed.csv\" )\n",
    "dt$classe <- dt$OutcomeType"
   ]
  },
  {
   "cell_type": "markdown",
   "metadata": {},
   "source": [
    "- Uma vez discretizado o atributo **DaysuponOutcome** usando as três técnicas, armazenados em:\n",
    "    - **DaysuponOutcome.intervalo_a**\n",
    "    - **DaysuponOutcome.intervalo_b**\n",
    "    - **DaysuponOutcome.intervalo_c**"
   ]
  },
  {
   "cell_type": "markdown",
   "metadata": {
    "slideshow": {
     "slide_type": "subslide"
    }
   },
   "source": [
    "- Qual dessas três técnicas apresenta menor valor de entropia?"
   ]
  },
  {
   "cell_type": "code",
   "execution_count": 130,
   "metadata": {
    "slideshow": {
     "slide_type": "-"
    }
   },
   "outputs": [
    {
     "data": {
      "text/html": [
       "1.71395576064402"
      ],
      "text/latex": [
       "1.71395576064402"
      ],
      "text/markdown": [
       "1.71395576064402"
      ],
      "text/plain": [
       "[1] 1.713956"
      ]
     },
     "metadata": {},
     "output_type": "display_data"
    }
   ],
   "source": [
    "entropia.atributo(dt,\"DaysuponOutcome.intervalo_a\")"
   ]
  },
  {
   "cell_type": "code",
   "execution_count": 131,
   "metadata": {
    "slideshow": {
     "slide_type": "-"
    }
   },
   "outputs": [
    {
     "data": {
      "text/html": [
       "1.75704046112564"
      ],
      "text/latex": [
       "1.75704046112564"
      ],
      "text/markdown": [
       "1.75704046112564"
      ],
      "text/plain": [
       "[1] 1.75704"
      ]
     },
     "metadata": {},
     "output_type": "display_data"
    }
   ],
   "source": [
    "entropia.atributo(dt,\"DaysuponOutcome.intervalo_b\")"
   ]
  },
  {
   "cell_type": "code",
   "execution_count": 132,
   "metadata": {
    "slideshow": {
     "slide_type": "-"
    }
   },
   "outputs": [
    {
     "data": {
      "text/html": [
       "1.56353801471514"
      ],
      "text/latex": [
       "1.56353801471514"
      ],
      "text/markdown": [
       "1.56353801471514"
      ],
      "text/plain": [
       "[1] 1.563538"
      ]
     },
     "metadata": {},
     "output_type": "display_data"
    }
   ],
   "source": [
    "entropia.atributo(dt,\"DaysuponOutcome.intervalo_c\")"
   ]
  },
  {
   "cell_type": "markdown",
   "metadata": {
    "slideshow": {
     "slide_type": "fragment"
    }
   },
   "source": [
    "- Esses atributos discretizados apresentam entropia melhor do que a entropia inicial dos dados?"
   ]
  },
  {
   "cell_type": "code",
   "execution_count": 30,
   "metadata": {
    "slideshow": {
     "slide_type": "fragment"
    }
   },
   "outputs": [
    {
     "data": {
      "text/html": [
       "1.79393910994478"
      ],
      "text/latex": [
       "1.79393910994478"
      ],
      "text/markdown": [
       "1.79393910994478"
      ],
      "text/plain": [
       "[1] 1.793939"
      ]
     },
     "metadata": {},
     "output_type": "display_data"
    }
   ],
   "source": [
    "entropia(dt$OutcomeType)"
   ]
  },
  {
   "cell_type": "markdown",
   "metadata": {
    "slideshow": {
     "slide_type": "subslide"
    }
   },
   "source": [
    "## Medidas de Importância\n",
    "\n",
    "### Ganho de Informação (*Information Gain*)\n",
    "\n",
    "- O Ganho de Informação (IG) de um atrbiuto consiste diferença entre a entropia inicial do conjunto de dados $X$ e a entropia ao utilizar o atributo $A$.\n",
    "\n",
    "- Equação:\n",
    "\n",
    "$$ IG = E(X) - E(X,A)$$\n",
    "\n",
    "- O IG quantifica a redução de entropia esperada por conhecer os valores do atributo A no conjunto X."
   ]
  },
  {
   "cell_type": "code",
   "execution_count": 40,
   "metadata": {},
   "outputs": [],
   "source": [
    "ganho.de.informacao <- function(X,A){\n",
    "    entropia(X$classe) - entropia.atributo(X,A)\n",
    "}"
   ]
  },
  {
   "cell_type": "markdown",
   "metadata": {
    "slideshow": {
     "slide_type": "subslide"
    }
   },
   "source": [
    "#### O problema do Ganho de Informação e da Entropia:\n",
    "- Ela é enviesada ou tendenciosa (*baised*) com atributos que possuem muitos valores possíveis.\n",
    "- Por exemplo, um atributo de ID (como o AnimalID no dataset Shelter Animals), que divide o conjunto de dados em 1 exemplo por partição $X_j$.\n",
    "- Assim, embora tenhamos muitas partições $X_j$, todas as partições apresentam um único exemplo (de uma classe), consequentemente, entropia baixa.\n",
    "- A soma dessa entropias irão fazer com que $E(X,A) = 0$, o que maximiza o $IG$.\n",
    "- No entanto, o atributo de identificação não deve ser um bom atributo para predição."
   ]
  },
  {
   "cell_type": "markdown",
   "metadata": {
    "slideshow": {
     "slide_type": "subslide"
    }
   },
   "source": [
    "### Taxa de Ganho (*Gain Ratio*)\n",
    "\n",
    "- A Taxa de Ganho de um atrbiuto consiste na razão entre o ganho de informação e a informação intrínseca do atributo que vai dividir o conjunto de dados.\n",
    "\n",
    "- A informação intrínseca (*Intrinsic Information* - I) nada mais é do que a entropia do atributo, sem usar informação da classe.\n",
    "\n",
    "- Equação:\n",
    "\n",
    "$$ GainRatio(X,A) = \\frac{IG(X,A)}{I(A)} = \\frac{IG(X,A)}{E(A)}$$\n",
    "\n",
    "- onde,\n",
    "    - $IG(X,A)$ é o ganho de informação do atributo $A$ no conjunto $X$\n",
    "    - $E(A)$ é a entropia (*cuidado*: não é $E(X,A)$ )"
   ]
  },
  {
   "cell_type": "markdown",
   "metadata": {
    "slideshow": {
     "slide_type": "subslide"
    }
   },
   "source": [
    "#### Implementação da Função"
   ]
  },
  {
   "cell_type": "code",
   "execution_count": 51,
   "metadata": {
    "slideshow": {
     "slide_type": "-"
    }
   },
   "outputs": [],
   "source": [
    "razao.de.ganho <- function(X,A){\n",
    "    ganho.de.informacao(X,A) / entropia( X[, get(A)] )    \n",
    "}"
   ]
  },
  {
   "cell_type": "markdown",
   "metadata": {
    "slideshow": {
     "slide_type": "subslide"
    }
   },
   "source": [
    "#### Exemplo: Ganho de Informação *vs* Razão de Ganho\n",
    "-  Atributo **AnimalID**"
   ]
  },
  {
   "cell_type": "code",
   "execution_count": 49,
   "metadata": {},
   "outputs": [
    {
     "data": {
      "text/html": [
       "<table>\n",
       "<thead><tr><th scope=col>atributo</th><th scope=col>ganho.de.informacao</th><th scope=col>razao.de.ganho</th></tr></thead>\n",
       "<tbody>\n",
       "\t<tr><td>AnimalID </td><td>1.793939 </td><td>0.1219859</td></tr>\n",
       "</tbody>\n",
       "</table>\n"
      ],
      "text/latex": [
       "\\begin{tabular}{r|lll}\n",
       " atributo & ganho.de.informacao & razao.de.ganho\\\\\n",
       "\\hline\n",
       "\t AnimalID  & 1.793939  & 0.1219859\\\\\n",
       "\\end{tabular}\n"
      ],
      "text/markdown": [
       "\n",
       "atributo | ganho.de.informacao | razao.de.ganho | \n",
       "|---|\n",
       "| AnimalID  | 1.793939  | 0.1219859 | \n",
       "\n",
       "\n"
      ],
      "text/plain": [
       "  atributo ganho.de.informacao razao.de.ganho\n",
       "1 AnimalID 1.793939            0.1219859     "
      ]
     },
     "metadata": {},
     "output_type": "display_data"
    }
   ],
   "source": [
    "data.table( atributo = \"AnimalID\",\n",
    "    ganho.de.informacao = ganho.de.informacao(dt,\"AnimalID\"),\n",
    "    razao.de.ganho = razao.de.ganho(dt,\"AnimalID\" ) )"
   ]
  },
  {
   "cell_type": "markdown",
   "metadata": {},
   "source": [
    "- Atributo **SexuponOutcome**"
   ]
  },
  {
   "cell_type": "code",
   "execution_count": 48,
   "metadata": {},
   "outputs": [
    {
     "data": {
      "text/html": [
       "<table>\n",
       "<thead><tr><th scope=col>atributo</th><th scope=col>ganho.de.informacao</th><th scope=col>razao.de.ganho</th></tr></thead>\n",
       "<tbody>\n",
       "\t<tr><td>SexuponOutcome</td><td>0.2986934     </td><td>0.1480287     </td></tr>\n",
       "</tbody>\n",
       "</table>\n"
      ],
      "text/latex": [
       "\\begin{tabular}{r|lll}\n",
       " atributo & ganho.de.informacao & razao.de.ganho\\\\\n",
       "\\hline\n",
       "\t SexuponOutcome & 0.2986934      & 0.1480287     \\\\\n",
       "\\end{tabular}\n"
      ],
      "text/markdown": [
       "\n",
       "atributo | ganho.de.informacao | razao.de.ganho | \n",
       "|---|\n",
       "| SexuponOutcome | 0.2986934      | 0.1480287      | \n",
       "\n",
       "\n"
      ],
      "text/plain": [
       "  atributo       ganho.de.informacao razao.de.ganho\n",
       "1 SexuponOutcome 0.2986934           0.1480287     "
      ]
     },
     "metadata": {},
     "output_type": "display_data"
    }
   ],
   "source": [
    "data.table( atributo = \"SexuponOutcome\",\n",
    "    ganho.de.informacao = ganho.de.informacao(dt,\"SexuponOutcome\"),\n",
    "    razao.de.ganho = razao.de.ganho(dt,\"SexuponOutcome\" ) )"
   ]
  },
  {
   "cell_type": "markdown",
   "metadata": {
    "slideshow": {
     "slide_type": "slide"
    }
   },
   "source": [
    "### Considerações Finais\n",
    "\n",
    "- As duas medidas, em geral, retornam bons resultados, pois não é comum usar atributos, como o ID para fazer predições\n",
    "\n",
    "- O ganho de informação é tendencioso com atributos com muitos valores possíveis\n",
    "\n",
    "- A taxa de ganho tende a favorecer atributos com menos valores possíveis e mais *balanceados*."
   ]
  }
 ],
 "metadata": {
  "anaconda-cloud": {},
  "kernelspec": {
   "display_name": "R",
   "language": "R",
   "name": "ir"
  },
  "language_info": {
   "codemirror_mode": "r",
   "file_extension": ".r",
   "mimetype": "text/x-r-source",
   "name": "R",
   "pygments_lexer": "r",
   "version": "3.3.3"
  }
 },
 "nbformat": 4,
 "nbformat_minor": 2
}
