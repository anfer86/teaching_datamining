{
 "cells": [
  {
   "cell_type": "markdown",
   "metadata": {
    "slideshow": {
     "slide_type": "slide"
    }
   },
   "source": [
    "<link rel=\"stylesheet\" href=\"estilo.css\">\n",
    "\n",
    "<img src=\"img/logoifsc.png\">"
   ]
  },
  {
   "cell_type": "markdown",
   "metadata": {},
   "source": [
    "---\n",
    "\n",
    "Prof. Carlos Andrés Ferrero\n",
    "\n",
    "# Mineração de Dados\n",
    "\n",
    "## Pré-Processamento de Dados no Conjunto de Dados Shelter Animals\n",
    "    \n",
    "---"
   ]
  },
  {
   "cell_type": "markdown",
   "metadata": {
    "slideshow": {
     "slide_type": "slide"
    }
   },
   "source": [
    "## Problema: predição do destino de animais em abrigos\n",
    "\n",
    "- Aproximadamente 7,6 milhões de animais são recolhidos em abrigos. Muitos desses animais tem a sorte de voltar aos seus donos ou ainda serem adotados, mas não todos contam com essa sorte. Muitos animais esperam a vida inteira por uma família que possa adotá-lo. 2.7 milhões de cachorros e gatos sofrem eutanasia todo ano nos estados unidos. O Centro Animal de Austin divulgou dados sobre mais de 25.000 animais para a comunidade de Data Mining auxiliá-los a predizer qual será o destino dos animais. Mais informações no site da [Kaggle](https://www.kaggle.com/c/shelter-animal-outcomes)"
   ]
  },
  {
   "cell_type": "markdown",
   "metadata": {
    "slideshow": {
     "slide_type": "slide"
    }
   },
   "source": [
    "## Visão Geral dos Dados"
   ]
  },
  {
   "cell_type": "code",
   "execution_count": 1,
   "metadata": {},
   "outputs": [
    {
     "data": {
      "text/html": [
       "<table>\n",
       "<thead><tr><th scope=col>AnimalID</th><th scope=col>Name</th><th scope=col>DateTime</th><th scope=col>OutcomeType</th><th scope=col>OutcomeSubtype</th><th scope=col>AnimalType</th><th scope=col>SexuponOutcome</th><th scope=col>AgeuponOutcome</th><th scope=col>Breed</th><th scope=col>Color</th></tr></thead>\n",
       "<tbody>\n",
       "\t<tr><td>A671945                    </td><td>Hambone                    </td><td>2014-02-12 18:22:00        </td><td>Return_to_owner            </td><td>                           </td><td>Dog                        </td><td>Neutered Male              </td><td>1 year                     </td><td>Shetland Sheepdog Mix      </td><td>Brown/White                </td></tr>\n",
       "\t<tr><td>A656520                    </td><td>Emily                      </td><td>2013-10-13 12:44:00        </td><td>Euthanasia                 </td><td>Suffering                  </td><td>Cat                        </td><td>Spayed Female              </td><td>1 year                     </td><td>Domestic Shorthair Mix     </td><td>Cream Tabby                </td></tr>\n",
       "\t<tr><td>A686464                    </td><td>Pearce                     </td><td>2015-01-31 12:28:00        </td><td>Adoption                   </td><td>Foster                     </td><td>Dog                        </td><td>Neutered Male              </td><td>2 years                    </td><td>Pit Bull Mix               </td><td>Blue/White                 </td></tr>\n",
       "\t<tr><td>A683430                    </td><td>                           </td><td>2014-07-11 19:09:00        </td><td>Transfer                   </td><td>Partner                    </td><td>Cat                        </td><td>Intact Male                </td><td>3 weeks                    </td><td>Domestic Shorthair Mix     </td><td>Blue Cream                 </td></tr>\n",
       "\t<tr><td>A667013                    </td><td>                           </td><td>2013-11-15 12:52:00        </td><td>Transfer                   </td><td>Partner                    </td><td>Dog                        </td><td>Neutered Male              </td><td>2 years                    </td><td>Lhasa Apso/Miniature Poodle</td><td>Tan                        </td></tr>\n",
       "</tbody>\n",
       "</table>\n"
      ],
      "text/latex": [
       "\\begin{tabular}{r|llllllllll}\n",
       " AnimalID & Name & DateTime & OutcomeType & OutcomeSubtype & AnimalType & SexuponOutcome & AgeuponOutcome & Breed & Color\\\\\n",
       "\\hline\n",
       "\t A671945                     & Hambone                     & 2014-02-12 18:22:00         & Return\\_to\\_owner         &                             & Dog                         & Neutered Male               & 1 year                      & Shetland Sheepdog Mix       & Brown/White                \\\\\n",
       "\t A656520                     & Emily                       & 2013-10-13 12:44:00         & Euthanasia                  & Suffering                   & Cat                         & Spayed Female               & 1 year                      & Domestic Shorthair Mix      & Cream Tabby                \\\\\n",
       "\t A686464                     & Pearce                      & 2015-01-31 12:28:00         & Adoption                    & Foster                      & Dog                         & Neutered Male               & 2 years                     & Pit Bull Mix                & Blue/White                 \\\\\n",
       "\t A683430                     &                             & 2014-07-11 19:09:00         & Transfer                    & Partner                     & Cat                         & Intact Male                 & 3 weeks                     & Domestic Shorthair Mix      & Blue Cream                 \\\\\n",
       "\t A667013                     &                             & 2013-11-15 12:52:00         & Transfer                    & Partner                     & Dog                         & Neutered Male               & 2 years                     & Lhasa Apso/Miniature Poodle & Tan                        \\\\\n",
       "\\end{tabular}\n"
      ],
      "text/markdown": [
       "\n",
       "AnimalID | Name | DateTime | OutcomeType | OutcomeSubtype | AnimalType | SexuponOutcome | AgeuponOutcome | Breed | Color | \n",
       "|---|---|---|---|---|\n",
       "| A671945                     | Hambone                     | 2014-02-12 18:22:00         | Return_to_owner             |                             | Dog                         | Neutered Male               | 1 year                      | Shetland Sheepdog Mix       | Brown/White                 | \n",
       "| A656520                     | Emily                       | 2013-10-13 12:44:00         | Euthanasia                  | Suffering                   | Cat                         | Spayed Female               | 1 year                      | Domestic Shorthair Mix      | Cream Tabby                 | \n",
       "| A686464                     | Pearce                      | 2015-01-31 12:28:00         | Adoption                    | Foster                      | Dog                         | Neutered Male               | 2 years                     | Pit Bull Mix                | Blue/White                  | \n",
       "| A683430                     |                             | 2014-07-11 19:09:00         | Transfer                    | Partner                     | Cat                         | Intact Male                 | 3 weeks                     | Domestic Shorthair Mix      | Blue Cream                  | \n",
       "| A667013                     |                             | 2013-11-15 12:52:00         | Transfer                    | Partner                     | Dog                         | Neutered Male               | 2 years                     | Lhasa Apso/Miniature Poodle | Tan                         | \n",
       "\n",
       "\n"
      ],
      "text/plain": [
       "  AnimalID Name    DateTime            OutcomeType     OutcomeSubtype\n",
       "1 A671945  Hambone 2014-02-12 18:22:00 Return_to_owner               \n",
       "2 A656520  Emily   2013-10-13 12:44:00 Euthanasia      Suffering     \n",
       "3 A686464  Pearce  2015-01-31 12:28:00 Adoption        Foster        \n",
       "4 A683430          2014-07-11 19:09:00 Transfer        Partner       \n",
       "5 A667013          2013-11-15 12:52:00 Transfer        Partner       \n",
       "  AnimalType SexuponOutcome AgeuponOutcome Breed                      \n",
       "1 Dog        Neutered Male  1 year         Shetland Sheepdog Mix      \n",
       "2 Cat        Spayed Female  1 year         Domestic Shorthair Mix     \n",
       "3 Dog        Neutered Male  2 years        Pit Bull Mix               \n",
       "4 Cat        Intact Male    3 weeks        Domestic Shorthair Mix     \n",
       "5 Dog        Neutered Male  2 years        Lhasa Apso/Miniature Poodle\n",
       "  Color      \n",
       "1 Brown/White\n",
       "2 Cream Tabby\n",
       "3 Blue/White \n",
       "4 Blue Cream \n",
       "5 Tan        "
      ]
     },
     "metadata": {},
     "output_type": "display_data"
    }
   ],
   "source": [
    "library(data.table)\n",
    "dt <- fread(\"data/train.csv\")\n",
    "head(dt,5)"
   ]
  },
  {
   "cell_type": "markdown",
   "metadata": {
    "slideshow": {
     "slide_type": "slide"
    }
   },
   "source": [
    "## Ativdade\n",
    "\n",
    "- (1) Apresente tabelas com a frequência (contagem e percentual) dos possíveis valores dos atributos **AnimalType**, **SexuponOutcome** e **AgeuponOutcome**. Apresente um gráfico para esses atributos que também mostre a frequência ou proporção dos possíveis valores."
   ]
  },
  {
   "cell_type": "code",
   "execution_count": 2,
   "metadata": {},
   "outputs": [
    {
     "data": {
      "text/html": [
       "<table>\n",
       "<thead><tr><th scope=col>AnimalType</th><th scope=col>contagem</th><th scope=col>percentual</th></tr></thead>\n",
       "<tbody>\n",
       "\t<tr><td>Dog      </td><td>15595    </td><td>0.5834487</td></tr>\n",
       "\t<tr><td>Cat      </td><td>11134    </td><td>0.4165513</td></tr>\n",
       "</tbody>\n",
       "</table>\n"
      ],
      "text/latex": [
       "\\begin{tabular}{r|lll}\n",
       " AnimalType & contagem & percentual\\\\\n",
       "\\hline\n",
       "\t Dog       & 15595     & 0.5834487\\\\\n",
       "\t Cat       & 11134     & 0.4165513\\\\\n",
       "\\end{tabular}\n"
      ],
      "text/markdown": [
       "\n",
       "AnimalType | contagem | percentual | \n",
       "|---|---|\n",
       "| Dog       | 15595     | 0.5834487 | \n",
       "| Cat       | 11134     | 0.4165513 | \n",
       "\n",
       "\n"
      ],
      "text/plain": [
       "  AnimalType contagem percentual\n",
       "1 Dog        15595    0.5834487 \n",
       "2 Cat        11134    0.4165513 "
      ]
     },
     "metadata": {},
     "output_type": "display_data"
    }
   ],
   "source": [
    "n <- nrow(dt)\n",
    "dt[,.(contagem = .N, percentual = .N/n),by=.(AnimalType)]"
   ]
  },
  {
   "cell_type": "markdown",
   "metadata": {
    "slideshow": {
     "slide_type": "subslide"
    }
   },
   "source": [
    "- (2) O atributo **AgeuponOutcome** descreve quantidades mas é apresentado de forma nominal, misturando anos, meses e semanas. Transforme o atributo AgeuponOutcome para número de dias **DaysuponOutcome**. Transforme o atributo DaysuponOutcome em um atributo discreto (não substitua o atributo original, crie novos atributos), utilizando as seguintes técnicas:\n",
    "\n",
    "    a. Intervalos de tamanho pré-definidos. Intervalos: [0;1095), [1095;2555), [2555,4380] dias. (atributo *DaysuponOutcome. intervalo_a*)\n",
    "\n",
    "    b. Intervalos de igual tamanho, sendo o tamanho 3 intervalos. (atributo *DaysuponOutcome.intervalo_b*)\n",
    "\n",
    "    c. Intervalos com o mesmo número de elementos, sendo 10 intervalos. (atributo *DaysuponOutcome.intervalo_c*)\n",
    "    \n",
    "    d. Faça gráficos mostrar como ficou a distribuição dos valores utilizando os diferentes intervalos, nas questões a) e b), para a questão c) calcule a média e o desvio padrão de cada intervalo."
   ]
  },
  {
   "cell_type": "code",
   "execution_count": 26,
   "metadata": {},
   "outputs": [],
   "source": [
    "dt.aux <- data.table(AgeuponOutcome = dt$AgeuponOutcome)\n",
    "dt.aux <- dt.aux[, c(\"Numero\",\"Unidade\") := tstrsplit(AgeuponOutcome,\" \",fixed=T) ]\n",
    "\n",
    "dt.aux$Unidade <- gsub(\"year(\\\\w?)\" ,\"365\", dt.aux$Unidade )\n",
    "dt.aux$Unidade <- gsub(\"month(\\\\w?)\",\"30\",  dt.aux$Unidade )\n",
    "dt.aux$Unidade <- gsub(\"week(\\\\w?)\" ,\"7\",   dt.aux$Unidade )\n",
    "dt.aux$Unidade <- gsub(\"day(\\\\w?)\"  ,\"1\",   dt.aux$Unidade )\n",
    "dt.aux$Unidade <- gsub(\"^$\"         ,\"-1\",  dt.aux$Unidade )\n",
    "\n",
    "dt$DaysuponOutcome <- as.numeric(dt.aux$Numero) * as.numeric(dt.aux$Unidade)"
   ]
  },
  {
   "cell_type": "code",
   "execution_count": 44,
   "metadata": {},
   "outputs": [
    {
     "data": {
      "text/html": [
       "&lt;NA&gt;"
      ],
      "text/latex": [
       "<NA>"
      ],
      "text/markdown": [
       "&lt;NA&gt;"
      ],
      "text/plain": [
       "[1] NA"
      ]
     },
     "metadata": {},
     "output_type": "display_data"
    },
    {
     "data": {
      "text/html": [
       "<ol class=list-inline>\n",
       "\t<li>2481</li>\n",
       "\t<li>2913</li>\n",
       "\t<li>3767</li>\n",
       "\t<li>3876</li>\n",
       "\t<li>4499</li>\n",
       "\t<li>5138</li>\n",
       "\t<li>5692</li>\n",
       "\t<li>7006</li>\n",
       "\t<li>8421</li>\n",
       "\t<li>17465</li>\n",
       "\t<li>18491</li>\n",
       "\t<li>19928</li>\n",
       "\t<li>21524</li>\n",
       "\t<li>22381</li>\n",
       "\t<li>22449</li>\n",
       "\t<li>24329</li>\n",
       "\t<li>26552</li>\n",
       "\t<li>26571</li>\n",
       "</ol>\n"
      ],
      "text/latex": [
       "\\begin{enumerate*}\n",
       "\\item 2481\n",
       "\\item 2913\n",
       "\\item 3767\n",
       "\\item 3876\n",
       "\\item 4499\n",
       "\\item 5138\n",
       "\\item 5692\n",
       "\\item 7006\n",
       "\\item 8421\n",
       "\\item 17465\n",
       "\\item 18491\n",
       "\\item 19928\n",
       "\\item 21524\n",
       "\\item 22381\n",
       "\\item 22449\n",
       "\\item 24329\n",
       "\\item 26552\n",
       "\\item 26571\n",
       "\\end{enumerate*}\n"
      ],
      "text/markdown": [
       "1. 2481\n",
       "2. 2913\n",
       "3. 3767\n",
       "4. 3876\n",
       "5. 4499\n",
       "6. 5138\n",
       "7. 5692\n",
       "8. 7006\n",
       "9. 8421\n",
       "10. 17465\n",
       "11. 18491\n",
       "12. 19928\n",
       "13. 21524\n",
       "14. 22381\n",
       "15. 22449\n",
       "16. 24329\n",
       "17. 26552\n",
       "18. 26571\n",
       "\n",
       "\n"
      ],
      "text/plain": [
       " [1]  2481  2913  3767  3876  4499  5138  5692  7006  8421 17465 18491 19928\n",
       "[13] 21524 22381 22449 24329 26552 26571"
      ]
     },
     "metadata": {},
     "output_type": "display_data"
    }
   ],
   "source": [
    "dt$DaysuponOutcome[2481]\n",
    "which(dt$AgeuponOutcome == \"\")\n"
   ]
  },
  {
   "cell_type": "code",
   "execution_count": 5,
   "metadata": {},
   "outputs": [],
   "source": [
    "dt$DaysuponOutcome <- dt$AgeuponOutcome;\n",
    "dt$DaysuponOutcome <- gsub(\"year(\\\\w?)\" ,\"* 365\", dt$DaysuponOutcome)\n",
    "dt$DaysuponOutcome <- gsub(\"month(\\\\w?)\",\"* 30\", dt$DaysuponOutcome)\n",
    "dt$DaysuponOutcome <- gsub(\"week(\\\\w?)\"  ,\"* 7\", dt$DaysuponOutcome)\n",
    "dt$DaysuponOutcome <- gsub(\"day(\\\\w?)\"  ,\"* 1\", dt$DaysuponOutcome)\n",
    "dt$DaysuponOutcome <- gsub(\"^$\"  ,\"-1\", dt$DaysuponOutcome)\n",
    "\n",
    "dt$DaysuponOutcome <- sapply( dt$DaysuponOutcome, \n",
    "                             function (x) eval(parse(text=x)))  \n",
    "dt$DaysuponOutcome <- as.numeric(dt$DaysuponOutcome)"
   ]
  },
  {
   "cell_type": "code",
   "execution_count": 7,
   "metadata": {},
   "outputs": [
    {
     "data": {
      "text/html": [
       "<table>\n",
       "<thead><tr><th scope=col>AnimalID</th><th scope=col>Name</th><th scope=col>DateTime</th><th scope=col>OutcomeType</th><th scope=col>OutcomeSubtype</th><th scope=col>AnimalType</th><th scope=col>SexuponOutcome</th><th scope=col>AgeuponOutcome</th><th scope=col>Breed</th><th scope=col>Color</th><th scope=col>DaysuponOutcome</th></tr></thead>\n",
       "<tbody>\n",
       "\t<tr><td>A671945               </td><td>Hambone               </td><td>2014-02-12 18:22:00   </td><td>Return_to_owner       </td><td>                      </td><td>Dog                   </td><td>Neutered Male         </td><td>1 year                </td><td>Shetland Sheepdog Mix </td><td>Brown/White           </td><td>365                   </td></tr>\n",
       "\t<tr><td>A656520               </td><td>Emily                 </td><td>2013-10-13 12:44:00   </td><td>Euthanasia            </td><td>Suffering             </td><td>Cat                   </td><td>Spayed Female         </td><td>1 year                </td><td>Domestic Shorthair Mix</td><td>Cream Tabby           </td><td>365                   </td></tr>\n",
       "\t<tr><td>A686464               </td><td>Pearce                </td><td>2015-01-31 12:28:00   </td><td>Adoption              </td><td>Foster                </td><td>Dog                   </td><td>Neutered Male         </td><td>2 years               </td><td>Pit Bull Mix          </td><td>Blue/White            </td><td>730                   </td></tr>\n",
       "\t<tr><td>A683430               </td><td>                      </td><td>2014-07-11 19:09:00   </td><td>Transfer              </td><td>Partner               </td><td>Cat                   </td><td>Intact Male           </td><td>3 weeks               </td><td>Domestic Shorthair Mix</td><td>Blue Cream            </td><td> 21                   </td></tr>\n",
       "</tbody>\n",
       "</table>\n"
      ],
      "text/latex": [
       "\\begin{tabular}{r|lllllllllll}\n",
       " AnimalID & Name & DateTime & OutcomeType & OutcomeSubtype & AnimalType & SexuponOutcome & AgeuponOutcome & Breed & Color & DaysuponOutcome\\\\\n",
       "\\hline\n",
       "\t A671945                & Hambone                & 2014-02-12 18:22:00    & Return\\_to\\_owner    &                        & Dog                    & Neutered Male          & 1 year                 & Shetland Sheepdog Mix  & Brown/White            & 365                   \\\\\n",
       "\t A656520                & Emily                  & 2013-10-13 12:44:00    & Euthanasia             & Suffering              & Cat                    & Spayed Female          & 1 year                 & Domestic Shorthair Mix & Cream Tabby            & 365                   \\\\\n",
       "\t A686464                & Pearce                 & 2015-01-31 12:28:00    & Adoption               & Foster                 & Dog                    & Neutered Male          & 2 years                & Pit Bull Mix           & Blue/White             & 730                   \\\\\n",
       "\t A683430                &                        & 2014-07-11 19:09:00    & Transfer               & Partner                & Cat                    & Intact Male            & 3 weeks                & Domestic Shorthair Mix & Blue Cream             &  21                   \\\\\n",
       "\\end{tabular}\n"
      ],
      "text/markdown": [
       "\n",
       "AnimalID | Name | DateTime | OutcomeType | OutcomeSubtype | AnimalType | SexuponOutcome | AgeuponOutcome | Breed | Color | DaysuponOutcome | \n",
       "|---|---|---|---|\n",
       "| A671945                | Hambone                | 2014-02-12 18:22:00    | Return_to_owner        |                        | Dog                    | Neutered Male          | 1 year                 | Shetland Sheepdog Mix  | Brown/White            | 365                    | \n",
       "| A656520                | Emily                  | 2013-10-13 12:44:00    | Euthanasia             | Suffering              | Cat                    | Spayed Female          | 1 year                 | Domestic Shorthair Mix | Cream Tabby            | 365                    | \n",
       "| A686464                | Pearce                 | 2015-01-31 12:28:00    | Adoption               | Foster                 | Dog                    | Neutered Male          | 2 years                | Pit Bull Mix           | Blue/White             | 730                    | \n",
       "| A683430                |                        | 2014-07-11 19:09:00    | Transfer               | Partner                | Cat                    | Intact Male            | 3 weeks                | Domestic Shorthair Mix | Blue Cream             |  21                    | \n",
       "\n",
       "\n"
      ],
      "text/plain": [
       "  AnimalID Name    DateTime            OutcomeType     OutcomeSubtype\n",
       "1 A671945  Hambone 2014-02-12 18:22:00 Return_to_owner               \n",
       "2 A656520  Emily   2013-10-13 12:44:00 Euthanasia      Suffering     \n",
       "3 A686464  Pearce  2015-01-31 12:28:00 Adoption        Foster        \n",
       "4 A683430          2014-07-11 19:09:00 Transfer        Partner       \n",
       "  AnimalType SexuponOutcome AgeuponOutcome Breed                  Color      \n",
       "1 Dog        Neutered Male  1 year         Shetland Sheepdog Mix  Brown/White\n",
       "2 Cat        Spayed Female  1 year         Domestic Shorthair Mix Cream Tabby\n",
       "3 Dog        Neutered Male  2 years        Pit Bull Mix           Blue/White \n",
       "4 Cat        Intact Male    3 weeks        Domestic Shorthair Mix Blue Cream \n",
       "  DaysuponOutcome\n",
       "1 365            \n",
       "2 365            \n",
       "3 730            \n",
       "4  21            "
      ]
     },
     "metadata": {},
     "output_type": "display_data"
    }
   ],
   "source": [
    "head(dt,4)"
   ]
  },
  {
   "cell_type": "code",
   "execution_count": 8,
   "metadata": {},
   "outputs": [
    {
     "name": "stderr",
     "output_type": "stream",
     "text": [
      "`stat_bin()` using `bins = 30`. Pick better value with `binwidth`.\n"
     ]
    },
    {
     "data": {},
     "metadata": {},
     "output_type": "display_data"
    },
    {
     "data": {
      "image/png": "[encoded data removed]",
      "text/plain": [
       "plot without title"
      ]
     },
     "metadata": {},
     "output_type": "display_data"
    }
   ],
   "source": [
    "library(ggplot2)\n",
    "ggplot(dt, aes(x=DaysuponOutcome)) + geom_histogram()"
   ]
  },
  {
   "cell_type": "markdown",
   "metadata": {
    "slideshow": {
     "slide_type": "subslide"
    }
   },
   "source": [
    "- (3) Ainda em relação ao atributo **DaysuponOutcome**, calcule:\n",
    "\n",
    "    a. Média, desvio padrão.\n",
    "\n",
    "    b. Mediana, Valor mínimo e Valor máximo.\n",
    "\n",
    "    c. Crie os novos atributos com os valores normalizados com as técncias de normalização linear, desvio padrão e valor máximo."
   ]
  },
  {
   "cell_type": "markdown",
   "metadata": {
    "slideshow": {
     "slide_type": "subslide"
    }
   },
   "source": [
    "- (4) Mostre o novo conjunto de dados incluíndo os atributos criados e seus valores.\n",
    "\n",
    "- (5) O atributo **DateTime** corresponde à data e hora do animal aochegar ao abrigo. Extraia diferentes informações sobre esse atributo complexo: como o período (manhã, tarde, noite, madrugada), dia da semana em número, dia da semana extenso, entre outros. Procurar na documentação do pacote *libridate*."
   ]
  }
 ],
 "metadata": {
  "anaconda-cloud": {},
  "kernelspec": {
   "display_name": "R",
   "language": "R",
   "name": "ir"
  },
  "language_info": {
   "codemirror_mode": "r",
   "file_extension": ".r",
   "mimetype": "text/x-r-source",
   "name": "R",
   "pygments_lexer": "r",
   "version": "3.3.3"
  }
 },
 "nbformat": 4,
 "nbformat_minor": 2
}
