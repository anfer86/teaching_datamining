{
 "cells": [
  {
   "cell_type": "markdown",
   "metadata": {
    "slideshow": {
     "slide_type": "slide"
    }
   },
   "source": [
    "<link rel=\"stylesheet\" href=\"estilo.css\">\n",
    "\n",
    "<img src=\"img/logoifsc.png\">"
   ]
  },
  {
   "cell_type": "markdown",
   "metadata": {},
   "source": [
    "---\n",
    "\n",
    "Prof. Carlos Andrés Ferrero\n",
    "\n",
    "# Mineração de Dados\n",
    "\n",
    "## Pré-Processamento de Dados no Conjunto de Dados Shelter Animals\n",
    "    \n",
    "---"
   ]
  },
  {
   "cell_type": "markdown",
   "metadata": {
    "slideshow": {
     "slide_type": "slide"
    }
   },
   "source": [
    "## Problema: predição do destino de animais em abrigos\n",
    "\n",
    "- Aproximadamente 7,6 milhões de animais são recolhidos em abrigos. Muitos desses animais tem a sorte de voltar aos seus donos ou ainda serem adotados, mas não todos contam com essa sorte. Muitos animais esperam a vida inteira por uma família que possa adotá-lo. 2.7 milhões de cachorros e gatos sofrem eutanasia todo ano nos estados unidos. O Centro Animal de Austin divulgou dados sobre mais de 25.000 animais para a comunidade de Data Mining da Kaggle auxiliá-los a predizer qual será o destino dos animais. Mais informações no site da [Kaggle](https://www.kaggle.com/c/shelter-animal-outcomes)."
   ]
  },
  {
   "cell_type": "markdown",
   "metadata": {
    "slideshow": {
     "slide_type": "slide"
    }
   },
   "source": [
    "## Visão Geral dos Dados"
   ]
  },
  {
   "cell_type": "code",
   "execution_count": 1,
   "metadata": {},
   "outputs": [
    {
     "data": {
      "text/html": [
       "<table>\n",
       "<thead><tr><th scope=col>AnimalID</th><th scope=col>Name</th><th scope=col>DateTime</th><th scope=col>OutcomeType</th><th scope=col>OutcomeSubtype</th><th scope=col>AnimalType</th><th scope=col>SexuponOutcome</th><th scope=col>AgeuponOutcome</th><th scope=col>Breed</th><th scope=col>Color</th></tr></thead>\n",
       "<tbody>\n",
       "\t<tr><td>A671945                    </td><td>Hambone                    </td><td>2014-02-12 18:22:00        </td><td>Return_to_owner            </td><td>                           </td><td>Dog                        </td><td>Neutered Male              </td><td>1 year                     </td><td>Shetland Sheepdog Mix      </td><td>Brown/White                </td></tr>\n",
       "\t<tr><td>A656520                    </td><td>Emily                      </td><td>2013-10-13 12:44:00        </td><td>Euthanasia                 </td><td>Suffering                  </td><td>Cat                        </td><td>Spayed Female              </td><td>1 year                     </td><td>Domestic Shorthair Mix     </td><td>Cream Tabby                </td></tr>\n",
       "\t<tr><td>A686464                    </td><td>Pearce                     </td><td>2015-01-31 12:28:00        </td><td>Adoption                   </td><td>Foster                     </td><td>Dog                        </td><td>Neutered Male              </td><td>2 years                    </td><td>Pit Bull Mix               </td><td>Blue/White                 </td></tr>\n",
       "\t<tr><td>A683430                    </td><td>                           </td><td>2014-07-11 19:09:00        </td><td>Transfer                   </td><td>Partner                    </td><td>Cat                        </td><td>Intact Male                </td><td>3 weeks                    </td><td>Domestic Shorthair Mix     </td><td>Blue Cream                 </td></tr>\n",
       "\t<tr><td>A667013                    </td><td>                           </td><td>2013-11-15 12:52:00        </td><td>Transfer                   </td><td>Partner                    </td><td>Dog                        </td><td>Neutered Male              </td><td>2 years                    </td><td>Lhasa Apso/Miniature Poodle</td><td>Tan                        </td></tr>\n",
       "</tbody>\n",
       "</table>\n"
      ],
      "text/latex": [
       "\\begin{tabular}{r|llllllllll}\n",
       " AnimalID & Name & DateTime & OutcomeType & OutcomeSubtype & AnimalType & SexuponOutcome & AgeuponOutcome & Breed & Color\\\\\n",
       "\\hline\n",
       "\t A671945                     & Hambone                     & 2014-02-12 18:22:00         & Return\\_to\\_owner         &                             & Dog                         & Neutered Male               & 1 year                      & Shetland Sheepdog Mix       & Brown/White                \\\\\n",
       "\t A656520                     & Emily                       & 2013-10-13 12:44:00         & Euthanasia                  & Suffering                   & Cat                         & Spayed Female               & 1 year                      & Domestic Shorthair Mix      & Cream Tabby                \\\\\n",
       "\t A686464                     & Pearce                      & 2015-01-31 12:28:00         & Adoption                    & Foster                      & Dog                         & Neutered Male               & 2 years                     & Pit Bull Mix                & Blue/White                 \\\\\n",
       "\t A683430                     &                             & 2014-07-11 19:09:00         & Transfer                    & Partner                     & Cat                         & Intact Male                 & 3 weeks                     & Domestic Shorthair Mix      & Blue Cream                 \\\\\n",
       "\t A667013                     &                             & 2013-11-15 12:52:00         & Transfer                    & Partner                     & Dog                         & Neutered Male               & 2 years                     & Lhasa Apso/Miniature Poodle & Tan                        \\\\\n",
       "\\end{tabular}\n"
      ],
      "text/markdown": [
       "\n",
       "AnimalID | Name | DateTime | OutcomeType | OutcomeSubtype | AnimalType | SexuponOutcome | AgeuponOutcome | Breed | Color | \n",
       "|---|---|---|---|---|\n",
       "| A671945                     | Hambone                     | 2014-02-12 18:22:00         | Return_to_owner             |                             | Dog                         | Neutered Male               | 1 year                      | Shetland Sheepdog Mix       | Brown/White                 | \n",
       "| A656520                     | Emily                       | 2013-10-13 12:44:00         | Euthanasia                  | Suffering                   | Cat                         | Spayed Female               | 1 year                      | Domestic Shorthair Mix      | Cream Tabby                 | \n",
       "| A686464                     | Pearce                      | 2015-01-31 12:28:00         | Adoption                    | Foster                      | Dog                         | Neutered Male               | 2 years                     | Pit Bull Mix                | Blue/White                  | \n",
       "| A683430                     |                             | 2014-07-11 19:09:00         | Transfer                    | Partner                     | Cat                         | Intact Male                 | 3 weeks                     | Domestic Shorthair Mix      | Blue Cream                  | \n",
       "| A667013                     |                             | 2013-11-15 12:52:00         | Transfer                    | Partner                     | Dog                         | Neutered Male               | 2 years                     | Lhasa Apso/Miniature Poodle | Tan                         | \n",
       "\n",
       "\n"
      ],
      "text/plain": [
       "  AnimalID Name    DateTime            OutcomeType     OutcomeSubtype\n",
       "1 A671945  Hambone 2014-02-12 18:22:00 Return_to_owner               \n",
       "2 A656520  Emily   2013-10-13 12:44:00 Euthanasia      Suffering     \n",
       "3 A686464  Pearce  2015-01-31 12:28:00 Adoption        Foster        \n",
       "4 A683430          2014-07-11 19:09:00 Transfer        Partner       \n",
       "5 A667013          2013-11-15 12:52:00 Transfer        Partner       \n",
       "  AnimalType SexuponOutcome AgeuponOutcome Breed                      \n",
       "1 Dog        Neutered Male  1 year         Shetland Sheepdog Mix      \n",
       "2 Cat        Spayed Female  1 year         Domestic Shorthair Mix     \n",
       "3 Dog        Neutered Male  2 years        Pit Bull Mix               \n",
       "4 Cat        Intact Male    3 weeks        Domestic Shorthair Mix     \n",
       "5 Dog        Neutered Male  2 years        Lhasa Apso/Miniature Poodle\n",
       "  Color      \n",
       "1 Brown/White\n",
       "2 Cream Tabby\n",
       "3 Blue/White \n",
       "4 Blue Cream \n",
       "5 Tan        "
      ]
     },
     "metadata": {},
     "output_type": "display_data"
    }
   ],
   "source": [
    "library(data.table)\n",
    "dt <- fread(\"data/train.csv\")\n",
    "head(dt,5)"
   ]
  },
  {
   "cell_type": "markdown",
   "metadata": {
    "slideshow": {
     "slide_type": "slide"
    }
   },
   "source": [
    "## Ativdade\n",
    "\n",
    "- (1) Apresente tabelas com a frequência (contagem e percentual) dos possíveis valores dos atributos **AnimalType**, **SexuponOutcome** e **AgeuponOutcome**. Apresente um gráfico para esses atributos que também mostre a frequência ou proporção dos possíveis valores."
   ]
  },
  {
   "cell_type": "markdown",
   "metadata": {
    "slideshow": {
     "slide_type": "subslide"
    }
   },
   "source": [
    "- (3) Ainda em relação ao atributo **DaysuponOutcome**, calcule:\n",
    "\n",
    "    a. Média, desvio padrão.\n",
    "\n",
    "    b. Mediana, Valor mínimo e Valor máximo.\n",
    "\n",
    "    c. Crie os novos atributos com os valores normalizados com as técncias de normalização linear, desvio padrão e valor máximo."
   ]
  },
  {
   "cell_type": "markdown",
   "metadata": {
    "slideshow": {
     "slide_type": "subslide"
    }
   },
   "source": [
    "- (4) Mostre o novo conjunto de dados incluíndo os atributos criados e seus valores.\n",
    "\n",
    "- (5) O atributo **DateTime** corresponde à data e hora do animal aochegar ao abrigo. Extraia diferentes informações sobre esse atributo complexo: como o período (manhã, tarde, noite, madrugada), dia da semana em número, dia da semana extenso, entre outros. Procurar na documentação do pacote *libridate*."
   ]
  }
 ],
 "metadata": {
  "anaconda-cloud": {},
  "kernelspec": {
   "display_name": "R",
   "language": "R",
   "name": "ir"
  },
  "language_info": {
   "codemirror_mode": "r",
   "file_extension": ".r",
   "mimetype": "text/x-r-source",
   "name": "R",
   "pygments_lexer": "r",
   "version": "3.3.3"
  }
 },
 "nbformat": 4,
 "nbformat_minor": 2
}
