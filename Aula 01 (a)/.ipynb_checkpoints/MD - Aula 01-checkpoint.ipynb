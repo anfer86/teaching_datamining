{
 "cells": [
  {
   "cell_type": "markdown",
   "metadata": {
    "slideshow": {
     "slide_type": "slide"
    }
   },
   "source": [
    "<link rel=\"stylesheet\" href=\"ipython.min.css\">\n",
    "\n",
    "<img src=\"img/logoifsc.png\">\n",
    "\n",
    "---\n",
    "\n",
    "Prof. Carlos Andrés Ferrero\n",
    "\n",
    "# Mineração de Dados\n",
    "\n",
    "## Introdução à Mineração de Dados\n",
    "---"
   ]
  },
  {
   "cell_type": "markdown",
   "metadata": {
    "slideshow": {
     "slide_type": "slide"
    }
   },
   "source": [
    "# Conteúdo\n",
    "\n",
    "- Processo de Descoberta de Conhecimento\n",
    "- Aprendizado Supervisionado e Não-supervisionado\n",
    "- Paradigmas de Aprendizado"
   ]
  },
  {
   "cell_type": "markdown",
   "metadata": {
    "slideshow": {
     "slide_type": "slide"
    }
   },
   "source": [
    "# Introdução\n",
    "\n",
    "**Número de Usuários na Internet**\n",
    "- A quantidade de usuários na Internet no mundo pasou de 15 milhões em 1995 para 2,8 bilhões em 2013-2014 (CASTRO e FERRERRI, 2016) \n",
    "- Alguns dados dos últimos 12 anos mostram o crescimento\n",
    "\n",
    "<img src=\"img/numberofusers.png\" alt=\"Number of internet active users in the world\" width=\"70%\"/>\n",
    "\n",
    "- Em julho de 2018 esse número foi para 4 bilhões (STATISTA, 2018)"
   ]
  },
  {
   "cell_type": "markdown",
   "metadata": {
    "slideshow": {
     "slide_type": "subslide"
    }
   },
   "source": [
    "**Conteúdo no Wikipedia**\n",
    "- A quantidade de conteúdo produzida no Wikipedia é enorme\n",
    "- Em 2018 existem 5,5 milhões de artigos (apenas em Inglês)\n",
    "- São produzidos cerca de 500 novos artígos por dia\n",
    "\n",
    "<img src=\"img/numberofwiki.png\" width=\"70%\">\n",
    "\n",
    "By <a href=\"//commons.wikimedia.org/wiki/User:HenkvD\" title=\"User:HenkvD\">HenkvD</a> - <span class=\"int-own-work\" lang=\"en\">Own work</span>, <a href=\"https://creativecommons.org/licenses/by-sa/3.0\" title=\"Creative Commons Attribution-Share Alike 3.0\">CC BY-SA 3.0</a>, <a href=\"https://commons.wikimedia.org/w/index.php?curid=5702715\">Link</a>"
   ]
  },
  {
   "cell_type": "markdown",
   "metadata": {
    "slideshow": {
     "slide_type": "subslide"
    }
   },
   "source": [
    "**Buscas no Google**\n",
    "\n",
    "- O Google processa cerca de 3,5 bilhões de buscas por dia (3,500,000,000)\n",
    "- E cerca de 1,2 trilhões de buscas por ano (1,200,000,000,000)\n",
    "\n",
    "<img src=\"img/numberofsearches.png\" width=\"70%\">\n",
    "Fonte: <a href=\"http://www.internetlivestats.com/google-search-statistics/#sources\">Internet Livestats</a>\n",
    "\n",
    "- Entre 15 a 20% dessas buscas nunca foram feitas antes.\n"
   ]
  },
  {
   "cell_type": "markdown",
   "metadata": {
    "slideshow": {
     "slide_type": "subslide"
    }
   },
   "source": [
    "**Outras Estatísticas**\n",
    "\n",
    "- São escritos mais de 500 milhões de tuítes por dia\n",
    "\n",
    "- São vistos mais de 200 milhões de horas de vídeo no Youtube por dia\n",
    "\n",
    "- No Facebook são criado 5 perfís por segundo e existem cerca de 83 milhões de *fake profiles* (ZAFORIA.COM)\n",
    "<!-- https://zephoria.com/top-15-valuable-facebook-statistics/ -->\n",
    "\n",
    "- ..."
   ]
  },
  {
   "cell_type": "markdown",
   "metadata": {
    "slideshow": {
     "slide_type": "subslide"
    }
   },
   "source": [
    "**O que isto tem a ver com Mineração de Dados?**\n",
    "\n",
    "- A produção de dados pelos usuários de Internet é gigante\n",
    "\n",
    "- O Google utiliza (e cria) técnicas de mineração de dados, como Recuperação de Informação (*Information Retrieval*) para recuperar resultados das nossas consultas. Isto é mais do que uma consulta SQL.\n",
    "\n",
    "- Com os dados do Twitter é possível ver quais são os *hot topics* nas diferentes regiões do mundo e inferir diferentes sentimentos dos usuários (ou grupos de usuários) usando técnicas de mineração de textos (*text mining*), chamada de análise sentimento (*sentiment analysis*)\n",
    "- O Facebook usa mineração de dados para aprender sobre *fake profiles* e poder dar um grau de probabilidade de que um perfil de facebook trata-se de um *fake*. A classificação é um exemplo de técnica utilizada para esse fim."
   ]
  },
  {
   "cell_type": "markdown",
   "metadata": {
    "slideshow": {
     "slide_type": "subslide"
    }
   },
   "source": [
    "## Áreas de Conhecimento envolvidas\n",
    "\n",
    "- Visualização\n",
    "- Estatística\n",
    "- Matemática\n",
    "- Engenharia\n",
    "- Inteligência Artificial\n",
    "- Banco de Dados\n",
    "- Sistemas de Informação\n",
    "- ..."
   ]
  },
  {
   "cell_type": "markdown",
   "metadata": {
    "slideshow": {
     "slide_type": "subslide"
    }
   },
   "source": [
    "- Do ponto de vista de um *data miner* em geral não precisa conhecer todas essas áreas do conhecimento profundamente antes de começar a prática de minerar dados, mas precisamos ter uma ideia dessas disciplinas para poder aprender com a experiência.\n",
    "\n",
    "- Por exemplo, utilizar média e desvio padrão, dois temas fundamentais da Estatística, é vital para analisar dados, para entender a precisão de um *preditor*, entre outros.\n",
    "\n",
    "- Mais atualmente, estamos escutando os termos de *Data Science* e *Data Scientist*, os quais demonstram claramente a importancia da Análise de Dados de uma forma geral no contexto de *Big Data*.\n",
    "\n",
    "- Esses termos podem ser entendidos como uma evolução de data mining, onde procura-se analisar dados em diferentes formatos (convencionais, texto, imagens, temporais, entre outros) e, preferencialmente, de maneira conjunta, para extrair novas informações e conhecimentos, que sejam úteis para a sociedade."
   ]
  },
  {
   "cell_type": "markdown",
   "metadata": {
    "slideshow": {
     "slide_type": "slide"
    }
   },
   "source": [
    "## Dados, Informação e Conhecimento\n",
    "\n",
    "Uma visão prática (CASTRO e FERRARI, 2016):\n",
    "\n",
    "- Dados\n",
    "    - 1000 milibares\n",
    "    - 5,1 m/s; 95 graus\n",
    "    - 30 graus centígrados\n",
    "    - poucas\n",
    "    - 1000 metros"
   ]
  },
  {
   "cell_type": "markdown",
   "metadata": {
    "slideshow": {
     "slide_type": "fragment"
    }
   },
   "source": [
    "- Informação\n",
    "    - Pressão atmosférica = 1000 milibares\n",
    "    - Velocidade e direção do vento = 5,1 m/s; 95 graus\n",
    "    - Temperatura do ar = 30 graus centígrados\n",
    "    - Nuvens = poucas\n",
    "    - Visibilidade = 1000 mts"
   ]
  },
  {
   "cell_type": "markdown",
   "metadata": {
    "slideshow": {
     "slide_type": "fragment"
    }
   },
   "source": [
    "- Conhecimento\n",
    "    - A probabilidade de chuva é baixa, portanto, posso ir à praia"
   ]
  },
  {
   "cell_type": "markdown",
   "metadata": {
    "slideshow": {
     "slide_type": "subslide"
    }
   },
   "source": [
    "- Definições:\n",
    "\n",
    "    - **Dado**: símbolos e signos não estruturados, como os valores em tabelas e documentos\n",
    "\n",
    "    - **Informação**: consistem nos dados interpretados, agregando significado e utilidade aos dados\n",
    "\n",
    "    - **Conhecimento**: é algo que permite auxiliar em processos de tomada de decisão"
   ]
  },
  {
   "cell_type": "markdown",
   "metadata": {
    "slideshow": {
     "slide_type": "slide"
    }
   },
   "source": [
    "## Processo de Descoberta de Conhecimento em Bases de Dados\n",
    "\n",
    "- Também chamado de KDD (*Knowledge Discovery in Databases*), foi proposto por Piatetski-Shapiro em 1989\n",
    "\n",
    "- Esse processo tem como principal objetivo extrair padrões intrínsecos nos dados e apresentá-los de forma a facilitar a sua assimilação como conhecimento, bem como da utilização para outros fins\n"
   ]
  },
  {
   "cell_type": "markdown",
   "metadata": {
    "slideshow": {
     "slide_type": "subslide"
    }
   },
   "source": [
    "### Etapas do Processo de Descoberta de Conhecimento (KDD)\n",
    "\n",
    "<img src=\"img/Processo de KDD.png\" width=\"100%\">"
   ]
  },
  {
   "cell_type": "markdown",
   "metadata": {
    "slideshow": {
     "slide_type": "subslide"
    }
   },
   "source": [
    "### Pré-processamento\n",
    "\n",
    "- Visa preparar os dados para uma análise eficiente e eficaz\n",
    "\n",
    "- Algumas tarefas de pré-processamento:\n",
    "\n",
    "    - Limpeza (remoção de ruídos e dados inconsistentes)\n",
    "\n",
    "    - Integração (combinação de dados obtidos a partir de múltiplas fontes)\n",
    "\n",
    "    - Seleção de Dados ou Redução (escolha dos dados relevantes para análise)\n",
    "\n",
    "    - Transformação (transformação dos dados para um formato adequado para análise)"
   ]
  },
  {
   "cell_type": "markdown",
   "metadata": {
    "slideshow": {
     "slide_type": "subslide"
    }
   },
   "source": [
    "### Mineração de Dados ou Extração de Padrões\n",
    "\n",
    "- Aplicação de algoritmos capazes de extrair padrões e/ou informações e conhecimento relevantes a partir dos dados pré-processados\n",
    "\n",
    "- Algumas tarefas de mineração:\n",
    "    \n",
    "    - Análise descritiva estatística\n",
    "\n",
    "    - Agrupamento\n",
    "\n",
    "    - Modelos de Predição (classificação e regressão)\n",
    "\n",
    "    - Associação (extração de regras de associação)\n",
    "\n",
    "    - Detecção de Anomalias"
   ]
  },
  {
   "cell_type": "markdown",
   "metadata": {
    "slideshow": {
     "slide_type": "subslide"
    }
   },
   "source": [
    "### Pós-procesamento ou avaliação de modelos\n",
    "\n",
    "- Avaliação da qualidade dos modelos ou conhecimento extraído na etapa de Mineração de Dados\n",
    "\n",
    "- Algumas tarefas de pós-processamento:\n",
    "\n",
    "    - Verificar a precisão dos modelos construídos em novos dados\n",
    "\n",
    "    - Identificar conhecimentos verdadeiros e conhecimentos triviais\n",
    "\n",
    "    - Identificar problemas no pré-processamento ou mineração que precisem ser modificados para a melhoría do processo de descoberta de conhecimento"
   ]
  },
  {
   "cell_type": "markdown",
   "metadata": {
    "slideshow": {
     "slide_type": "subslide"
    }
   },
   "source": [
    "### Um exemplo prático\n",
    "\n",
    "- Estudo de um conjunto de dados de flores (*iris*)\n",
    "\n",
    "- O dataset está constutuído de 150 flores (50 flores de cada espécie). Cada flor está representada por 4 atributos numéricos:\n",
    "\n",
    "    - Sepal-length\n",
    "    - Sepal-width\n",
    "    - Petal-length\n",
    "    - Petal-width\n",
    "\n",
    "\n",
    "- As espécies ou *classes* são: *iris-versicolor*, *iris-virginica*, *iris-setosa*. Um exemplo dessas flores está nesta imagem:\n",
    "\n",
    "<img src=\"img/iris.png\" width=\"70%\"> \n",
    "\n",
    "Fonte: http://suruchifialoke.com/2016-10-13-machine-learning-tutorial-iris-classification/"
   ]
  },
  {
   "cell_type": "markdown",
   "metadata": {
    "slideshow": {
     "slide_type": "subslide"
    }
   },
   "source": [
    "**Uma visão geral do conjunto de dados coletado**"
   ]
  },
  {
   "cell_type": "code",
   "execution_count": 3,
   "metadata": {
    "slideshow": {
     "slide_type": "skip"
    }
   },
   "outputs": [],
   "source": [
    "library(data.table)\n",
    "dt.iris <- data.table(iris)\n",
    "dt.iris.text <- dt.iris[,.(Exemplos=paste0(\"Sepal.Length \",Sepal.Length,\n",
    "                                      \", Sepal.Width \",Sepal.Width,\n",
    "                                      \", Petal.Length \",Petal.Length,\n",
    "                                      \", Petal.Width \",Petal.Width,\n",
    "                                      \", and Species \",Species) )]"
   ]
  },
  {
   "cell_type": "code",
   "execution_count": 4,
   "metadata": {},
   "outputs": [
    {
     "data": {
      "text/html": [
       "<table>\n",
       "<thead><tr><th scope=col>Exemplos</th></tr></thead>\n",
       "<tbody>\n",
       "\t<tr><td>Sepal.Length 5.1, Sepal.Width 3.5, Petal.Length 1.4, Petal.Width 0.2, and Species setosa</td></tr>\n",
       "\t<tr><td>Sepal.Length 4.9, Sepal.Width 3, Petal.Length 1.4, Petal.Width 0.2, and Species setosa  </td></tr>\n",
       "\t<tr><td>Sepal.Length 4.7, Sepal.Width 3.2, Petal.Length 1.3, Petal.Width 0.2, and Species setosa</td></tr>\n",
       "\t<tr><td>Sepal.Length 4.6, Sepal.Width 3.1, Petal.Length 1.5, Petal.Width 0.2, and Species setosa</td></tr>\n",
       "\t<tr><td>Sepal.Length 5, Sepal.Width 3.6, Petal.Length 1.4, Petal.Width 0.2, and Species setosa  </td></tr>\n",
       "\t<tr><td>Sepal.Length 5.4, Sepal.Width 3.9, Petal.Length 1.7, Petal.Width 0.4, and Species setosa</td></tr>\n",
       "</tbody>\n",
       "</table>\n"
      ],
      "text/latex": [
       "\\begin{tabular}{r|l}\n",
       " Exemplos\\\\\n",
       "\\hline\n",
       "\t Sepal.Length 5.1, Sepal.Width 3.5, Petal.Length 1.4, Petal.Width 0.2, and Species setosa\\\\\n",
       "\t Sepal.Length 4.9, Sepal.Width 3, Petal.Length 1.4, Petal.Width 0.2, and Species setosa  \\\\\n",
       "\t Sepal.Length 4.7, Sepal.Width 3.2, Petal.Length 1.3, Petal.Width 0.2, and Species setosa\\\\\n",
       "\t Sepal.Length 4.6, Sepal.Width 3.1, Petal.Length 1.5, Petal.Width 0.2, and Species setosa\\\\\n",
       "\t Sepal.Length 5, Sepal.Width 3.6, Petal.Length 1.4, Petal.Width 0.2, and Species setosa  \\\\\n",
       "\t Sepal.Length 5.4, Sepal.Width 3.9, Petal.Length 1.7, Petal.Width 0.4, and Species setosa\\\\\n",
       "\\end{tabular}\n"
      ],
      "text/markdown": [
       "\n",
       "Exemplos | \n",
       "|---|---|---|---|---|---|\n",
       "| Sepal.Length 5.1, Sepal.Width 3.5, Petal.Length 1.4, Petal.Width 0.2, and Species setosa | \n",
       "| Sepal.Length 4.9, Sepal.Width 3, Petal.Length 1.4, Petal.Width 0.2, and Species setosa   | \n",
       "| Sepal.Length 4.7, Sepal.Width 3.2, Petal.Length 1.3, Petal.Width 0.2, and Species setosa | \n",
       "| Sepal.Length 4.6, Sepal.Width 3.1, Petal.Length 1.5, Petal.Width 0.2, and Species setosa | \n",
       "| Sepal.Length 5, Sepal.Width 3.6, Petal.Length 1.4, Petal.Width 0.2, and Species setosa   | \n",
       "| Sepal.Length 5.4, Sepal.Width 3.9, Petal.Length 1.7, Petal.Width 0.4, and Species setosa | \n",
       "\n",
       "\n"
      ],
      "text/plain": [
       "  Exemplos                                                                                \n",
       "1 Sepal.Length 5.1, Sepal.Width 3.5, Petal.Length 1.4, Petal.Width 0.2, and Species setosa\n",
       "2 Sepal.Length 4.9, Sepal.Width 3, Petal.Length 1.4, Petal.Width 0.2, and Species setosa  \n",
       "3 Sepal.Length 4.7, Sepal.Width 3.2, Petal.Length 1.3, Petal.Width 0.2, and Species setosa\n",
       "4 Sepal.Length 4.6, Sepal.Width 3.1, Petal.Length 1.5, Petal.Width 0.2, and Species setosa\n",
       "5 Sepal.Length 5, Sepal.Width 3.6, Petal.Length 1.4, Petal.Width 0.2, and Species setosa  \n",
       "6 Sepal.Length 5.4, Sepal.Width 3.9, Petal.Length 1.7, Petal.Width 0.4, and Species setosa"
      ]
     },
     "metadata": {},
     "output_type": "display_data"
    }
   ],
   "source": [
    "head(dt.iris.text)"
   ]
  },
  {
   "cell_type": "markdown",
   "metadata": {
    "slideshow": {
     "slide_type": "subslide"
    }
   },
   "source": [
    "**Pré-processamento**\n",
    "\n",
    "Extração dos dados do texto para um formato atributo-valor. Esse formato é representado por uma tabela onde as *linhas* são as instâncias (ou exemplos) de flores e as *colunas* os atributos das flores. Definimos os primeiros 4 atributos como numéricos e o atributo *Species* como categórico."
   ]
  },
  {
   "cell_type": "code",
   "execution_count": 5,
   "metadata": {
    "slideshow": {
     "slide_type": "fragment"
    }
   },
   "outputs": [
    {
     "data": {
      "text/html": [
       "<table>\n",
       "<thead><tr><th scope=col>Sepal.Length</th><th scope=col>Sepal.Width</th><th scope=col>Petal.Length</th><th scope=col>Petal.Width</th><th scope=col>Species</th></tr></thead>\n",
       "<tbody>\n",
       "\t<tr><td>5.1   </td><td>3.5   </td><td>1.4   </td><td>0.2   </td><td>setosa</td></tr>\n",
       "\t<tr><td>4.9   </td><td>3.0   </td><td>1.4   </td><td>0.2   </td><td>setosa</td></tr>\n",
       "\t<tr><td>4.7   </td><td>3.2   </td><td>1.3   </td><td>0.2   </td><td>setosa</td></tr>\n",
       "\t<tr><td>4.6   </td><td>3.1   </td><td>1.5   </td><td>0.2   </td><td>setosa</td></tr>\n",
       "\t<tr><td>5.0   </td><td>3.6   </td><td>1.4   </td><td>0.2   </td><td>setosa</td></tr>\n",
       "\t<tr><td>5.4   </td><td>3.9   </td><td>1.7   </td><td>0.4   </td><td>setosa</td></tr>\n",
       "\t<tr><td>4.6   </td><td>3.4   </td><td>1.4   </td><td>0.3   </td><td>setosa</td></tr>\n",
       "\t<tr><td>5.0   </td><td>3.4   </td><td>1.5   </td><td>0.2   </td><td>setosa</td></tr>\n",
       "\t<tr><td>4.4   </td><td>2.9   </td><td>1.4   </td><td>0.2   </td><td>setosa</td></tr>\n",
       "\t<tr><td>4.9   </td><td>3.1   </td><td>1.5   </td><td>0.1   </td><td>setosa</td></tr>\n",
       "</tbody>\n",
       "</table>\n"
      ],
      "text/latex": [
       "\\begin{tabular}{r|lllll}\n",
       " Sepal.Length & Sepal.Width & Petal.Length & Petal.Width & Species\\\\\n",
       "\\hline\n",
       "\t 5.1    & 3.5    & 1.4    & 0.2    & setosa\\\\\n",
       "\t 4.9    & 3.0    & 1.4    & 0.2    & setosa\\\\\n",
       "\t 4.7    & 3.2    & 1.3    & 0.2    & setosa\\\\\n",
       "\t 4.6    & 3.1    & 1.5    & 0.2    & setosa\\\\\n",
       "\t 5.0    & 3.6    & 1.4    & 0.2    & setosa\\\\\n",
       "\t 5.4    & 3.9    & 1.7    & 0.4    & setosa\\\\\n",
       "\t 4.6    & 3.4    & 1.4    & 0.3    & setosa\\\\\n",
       "\t 5.0    & 3.4    & 1.5    & 0.2    & setosa\\\\\n",
       "\t 4.4    & 2.9    & 1.4    & 0.2    & setosa\\\\\n",
       "\t 4.9    & 3.1    & 1.5    & 0.1    & setosa\\\\\n",
       "\\end{tabular}\n"
      ],
      "text/markdown": [
       "\n",
       "Sepal.Length | Sepal.Width | Petal.Length | Petal.Width | Species | \n",
       "|---|---|---|---|---|---|---|---|---|---|\n",
       "| 5.1    | 3.5    | 1.4    | 0.2    | setosa | \n",
       "| 4.9    | 3.0    | 1.4    | 0.2    | setosa | \n",
       "| 4.7    | 3.2    | 1.3    | 0.2    | setosa | \n",
       "| 4.6    | 3.1    | 1.5    | 0.2    | setosa | \n",
       "| 5.0    | 3.6    | 1.4    | 0.2    | setosa | \n",
       "| 5.4    | 3.9    | 1.7    | 0.4    | setosa | \n",
       "| 4.6    | 3.4    | 1.4    | 0.3    | setosa | \n",
       "| 5.0    | 3.4    | 1.5    | 0.2    | setosa | \n",
       "| 4.4    | 2.9    | 1.4    | 0.2    | setosa | \n",
       "| 4.9    | 3.1    | 1.5    | 0.1    | setosa | \n",
       "\n",
       "\n"
      ],
      "text/plain": [
       "   Sepal.Length Sepal.Width Petal.Length Petal.Width Species\n",
       "1  5.1          3.5         1.4          0.2         setosa \n",
       "2  4.9          3.0         1.4          0.2         setosa \n",
       "3  4.7          3.2         1.3          0.2         setosa \n",
       "4  4.6          3.1         1.5          0.2         setosa \n",
       "5  5.0          3.6         1.4          0.2         setosa \n",
       "6  5.4          3.9         1.7          0.4         setosa \n",
       "7  4.6          3.4         1.4          0.3         setosa \n",
       "8  5.0          3.4         1.5          0.2         setosa \n",
       "9  4.4          2.9         1.4          0.2         setosa \n",
       "10 4.9          3.1         1.5          0.1         setosa "
      ]
     },
     "metadata": {},
     "output_type": "display_data"
    }
   ],
   "source": [
    "head(dt.iris, 10)"
   ]
  },
  {
   "cell_type": "markdown",
   "metadata": {
    "slideshow": {
     "slide_type": "subslide"
    }
   },
   "source": [
    "**Descrição de dados**"
   ]
  },
  {
   "cell_type": "code",
   "execution_count": 10,
   "metadata": {
    "slideshow": {
     "slide_type": "skip"
    }
   },
   "outputs": [],
   "source": [
    "dt.iris.melt <- melt(dt.iris, id.vars=\"Species\")"
   ]
  },
  {
   "cell_type": "code",
   "execution_count": 11,
   "metadata": {
    "slideshow": {
     "slide_type": "fragment"
    }
   },
   "outputs": [
    {
     "data": {
      "text/html": [
       "<table>\n",
       "<thead><tr><th scope=col>variable</th><th scope=col>mean</th><th scope=col>sd</th></tr></thead>\n",
       "<tbody>\n",
       "\t<tr><td>Sepal.Length</td><td>5.843333    </td><td>0.8280661   </td></tr>\n",
       "\t<tr><td>Sepal.Width </td><td>3.057333    </td><td>0.4358663   </td></tr>\n",
       "\t<tr><td>Petal.Length</td><td>3.758000    </td><td>1.7652982   </td></tr>\n",
       "\t<tr><td>Petal.Width </td><td>1.199333    </td><td>0.7622377   </td></tr>\n",
       "</tbody>\n",
       "</table>\n"
      ],
      "text/latex": [
       "\\begin{tabular}{r|lll}\n",
       " variable & mean & sd\\\\\n",
       "\\hline\n",
       "\t Sepal.Length & 5.843333     & 0.8280661   \\\\\n",
       "\t Sepal.Width  & 3.057333     & 0.4358663   \\\\\n",
       "\t Petal.Length & 3.758000     & 1.7652982   \\\\\n",
       "\t Petal.Width  & 1.199333     & 0.7622377   \\\\\n",
       "\\end{tabular}\n"
      ],
      "text/markdown": [
       "\n",
       "variable | mean | sd | \n",
       "|---|---|---|---|\n",
       "| Sepal.Length | 5.843333     | 0.8280661    | \n",
       "| Sepal.Width  | 3.057333     | 0.4358663    | \n",
       "| Petal.Length | 3.758000     | 1.7652982    | \n",
       "| Petal.Width  | 1.199333     | 0.7622377    | \n",
       "\n",
       "\n"
      ],
      "text/plain": [
       "  variable     mean     sd       \n",
       "1 Sepal.Length 5.843333 0.8280661\n",
       "2 Sepal.Width  3.057333 0.4358663\n",
       "3 Petal.Length 3.758000 1.7652982\n",
       "4 Petal.Width  1.199333 0.7622377"
      ]
     },
     "metadata": {},
     "output_type": "display_data"
    }
   ],
   "source": [
    "dt.iris.melt[,.(mean = mean(value), sd = sd(value)), .(variable) ]"
   ]
  },
  {
   "cell_type": "markdown",
   "metadata": {
    "slideshow": {
     "slide_type": "subslide"
    }
   },
   "source": [
    "**Visualização de dados**\n",
    "\n",
    "- *Análise da distribuição dos valores dos atributo por classe*"
   ]
  },
  {
   "cell_type": "code",
   "execution_count": 14,
   "metadata": {
    "slideshow": {
     "slide_type": "skip"
    }
   },
   "outputs": [],
   "source": [
    "library(ggplot2)\n",
    "options(repr.plot.width=8, repr.plot.height=4)"
   ]
  },
  {
   "cell_type": "code",
   "execution_count": 15,
   "metadata": {
    "slideshow": {
     "slide_type": "fragment"
    }
   },
   "outputs": [
    {
     "data": {},
     "metadata": {},
     "output_type": "display_data"
    },
    {
     "data": {
      "image/png": "[encoded data removed]",
      "text/plain": [
       "plot without title"
      ]
     },
     "metadata": {},
     "output_type": "display_data"
    }
   ],
   "source": [
    "ggplot(data=dt.iris.melt, aes(y=variable, x=value, color=Species)) + geom_point() + facet_wrap(~variable, ncol=1, scales = \"free\")"
   ]
  },
  {
   "cell_type": "markdown",
   "metadata": {
    "slideshow": {
     "slide_type": "subslide"
    }
   },
   "source": [
    "- *Diagrama de Caixas dos atributos por classe*"
   ]
  },
  {
   "cell_type": "code",
   "execution_count": 17,
   "metadata": {
    "slideshow": {
     "slide_type": "fragment"
    }
   },
   "outputs": [
    {
     "data": {},
     "metadata": {},
     "output_type": "display_data"
    },
    {
     "data": {
      "image/png": "[encoded data removed]",
      "text/plain": [
       "plot without title"
      ]
     },
     "metadata": {},
     "output_type": "display_data"
    }
   ],
   "source": [
    "ggplot(data=dt.iris.melt, aes(x=variable, y=value, color=Species)) + geom_boxplot() + facet_wrap(~variable, ncol=4, scales = \"free\")"
   ]
  },
  {
   "cell_type": "code",
   "execution_count": 19,
   "metadata": {
    "slideshow": {
     "slide_type": "skip"
    }
   },
   "outputs": [],
   "source": [
    "options(repr.plot.width=6, repr.plot.height=4)"
   ]
  },
  {
   "cell_type": "markdown",
   "metadata": {
    "slideshow": {
     "slide_type": "subslide"
    }
   },
   "source": [
    "- Interação dos atributos *Sepal.Length* and *Sepal.Width* por *Species*"
   ]
  },
  {
   "cell_type": "code",
   "execution_count": 23,
   "metadata": {
    "slideshow": {
     "slide_type": "fragment"
    }
   },
   "outputs": [
    {
     "data": {},
     "metadata": {},
     "output_type": "display_data"
    },
    {
     "data": {
      "image/png": "[encoded data removed]",
      "text/plain": [
       "plot without title"
      ]
     },
     "metadata": {},
     "output_type": "display_data"
    }
   ],
   "source": [
    "ggplot(data=dt.iris, aes(x=Sepal.Length, y= Sepal.Width, color = Species)) + geom_point()"
   ]
  },
  {
   "cell_type": "markdown",
   "metadata": {
    "slideshow": {
     "slide_type": "subslide"
    }
   },
   "source": [
    "- Interação dos atributos *Petal.Length* and *Petal.Width* por *Species*"
   ]
  },
  {
   "cell_type": "code",
   "execution_count": 25,
   "metadata": {
    "slideshow": {
     "slide_type": "fragment"
    }
   },
   "outputs": [
    {
     "data": {},
     "metadata": {},
     "output_type": "display_data"
    },
    {
     "data": {
      "image/png": "[encoded data removed]",
      "text/plain": [
       "plot without title"
      ]
     },
     "metadata": {},
     "output_type": "display_data"
    }
   ],
   "source": [
    "ggplot(data=dt.iris, aes(x=Petal.Length, y= Petal.Width, color = Species)) + geom_point()"
   ]
  },
  {
   "cell_type": "markdown",
   "metadata": {
    "slideshow": {
     "slide_type": "subslide"
    }
   },
   "source": [
    "**Mineração de Dados**\n",
    "\n",
    "*Objetivo*: criar uma função que utilize os 4 atributos numéricos para determinar a espécie da flor.\n",
    "\n",
    "Se conseguirmos encontrar uma boa função para determinar a espécie, podemos usar essa função para descobrir a espécie de novas flores."
   ]
  },
  {
   "cell_type": "code",
   "execution_count": 26,
   "metadata": {
    "slideshow": {
     "slide_type": "skip"
    }
   },
   "outputs": [
    {
     "name": "stderr",
     "output_type": "stream",
     "text": [
      "Loading required package: grid\n"
     ]
    }
   ],
   "source": [
    "library(RWeka)\n",
    "library(partykit)\n",
    "options(repr.plot.width=8, repr.plot.height=5)"
   ]
  },
  {
   "cell_type": "code",
   "execution_count": 27,
   "metadata": {
    "slideshow": {
     "slide_type": "fragment"
    }
   },
   "outputs": [
    {
     "data": {
      "text/plain": [
       "J48 pruned tree\n",
       "------------------\n",
       "\n",
       "Petal.Width <= 0.6: setosa (50.0)\n",
       "Petal.Width > 0.6\n",
       "|   Petal.Width <= 1.7\n",
       "|   |   Petal.Length <= 4.9: versicolor (48.0/1.0)\n",
       "|   |   Petal.Length > 4.9\n",
       "|   |   |   Petal.Width <= 1.5: virginica (3.0)\n",
       "|   |   |   Petal.Width > 1.5: versicolor (3.0/1.0)\n",
       "|   Petal.Width > 1.7: virginica (46.0/1.0)\n",
       "\n",
       "Number of Leaves  : \t5\n",
       "\n",
       "Size of the tree : \t9\n"
      ]
     },
     "metadata": {},
     "output_type": "display_data"
    }
   ],
   "source": [
    "(model <- J48(data = dt.iris, Species ~. ) )"
   ]
  },
  {
   "cell_type": "markdown",
   "metadata": {
    "slideshow": {
     "slide_type": "subslide"
    }
   },
   "source": [
    "**Avaliação de Modelos**\n",
    "\n",
    "Verificar qual foi a precisão do modelo construído com os dados que temos"
   ]
  },
  {
   "cell_type": "code",
   "execution_count": 151,
   "metadata": {
    "slideshow": {
     "slide_type": "fragment"
    }
   },
   "outputs": [
    {
     "data": {
      "text/plain": [
       "\n",
       "=== Summary ===\n",
       "\n",
       "Correctly Classified Instances         147               98      %\n",
       "Incorrectly Classified Instances         3                2      %\n",
       "Kappa statistic                          0.97  \n",
       "Mean absolute error                      0.0233\n",
       "Root mean squared error                  0.108 \n",
       "Relative absolute error                  5.2482 %\n",
       "Root relative squared error             22.9089 %\n",
       "Total Number of Instances              150     \n",
       "\n",
       "=== Confusion Matrix ===\n",
       "\n",
       "  a  b  c   <-- classified as\n",
       " 50  0  0 |  a = setosa\n",
       "  0 49  1 |  b = versicolor\n",
       "  0  2 48 |  c = virginica"
      ]
     },
     "metadata": {},
     "output_type": "display_data"
    }
   ],
   "source": [
    "summary(model)"
   ]
  },
  {
   "cell_type": "markdown",
   "metadata": {
    "slideshow": {
     "slide_type": "slide"
    }
   },
   "source": [
    "# Aprendizado Supervisionado e Não-Supervisionado\n",
    "\n",
    "As técnicas para aprender modelos a partir de dados são classificadas de acordo com o tipo de aprendizado em:\n",
    "\n",
    "- **Aprendizado Supervisionado**\n",
    "\n",
    "- **Aprendizado Não-supervisinado**\n",
    "\n",
    "- **Aprendizado Semi-Supervisionado**"
   ]
  },
  {
   "cell_type": "markdown",
   "metadata": {
    "slideshow": {
     "slide_type": "subslide"
    }
   },
   "source": [
    "## Aprendizado Supervisionado\n",
    "\n",
    "No aprendizado supervisionado os exemplos estão constituídos por atributos, onde um desses atributos é *classe*\n",
    "\n",
    "O atributo *classe* permite orientar o processo de aprendizando para ajustar um modelo aos dados\n",
    "\n",
    "|Exemplo | Atributo 1 | Atributo 2 | ... | Atributo m | Atributo classe |\n",
    "|------|------|------|------|------|------| \n",
    "|$e_1$ | $x_{1,1}$ | $x_{1,2}$ | ... | $x_{1,m}$ | $y_1$ |\n",
    "|$e_2$ | $x_{2,1}$ | $x_{2,2}$ | ... | $x_{2,m}$ | $y_2$ |\n",
    "| ... | ... | ... | ... | ... | ... |\n",
    "|$e_n$ | $x_{n,1}$ | $x_{n,2}$ | ... | $x_{n,m}$ | $y_n$ |\n",
    "\n",
    "Neste aprendizado o objetivo consiste em encontrar uma função $f(X) = \\hat{y}$, em que, dado os valores dos $m$ atributos, estime $y$.\n",
    "\n",
    "As tarefas de interesse do aprendizado supervisionado são preditivas e definidas por:\n",
    "- **Classificação**: quando o valor da *classe* é um valor categórico (ou discreto)\n",
    "- **Regressão**: quando o valor da *classe* é um valor numérico."
   ]
  },
  {
   "cell_type": "markdown",
   "metadata": {
    "slideshow": {
     "slide_type": "subslide"
    }
   },
   "source": [
    "## Aprendizado Não-superivsionado\n",
    "\n",
    "No aprendizado não-supervisionado os exemplos estão constituídos por atributos, mas não há um atrbiuto *classe*\n",
    "\n",
    "Isso indica que não tem como orientar o processo de aprendizado tentando acertar algum valor de atributo específico\n",
    "\n",
    "|Exemplo | Atributo 1 | Atributo 2 | ... | Atributo m |\n",
    "|------|------|------|------|------|\n",
    "|$e_1$ | $x_{1,1}$ | $x_{1,2}$ | ... | $x_{1,m}$ |\n",
    "|$e_2$ | $x_{2,1}$ | $x_{2,2}$ | ... | $x_{2,m}$ |\n",
    "| ... | ... | ... | ... | ... |\n",
    "|$e_n$ | $x_{n,1}$ | $x_{n,2}$ | ... | $x_{n,m}$ |\n",
    "\n",
    "Neste tipo de aprendizado tentamos encontrar grupos de dados que apresentem comportamento similar\n",
    "\n",
    "As tarefas de interesse dentro do aprendizado não-supervisionado são:\n",
    "- **Agrupamentos**: agrupar exemplos de acordo com algum critério de distância ou similaridade\n",
    "- **Extração de regras de associação**: encontrar relaçoes entre atributos e os valores dos atributos"
   ]
  },
  {
   "cell_type": "markdown",
   "metadata": {
    "slideshow": {
     "slide_type": "subslide"
    }
   },
   "source": [
    "## Tarefas de Mineração de Dados\n",
    "\n",
    "As principais tarefas de mineração são:\n",
    "- Predição (seja classificação ou regressão)\n",
    "- Agrupamento\n",
    "- Associação\n",
    "\n",
    "A seguinte figura temos a relação dessas tarefas em um conjunto de dados convencional:\n",
    "\n",
    "<img src=\"img/tarefasmineracao.png\" width=40%>\n",
    "\n",
    "<sub>Fonte: Silva, L. A., Peres, S. M., & Boscarioli, C. (2017). <b>Introdução à mineração de dados: com aplicações em R</b>. Elsevier Brasil</sub>"
   ]
  },
  {
   "cell_type": "markdown",
   "metadata": {
    "slideshow": {
     "slide_type": "subslide"
    }
   },
   "source": [
    "## Aprendizado Semi-Supervisionado\n",
    "\n",
    "- No aprendizado semi-supervisionado apenas alguns exemplos do conjunto de dados possuem o valor do atributo *classe*.\n",
    "- Muitas vezes é muito caro classificar elementos. Alguns exemplos:\n",
    "    - Transcrever segmentos de áudio\n",
    "    - Identificar observações de experimentos físicos\n",
    "    - Identificar os rostros de fotos do Facebook manualmente\n",
    "\n",
    "- Nestas situações, com algumas instâncias rotuladas (exemplos classificados) é possível inferir os rótulos e classes de outras instâncias.\n",
    "\n",
    "<img src=\"img/semisupervised.png\" width=\"70%\"> \n",
    "\n",
    "<sub>Fonte: Wang, F., & Zhang, C. (2007). <b>Robust self-tuning semi-supervised learning</b>. <i>Neurocomputing</i>, 70(16-18), 2931-2939.</sub>\n"
   ]
  },
  {
   "cell_type": "markdown",
   "metadata": {
    "slideshow": {
     "slide_type": "slide"
    }
   },
   "source": [
    "# Paradigmas de Aprendizado\n",
    "\n",
    "Alguns autores chamam de paradigmas os aprendizados supervisionado e não-supervisionado (CASTRO e FERRARI, 2016).\n",
    "\n",
    "No entanto a literatura clássica divide os paradimgas de aprendizado da seguinte forma:\n",
    "- Simbólico\n",
    "- Baseado em Instância\n",
    "- Estatístico\n",
    "- Conexionista\n",
    "- Genético\n",
    "\n",
    "Uma ótima leitura sobre os pardigmas pode ser encontrada em:\n",
    "- MONARD, Maria Carolina; BARANAUSKAS, José Augusto. **Conceitos sobre aprendizado de máquina**. Sistemas Inteligentes-Fundamentos e Aplicações, v. 1, n. 1, p. 32, 2003. Disponível em: http://dcm.ffclrp.usp.br/~augusto/publications/2003-sistemas-inteligentes-cap4.pdf"
   ]
  }
 ],
 "metadata": {
  "kernelspec": {
   "display_name": "R",
   "language": "R",
   "name": "ir"
  },
  "language_info": {
   "codemirror_mode": "r",
   "file_extension": ".r",
   "mimetype": "text/x-r-source",
   "name": "R",
   "pygments_lexer": "r",
   "version": "3.3.3"
  }
 },
 "nbformat": 4,
 "nbformat_minor": 2
}
