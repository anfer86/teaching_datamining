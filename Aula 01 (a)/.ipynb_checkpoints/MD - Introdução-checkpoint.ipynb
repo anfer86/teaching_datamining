{
 "cells": [
  {
   "cell_type": "markdown",
   "metadata": {
    "slideshow": {
     "slide_type": "slide"
    }
   },
   "source": [
    "<link rel=\"stylesheet\" href=\"ipython.min.css\">\n",
    "\n",
    "<img src=\"img/logoifsc.png\">\n",
    "\n",
    "---\n",
    "\n",
    "Prof. Carlos Andrés Ferrero\n",
    "\n",
    "# Mineração de Dados\n",
    "\n",
    "## Introdução à Disciplina e Plano de Ensino\n"
   ]
  },
  {
   "cell_type": "markdown",
   "metadata": {
    "slideshow": {
     "slide_type": "slide"
    }
   },
   "source": [
    "- **Nome do professor**: Carlos Andres Ferrero\n",
    "\n",
    "- **Avaliações**:\n",
    "    - Duas provas, um trabalho\n",
    "    - Atividades em sala de aula e estudos dirigidos.\n",
    "    \n",
    "- **Como serão as aulas**:\n",
    "    - Aulas práticas em laboratório\n",
    "    - No início de cada aula conversamos sobre conteúdo anterior e introduzimos novos conteúdos. E no restante da aula praticamos exercícios.\n"
   ]
  },
  {
   "cell_type": "markdown",
   "metadata": {
    "slideshow": {
     "slide_type": "subslide"
    }
   },
   "source": [
    "- A disciplina exige:\n",
    "    - Dedicação, compromisso e atenção em sala de aula\n",
    "    - Procurar o professor quando estiverem com dúvidas:\n",
    "    - No horário de atendimento\n",
    "    - **Email**: andres.ferrero@ifsc.edu.br\n",
    "    - Chegar no horário correto da aula. Se tiver qualquer situação específica, entrar em contato com o professor.\n"
   ]
  },
  {
   "cell_type": "markdown",
   "metadata": {
    "slideshow": {
     "slide_type": "slide"
    }
   },
   "source": [
    "# Conteúdo Programático\n",
    "\n",
    "1. Introdução à Mineração de Dados\n",
    "\n",
    "2. Pré-procesamento de dados\n",
    "\n",
    "3. Paradigma simbólico\n",
    "\n",
    "4. Paradigma baseado em exemplos\n",
    "\n",
    "5. Aprendizado não supervisionado\n",
    "\n",
    "6. Paradigmas probabilisico e conexionista"
   ]
  },
  {
   "cell_type": "markdown",
   "metadata": {
    "slideshow": {
     "slide_type": "subslide"
    }
   },
   "source": [
    "## 1. Introdução a Mineração de Dados\n",
    "- Processo de Descoberta de Conhecimento\n",
    "- Aprendizado Supervisionado e Não Supervisionado\n",
    "- Paradigmas de Aprendizado\n",
    "- Ferramentas: R, python e Jupyter\n",
    "- Visualização de dados"
   ]
  },
  {
   "cell_type": "markdown",
   "metadata": {
    "slideshow": {
     "slide_type": "subslide"
    }
   },
   "source": [
    "## 2. Pré-processamento\n",
    "- Normalização e discretização\n",
    "- Redução de dimensionalidade\n",
    "- Medidas de qualidade e seleção de atributos."
   ]
  },
  {
   "cell_type": "markdown",
   "metadata": {
    "slideshow": {
     "slide_type": "subslide"
    }
   },
   "source": [
    "## 3. Paradigma Simbólico\n",
    "- Algoritmos de árvores de decisão e regras de classificação\n",
    "- Técnicas de a avaliação de modelos\n",
    "- Análise univariada e multivariada"
   ]
  },
  {
   "cell_type": "markdown",
   "metadata": {
    "slideshow": {
     "slide_type": "subslide"
    }
   },
   "source": [
    "## 4. Paradigma Baseado em Exemplos\n",
    "- Algoritmo dos vizinhos mais próximos\n",
    "- Funções de predição\n",
    "- Funções de similaridade/distância\n",
    "- Funções de similaridade/distância para dados não convencionais: sequências, texto e séries temporais."
   ]
  },
  {
   "cell_type": "markdown",
   "metadata": {
    "slideshow": {
     "slide_type": "subslide"
    }
   },
   "source": [
    "## 5. Aprendizado não-supervisionado\n",
    "- Algoritmos de agrupamento\n",
    "- Regras de associação com *Apriori*\n",
    "- Regras de associação sequenciais com *AprioriAll*"
   ]
  },
  {
   "cell_type": "markdown",
   "metadata": {
    "slideshow": {
     "slide_type": "subslide"
    }
   },
   "source": [
    "## 6. Paradigmas Probabilístico e Conexionista\n",
    "- Aprendizado Bayesiano\n",
    "- Redes Neurais Artificiais\n",
    "- Máquinas Vetores de Suporte"
   ]
  },
  {
   "cell_type": "markdown",
   "metadata": {
    "slideshow": {
     "slide_type": "slide"
    }
   },
   "source": [
    "# Avaliação\n",
    "\n",
    "Serão realizadas as seguintes avaliações:\n",
    "- $P1$ - Prova escrita abordando Unidades 1, 2 e 3\n",
    "- $P2$ - Prova escrita abordando Unidades 4, 5 e 6\n",
    "- $T1$ - Trabalho abordando as Unidades 1 a 7\n",
    "- $E$ - Exercícios em sala de aula\n",
    "\n",
    "O valor das notas $P1$, $P2$, $T1$ e $E$ serão em valores inteiros. Em caso de notas quebradas (ex. 8,3 ou 8,6) usa-se o arredondamento matemático (ex. 8,3 para 8 e 8,6 para 9).\n",
    "\n",
    "A Nota Final (NF) será calculada de acordo com a seguinte fórmula:\n",
    "\n",
    "$$ NF = \\frac{(P1 + P2 + T1 + E)}{4} $$\n",
    "\n",
    "O valor da nota NF também será arredondado para um número inteiro.\n",
    "\n"
   ]
  },
  {
   "cell_type": "markdown",
   "metadata": {
    "slideshow": {
     "slide_type": "subslide"
    }
   },
   "source": [
    "## Recuperação\n",
    "\n",
    "São previstas as recuperações:\n",
    "- $RP1$ - Recuperação prova 1 das Unidades 1, 2 e 3\n",
    "- $RP2$ - Recuperação prova 2 das Unidades 4, 5 e 6\n",
    "- $RT1$ - Recuperação trabalho 1 das Unidades 1 a 6\n",
    "\n",
    "Estas recuperações serão feitas dentro da carga horária da disciplina."
   ]
  },
  {
   "cell_type": "markdown",
   "metadata": {
    "slideshow": {
     "slide_type": "slide"
    }
   },
   "source": [
    "# Bibliografia\n",
    "\n",
    "## Básica\n",
    "- SILVA, L. A.; PERES, S. M; BOSCARIOLI, C. **Introdução à mineração de dados: com aplicações em R** Rio de Janeiro: Elsevier, 2016.\n",
    "- CARVALHO, Luís Alfredo Vidal de. **Datamining: a mineração de dados no marketing, medicina, economia, engenharia e administração**. Rio de Janeiro: Ciência Moderna, 2005.\n",
    "- GOLDSCHMIDT, R.; PASSOS, E.; BEZERRA, E. **Data mining: conceitos, técnicas, algoritmos, orientações e - aplicações**. 2. ed. Rio de Janeiro: Elsevier, 2015."
   ]
  },
  {
   "cell_type": "markdown",
   "metadata": {
    "slideshow": {
     "slide_type": "subslide"
    }
   },
   "source": [
    "## Complementar\n",
    "- ATTWELL, P. A.; MONAGHAN, D. B. **Data mining for the social sciences: an introduction**. Oakland: University of California Press, 2015.\n",
    "- AZZALINI, A.; WALTON, G.; SCARPA, B. **Data analysis and data mining: an introduction**. Oxford: Oxford University Press, 2012.\n",
    "- LAWRENCE, K. D.; KLIMBERG, R. K. **Contemporary perspectives in data mining**. Charlotte: Information Age Publishing, 2012.\n",
    "- MA, X.; CAPRI, H. L. **Data mining: principles, applications and emerging challenges**. New York : Nova Science Publishers, 2014. \n",
    "- O'BYRNE, S. H. **Data Security, Data mining, and data management: technologies and challenges**. New York: Nova Science Publishers, 2013."
   ]
  },
  {
   "cell_type": "code",
   "execution_count": null,
   "metadata": {},
   "outputs": [],
   "source": []
  }
 ],
 "metadata": {
  "anaconda-cloud": {},
  "kernelspec": {
   "display_name": "R",
   "language": "R",
   "name": "ir"
  },
  "language_info": {
   "codemirror_mode": "r",
   "file_extension": ".r",
   "mimetype": "text/x-r-source",
   "name": "R",
   "pygments_lexer": "r",
   "version": "3.3.3"
  }
 },
 "nbformat": 4,
 "nbformat_minor": 2
}
