{
 "cells": [
  {
   "cell_type": "markdown",
   "metadata": {
    "slideshow": {
     "slide_type": "slide"
    }
   },
   "source": [
    "<link rel=\"stylesheet\" href=\"custom.css\">\n",
    "\n",
    "<img src=\"img/logoifsc.png\">\n",
    "\n",
    "---\n",
    "\n",
    "Prof. Carlos Andrés Ferrero\n",
    "\n",
    "# Mineração de Dados\n",
    "\n",
    "## Visualização de Dados\n",
    "---"
   ]
  },
  {
   "cell_type": "markdown",
   "metadata": {
    "slideshow": {
     "slide_type": "slide"
    }
   },
   "source": [
    "# Conteúdo\n",
    "\n",
    "- Revisão da última aula\n",
    "\n",
    "- Visualização de Dados Não-Convencionais\n",
    "\n",
    "- Dados temporais e sequenciais contínuos\n",
    "\n",
    "- Dados de texto"
   ]
  },
  {
   "cell_type": "markdown",
   "metadata": {
    "slideshow": {
     "slide_type": "slide"
    }
   },
   "source": [
    "## Dados Temporais"
   ]
  },
  {
   "cell_type": "markdown",
   "metadata": {
    "slideshow": {
     "slide_type": "subslide"
    }
   },
   "source": [
    "### Gráficos com Mais de Uma Variável Contínua (dados multivariados)\n",
    "\n",
    "- Na biblioteca ggplot2 para que possamos visualizar várias variáveis em um gráfico ao longo do tempo, precisamos ter os dados no formato Long. Atualmente nossos dados estão no formato Wide. \n",
    "\n",
    "- É muito comum ter que transformar os dados de um formato para outro de acordo com a técnica que estejamos usando para visualizar ou tratar dados."
   ]
  },
  {
   "cell_type": "markdown",
   "metadata": {
    "slideshow": {
     "slide_type": "subslide"
    }
   },
   "source": [
    "- O formato Wide é:"
   ]
  },
  {
   "cell_type": "code",
   "execution_count": 3,
   "metadata": {},
   "outputs": [
    {
     "data": {
      "text/html": [
       "<table>\n",
       "<thead><tr><th scope=col>date</th><th scope=col>pce</th><th scope=col>pop</th><th scope=col>psavert</th><th scope=col>uempmed</th><th scope=col>unemploy</th></tr></thead>\n",
       "<tbody>\n",
       "\t<tr><td>1967-07-01</td><td>507.4     </td><td>198712    </td><td>12.5      </td><td>4.5       </td><td>2944      </td></tr>\n",
       "\t<tr><td>1967-08-01</td><td>510.5     </td><td>198911    </td><td>12.5      </td><td>4.7       </td><td>2945      </td></tr>\n",
       "\t<tr><td>1967-09-01</td><td>516.3     </td><td>199113    </td><td>11.7      </td><td>4.6       </td><td>2958      </td></tr>\n",
       "\t<tr><td>1967-10-01</td><td>512.9     </td><td>199311    </td><td>12.5      </td><td>4.9       </td><td>3143      </td></tr>\n",
       "\t<tr><td>1967-11-01</td><td>518.1     </td><td>199498    </td><td>12.5      </td><td>4.7       </td><td>3066      </td></tr>\n",
       "\t<tr><td>1967-12-01</td><td>525.8     </td><td>199657    </td><td>12.1      </td><td>4.8       </td><td>3018      </td></tr>\n",
       "</tbody>\n",
       "</table>\n"
      ],
      "text/latex": [
       "\\begin{tabular}{r|llllll}\n",
       " date & pce & pop & psavert & uempmed & unemploy\\\\\n",
       "\\hline\n",
       "\t 1967-07-01 & 507.4      & 198712     & 12.5       & 4.5        & 2944      \\\\\n",
       "\t 1967-08-01 & 510.5      & 198911     & 12.5       & 4.7        & 2945      \\\\\n",
       "\t 1967-09-01 & 516.3      & 199113     & 11.7       & 4.6        & 2958      \\\\\n",
       "\t 1967-10-01 & 512.9      & 199311     & 12.5       & 4.9        & 3143      \\\\\n",
       "\t 1967-11-01 & 518.1      & 199498     & 12.5       & 4.7        & 3066      \\\\\n",
       "\t 1967-12-01 & 525.8      & 199657     & 12.1       & 4.8        & 3018      \\\\\n",
       "\\end{tabular}\n"
      ],
      "text/markdown": [
       "\n",
       "date | pce | pop | psavert | uempmed | unemploy | \n",
       "|---|---|---|---|---|---|\n",
       "| 1967-07-01 | 507.4      | 198712     | 12.5       | 4.5        | 2944       | \n",
       "| 1967-08-01 | 510.5      | 198911     | 12.5       | 4.7        | 2945       | \n",
       "| 1967-09-01 | 516.3      | 199113     | 11.7       | 4.6        | 2958       | \n",
       "| 1967-10-01 | 512.9      | 199311     | 12.5       | 4.9        | 3143       | \n",
       "| 1967-11-01 | 518.1      | 199498     | 12.5       | 4.7        | 3066       | \n",
       "| 1967-12-01 | 525.8      | 199657     | 12.1       | 4.8        | 3018       | \n",
       "\n",
       "\n"
      ],
      "text/plain": [
       "  date       pce   pop    psavert uempmed unemploy\n",
       "1 1967-07-01 507.4 198712 12.5    4.5     2944    \n",
       "2 1967-08-01 510.5 198911 12.5    4.7     2945    \n",
       "3 1967-09-01 516.3 199113 11.7    4.6     2958    \n",
       "4 1967-10-01 512.9 199311 12.5    4.9     3143    \n",
       "5 1967-11-01 518.1 199498 12.5    4.7     3066    \n",
       "6 1967-12-01 525.8 199657 12.1    4.8     3018    "
      ]
     },
     "metadata": {},
     "output_type": "display_data"
    }
   ],
   "source": [
    "library(ggplot2)\n",
    "library(data.table)\n",
    "head(economics)"
   ]
  },
  {
   "cell_type": "markdown",
   "metadata": {
    "slideshow": {
     "slide_type": "subslide"
    }
   },
   "source": [
    "- O formato Long do mesmo conjunto de dados é:"
   ]
  },
  {
   "cell_type": "code",
   "execution_count": 4,
   "metadata": {
    "slideshow": {
     "slide_type": "-"
    }
   },
   "outputs": [],
   "source": [
    "library(data.table)\n",
    "economics.long <- data.table(melt(economics, id.vars = c(\"date\"), measure.vars = c(\"pce\", \"pop\", \"psavert\",\"uempmed\",\"unemploy\")))"
   ]
  },
  {
   "cell_type": "code",
   "execution_count": 5,
   "metadata": {},
   "outputs": [
    {
     "data": {
      "text/html": [
       "<table>\n",
       "<thead><tr><th scope=col>date</th><th scope=col>variable</th><th scope=col>value</th></tr></thead>\n",
       "<tbody>\n",
       "\t<tr><td>1967-07-01</td><td>pce       </td><td>507.4     </td></tr>\n",
       "\t<tr><td>1967-08-01</td><td>pce       </td><td>510.5     </td></tr>\n",
       "\t<tr><td>1967-09-01</td><td>pce       </td><td>516.3     </td></tr>\n",
       "\t<tr><td>1967-10-01</td><td>pce       </td><td>512.9     </td></tr>\n",
       "\t<tr><td>1967-11-01</td><td>pce       </td><td>518.1     </td></tr>\n",
       "\t<tr><td>1967-12-01</td><td>pce       </td><td>525.8     </td></tr>\n",
       "</tbody>\n",
       "</table>\n"
      ],
      "text/latex": [
       "\\begin{tabular}{r|lll}\n",
       " date & variable & value\\\\\n",
       "\\hline\n",
       "\t 1967-07-01 & pce        & 507.4     \\\\\n",
       "\t 1967-08-01 & pce        & 510.5     \\\\\n",
       "\t 1967-09-01 & pce        & 516.3     \\\\\n",
       "\t 1967-10-01 & pce        & 512.9     \\\\\n",
       "\t 1967-11-01 & pce        & 518.1     \\\\\n",
       "\t 1967-12-01 & pce        & 525.8     \\\\\n",
       "\\end{tabular}\n"
      ],
      "text/markdown": [
       "\n",
       "date | variable | value | \n",
       "|---|---|---|---|---|---|\n",
       "| 1967-07-01 | pce        | 507.4      | \n",
       "| 1967-08-01 | pce        | 510.5      | \n",
       "| 1967-09-01 | pce        | 516.3      | \n",
       "| 1967-10-01 | pce        | 512.9      | \n",
       "| 1967-11-01 | pce        | 518.1      | \n",
       "| 1967-12-01 | pce        | 525.8      | \n",
       "\n",
       "\n"
      ],
      "text/plain": [
       "  date       variable value\n",
       "1 1967-07-01 pce      507.4\n",
       "2 1967-08-01 pce      510.5\n",
       "3 1967-09-01 pce      516.3\n",
       "4 1967-10-01 pce      512.9\n",
       "5 1967-11-01 pce      518.1\n",
       "6 1967-12-01 pce      525.8"
      ]
     },
     "metadata": {},
     "output_type": "display_data"
    }
   ],
   "source": [
    "head(economics.long)"
   ]
  },
  {
   "cell_type": "markdown",
   "metadata": {},
   "source": [
    "Neste formato para cada **date** e cada **variable** temos um *valor*."
   ]
  },
  {
   "cell_type": "markdown",
   "metadata": {
    "slideshow": {
     "slide_type": "subslide"
    }
   },
   "source": [
    "Agora podemos visualizar mais do que uma variável (neste caso *pop*, *uempmed* e *unemploy*) da seguinte forma:"
   ]
  },
  {
   "cell_type": "code",
   "execution_count": 6,
   "metadata": {
    "slideshow": {
     "slide_type": "skip"
    }
   },
   "outputs": [],
   "source": [
    "options(repr.plot.width=8, repr.plot.height=4)"
   ]
  },
  {
   "cell_type": "code",
   "execution_count": 7,
   "metadata": {},
   "outputs": [
    {
     "data": {},
     "metadata": {},
     "output_type": "display_data"
    },
    {
     "data": {
      "image/png": "[encoded data removed]",
      "text/plain": [
       "plot without title"
      ]
     },
     "metadata": {},
     "output_type": "display_data"
    }
   ],
   "source": [
    "ggplot(data=economics.long[variable %in% c(\"pop\",\"uempmed\",\"unemploy\")], aes(x=date, y=value)) + geom_line() + facet_grid(variable ~ ., scales = \"free_y\")"
   ]
  },
  {
   "cell_type": "markdown",
   "metadata": {
    "slideshow": {
     "slide_type": "subslide"
    }
   },
   "source": [
    "Ainda em cada série temporal podemos aplicar a mesma ideia de extrair tendências"
   ]
  },
  {
   "cell_type": "code",
   "execution_count": 8,
   "metadata": {},
   "outputs": [
    {
     "name": "stderr",
     "output_type": "stream",
     "text": [
      "`geom_smooth()` using method = 'loess'\n"
     ]
    },
    {
     "data": {},
     "metadata": {},
     "output_type": "display_data"
    },
    {
     "data": {
      "image/png": "[encoded data removed]",
      "text/plain": [
       "plot without title"
      ]
     },
     "metadata": {},
     "output_type": "display_data"
    }
   ],
   "source": [
    "ggplot(data=economics.long[variable %in% c(\"pop\",\"uempmed\",\"unemploy\")], aes(x=date, y=value)) + geom_line() + geom_smooth() + facet_grid(variable ~ ., scales = \"free_y\")"
   ]
  },
  {
   "cell_type": "markdown",
   "metadata": {
    "slideshow": {
     "slide_type": "subslide"
    }
   },
   "source": [
    "### Visualizacão de Várias instâncias (exemplos) de uma Variável Contínua ao Longo do Tempo\n",
    "\n",
    "- Quando temos várias instâncias de uma variável continua, como no caso de vários exames de eletrocardiograma de pacientes (considerando apenas uma série temporal de cada um) também temos que colocar os dados em formato adequado para visualização.\n",
    "\n",
    "- Por exemplo baixar o seguinte conjunto de dados: [ECG200](http://timeseriesclassification.com/description.php?Dataset=ECG200)\n",
    "\n",
    "- ECG200 é um conjunto de dados bem conhecido sobre dados de eletrocardiograma com duas classes: 1 (normal) e -1 (anormal)\n",
    "\n",
    "- Colocar os dados na pasta */data/ECG200/*"
   ]
  },
  {
   "cell_type": "markdown",
   "metadata": {
    "slideshow": {
     "slide_type": "subslide"
    }
   },
   "source": [
    "Um conjunto de dados temporais multivariados com múltiplas instâncias é definido como um conjunto:\n",
    "\n",
    "$$X = \\{ \\mathbf{x}_1, \\mathbf{x}_2, \\ldots, \\mathbf{x}_n \\}$$\n",
    "\n",
    "\n",
    "$$ \\mathbf{x} =  \n",
    " \\begin{matrix}\n",
    "  \\langle(t_1, & x_{1,1}, & x_{1,2}, & \\ldots, & x_{1,d}), \\\\\n",
    "  (t_2, & x_{2,1}, & x_{2,2}, & \\ldots, & x_{2,d}), \\\\\n",
    "  \\ldots \\\\\n",
    "  (t_m, & x_{m,1}, & x_{m,2}, & \\ldots, & x_{m,d})\\rangle\n",
    "  \\end{matrix}\n",
    "$$\n",
    "\n",
    "Em conjunto de dados supervisionados ainda temos o valor da classe ($y$). Neste caso, definimos o conjunto de dados da seguinte forma:\n",
    "\n",
    "\n",
    "$$X = \\{ (\\mathbf{x}_1,y_1), (\\mathbf{x}_2,y_2), \\ldots, (\\mathbf{x}_n,y_n) \\}$$"
   ]
  },
  {
   "cell_type": "code",
   "execution_count": 9,
   "metadata": {
    "slideshow": {
     "slide_type": "subslide"
    }
   },
   "outputs": [],
   "source": [
    "ecg200 <- fread(\"data/ECG200/ECG200_TRAIN.txt\")"
   ]
  },
  {
   "cell_type": "markdown",
   "metadata": {},
   "source": [
    "- Este conjunto de dados está no formato Wide"
   ]
  },
  {
   "cell_type": "code",
   "execution_count": 10,
   "metadata": {},
   "outputs": [
    {
     "data": {
      "text/html": [
       "<table>\n",
       "<thead><tr><th scope=col>V1</th><th scope=col>V2</th><th scope=col>V3</th><th scope=col>V4</th><th scope=col>V5</th><th scope=col>V6</th><th scope=col>V7</th><th scope=col>V8</th><th scope=col>V9</th><th scope=col>V10</th><th scope=col>...</th><th scope=col>V88</th><th scope=col>V89</th><th scope=col>V90</th><th scope=col>V91</th><th scope=col>V92</th><th scope=col>V93</th><th scope=col>V94</th><th scope=col>V95</th><th scope=col>V96</th><th scope=col>V97</th></tr></thead>\n",
       "<tbody>\n",
       "\t<tr><td>-1       </td><td>0.50206  </td><td>0.54216  </td><td>0.72238  </td><td>1.42890  </td><td>2.136500 </td><td> 2.28110 </td><td> 1.936300</td><td> 1.46890 </td><td> 1.00880 </td><td>...      </td><td> 0.931040</td><td> 0.61030 </td><td> 0.63889 </td><td> 0.684680</td><td> 0.583240</td><td> 0.64052 </td><td> 0.708590</td><td> 0.705010</td><td> 0.71382 </td><td> 0.43376 </td></tr>\n",
       "\t<tr><td> 1       </td><td>0.14765  </td><td>0.80467  </td><td>0.36777  </td><td>0.24389  </td><td>0.026614 </td><td>-0.27440 </td><td> 0.096731</td><td>-0.74773 </td><td>-1.60980 </td><td>...      </td><td>-0.533500</td><td>-0.40023 </td><td> 0.17608 </td><td> 1.111800</td><td> 2.438400</td><td> 2.73490 </td><td> 1.736100</td><td> 0.036857</td><td>-1.26510 </td><td>-0.20802 </td></tr>\n",
       "\t<tr><td>-1       </td><td>0.31665  </td><td>0.24320  </td><td>0.37047  </td><td>1.06370  </td><td>1.678200 </td><td> 1.75960 </td><td> 1.697700</td><td> 1.61220 </td><td> 1.16820 </td><td>...      </td><td> 0.764230</td><td> 0.61062 </td><td> 0.55290 </td><td> 0.566790</td><td> 0.604000</td><td> 0.77707 </td><td> 0.812350</td><td> 0.748850</td><td> 0.81804 </td><td> 0.53935 </td></tr>\n",
       "\t<tr><td>-1       </td><td>1.16890  </td><td>2.07590  </td><td>1.76010  </td><td>1.60640  </td><td>1.949000 </td><td> 1.30280 </td><td> 0.459330</td><td> 0.51641 </td><td> 0.85218 </td><td>...      </td><td> 0.419010</td><td> 0.72389 </td><td> 1.32390 </td><td> 2.136500</td><td> 1.746600</td><td> 1.47020 </td><td> 1.893500</td><td> 1.256900</td><td> 0.80041 </td><td> 0.73154 </td></tr>\n",
       "\t<tr><td> 1       </td><td>0.64866  </td><td>0.75203  </td><td>2.63620  </td><td>3.45570  </td><td>2.118200 </td><td> 0.52062 </td><td>-0.188630</td><td> 0.78082 </td><td> 0.93377 </td><td>...      </td><td>-0.097869</td><td>-0.13679 </td><td>-0.34024 </td><td>-0.089441</td><td>-0.080297</td><td>-0.19258 </td><td>-0.304700</td><td>-0.454560</td><td> 0.31459 </td><td> 0.58219 </td></tr>\n",
       "\t<tr><td> 1       </td><td>0.40473  </td><td>1.28090  </td><td>2.51510  </td><td>1.29950  </td><td>1.453400 </td><td> 0.47428 </td><td>-1.396600</td><td>-0.64708 </td><td> 0.43195 </td><td>...      </td><td> 0.376470</td><td> 0.27781 </td><td> 0.22568 </td><td> 0.159090</td><td> 0.408350</td><td> 0.54002 </td><td>-0.027791</td><td> 0.203480</td><td> 0.34696 </td><td> 0.33918 </td></tr>\n",
       "</tbody>\n",
       "</table>\n"
      ],
      "text/latex": [
       "\\begin{tabular}{r|lllllllllllllllllllllllllllllllllllllllllllllllllllllllllllllllllllllllllllllllllllllllllllllllll}\n",
       " V1 & V2 & V3 & V4 & V5 & V6 & V7 & V8 & V9 & V10 & ... & V88 & V89 & V90 & V91 & V92 & V93 & V94 & V95 & V96 & V97\\\\\n",
       "\\hline\n",
       "\t -1        & 0.50206   & 0.54216   & 0.72238   & 1.42890   & 2.136500  &  2.28110  &  1.936300 &  1.46890  &  1.00880  & ...       &  0.931040 &  0.61030  &  0.63889  &  0.684680 &  0.583240 &  0.64052  &  0.708590 &  0.705010 &  0.71382  &  0.43376 \\\\\n",
       "\t  1        & 0.14765   & 0.80467   & 0.36777   & 0.24389   & 0.026614  & -0.27440  &  0.096731 & -0.74773  & -1.60980  & ...       & -0.533500 & -0.40023  &  0.17608  &  1.111800 &  2.438400 &  2.73490  &  1.736100 &  0.036857 & -1.26510  & -0.20802 \\\\\n",
       "\t -1        & 0.31665   & 0.24320   & 0.37047   & 1.06370   & 1.678200  &  1.75960  &  1.697700 &  1.61220  &  1.16820  & ...       &  0.764230 &  0.61062  &  0.55290  &  0.566790 &  0.604000 &  0.77707  &  0.812350 &  0.748850 &  0.81804  &  0.53935 \\\\\n",
       "\t -1        & 1.16890   & 2.07590   & 1.76010   & 1.60640   & 1.949000  &  1.30280  &  0.459330 &  0.51641  &  0.85218  & ...       &  0.419010 &  0.72389  &  1.32390  &  2.136500 &  1.746600 &  1.47020  &  1.893500 &  1.256900 &  0.80041  &  0.73154 \\\\\n",
       "\t  1        & 0.64866   & 0.75203   & 2.63620   & 3.45570   & 2.118200  &  0.52062  & -0.188630 &  0.78082  &  0.93377  & ...       & -0.097869 & -0.13679  & -0.34024  & -0.089441 & -0.080297 & -0.19258  & -0.304700 & -0.454560 &  0.31459  &  0.58219 \\\\\n",
       "\t  1        & 0.40473   & 1.28090   & 2.51510   & 1.29950   & 1.453400  &  0.47428  & -1.396600 & -0.64708  &  0.43195  & ...       &  0.376470 &  0.27781  &  0.22568  &  0.159090 &  0.408350 &  0.54002  & -0.027791 &  0.203480 &  0.34696  &  0.33918 \\\\\n",
       "\\end{tabular}\n"
      ],
      "text/markdown": [
       "\n",
       "V1 | V2 | V3 | V4 | V5 | V6 | V7 | V8 | V9 | V10 | ... | V88 | V89 | V90 | V91 | V92 | V93 | V94 | V95 | V96 | V97 | \n",
       "|---|---|---|---|---|---|\n",
       "| -1        | 0.50206   | 0.54216   | 0.72238   | 1.42890   | 2.136500  |  2.28110  |  1.936300 |  1.46890  |  1.00880  | ...       |  0.931040 |  0.61030  |  0.63889  |  0.684680 |  0.583240 |  0.64052  |  0.708590 |  0.705010 |  0.71382  |  0.43376  | \n",
       "|  1        | 0.14765   | 0.80467   | 0.36777   | 0.24389   | 0.026614  | -0.27440  |  0.096731 | -0.74773  | -1.60980  | ...       | -0.533500 | -0.40023  |  0.17608  |  1.111800 |  2.438400 |  2.73490  |  1.736100 |  0.036857 | -1.26510  | -0.20802  | \n",
       "| -1        | 0.31665   | 0.24320   | 0.37047   | 1.06370   | 1.678200  |  1.75960  |  1.697700 |  1.61220  |  1.16820  | ...       |  0.764230 |  0.61062  |  0.55290  |  0.566790 |  0.604000 |  0.77707  |  0.812350 |  0.748850 |  0.81804  |  0.53935  | \n",
       "| -1        | 1.16890   | 2.07590   | 1.76010   | 1.60640   | 1.949000  |  1.30280  |  0.459330 |  0.51641  |  0.85218  | ...       |  0.419010 |  0.72389  |  1.32390  |  2.136500 |  1.746600 |  1.47020  |  1.893500 |  1.256900 |  0.80041  |  0.73154  | \n",
       "|  1        | 0.64866   | 0.75203   | 2.63620   | 3.45570   | 2.118200  |  0.52062  | -0.188630 |  0.78082  |  0.93377  | ...       | -0.097869 | -0.13679  | -0.34024  | -0.089441 | -0.080297 | -0.19258  | -0.304700 | -0.454560 |  0.31459  |  0.58219  | \n",
       "|  1        | 0.40473   | 1.28090   | 2.51510   | 1.29950   | 1.453400  |  0.47428  | -1.396600 | -0.64708  |  0.43195  | ...       |  0.376470 |  0.27781  |  0.22568  |  0.159090 |  0.408350 |  0.54002  | -0.027791 |  0.203480 |  0.34696  |  0.33918  | \n",
       "\n",
       "\n"
      ],
      "text/plain": [
       "  V1 V2      V3      V4      V5      V6       V7       V8        V9      \n",
       "1 -1 0.50206 0.54216 0.72238 1.42890 2.136500  2.28110  1.936300  1.46890\n",
       "2  1 0.14765 0.80467 0.36777 0.24389 0.026614 -0.27440  0.096731 -0.74773\n",
       "3 -1 0.31665 0.24320 0.37047 1.06370 1.678200  1.75960  1.697700  1.61220\n",
       "4 -1 1.16890 2.07590 1.76010 1.60640 1.949000  1.30280  0.459330  0.51641\n",
       "5  1 0.64866 0.75203 2.63620 3.45570 2.118200  0.52062 -0.188630  0.78082\n",
       "6  1 0.40473 1.28090 2.51510 1.29950 1.453400  0.47428 -1.396600 -0.64708\n",
       "  V10      ... V88       V89      V90      V91       V92       V93     \n",
       "1  1.00880 ...  0.931040  0.61030  0.63889  0.684680  0.583240  0.64052\n",
       "2 -1.60980 ... -0.533500 -0.40023  0.17608  1.111800  2.438400  2.73490\n",
       "3  1.16820 ...  0.764230  0.61062  0.55290  0.566790  0.604000  0.77707\n",
       "4  0.85218 ...  0.419010  0.72389  1.32390  2.136500  1.746600  1.47020\n",
       "5  0.93377 ... -0.097869 -0.13679 -0.34024 -0.089441 -0.080297 -0.19258\n",
       "6  0.43195 ...  0.376470  0.27781  0.22568  0.159090  0.408350  0.54002\n",
       "  V94       V95       V96      V97     \n",
       "1  0.708590  0.705010  0.71382  0.43376\n",
       "2  1.736100  0.036857 -1.26510 -0.20802\n",
       "3  0.812350  0.748850  0.81804  0.53935\n",
       "4  1.893500  1.256900  0.80041  0.73154\n",
       "5 -0.304700 -0.454560  0.31459  0.58219\n",
       "6 -0.027791  0.203480  0.34696  0.33918"
      ]
     },
     "metadata": {},
     "output_type": "display_data"
    }
   ],
   "source": [
    "head(ecg200)"
   ]
  },
  {
   "cell_type": "markdown",
   "metadata": {
    "slideshow": {
     "slide_type": "subslide"
    }
   },
   "source": [
    "- Vamos ter que identificar as colunas com nomes, definir a coluna que representa a classe e também adicionar uma coluna que indique a que paciente corresponde"
   ]
  },
  {
   "cell_type": "code",
   "execution_count": 11,
   "metadata": {},
   "outputs": [
    {
     "data": {
      "text/html": [
       "<table>\n",
       "<thead><tr><th scope=col>class</th><th scope=col>1</th><th scope=col>2</th><th scope=col>3</th><th scope=col>4</th><th scope=col>5</th><th scope=col>6</th><th scope=col>7</th><th scope=col>8</th><th scope=col>9</th><th scope=col>...</th><th scope=col>88</th><th scope=col>89</th><th scope=col>90</th><th scope=col>91</th><th scope=col>92</th><th scope=col>93</th><th scope=col>94</th><th scope=col>95</th><th scope=col>96</th><th scope=col>instance</th></tr></thead>\n",
       "<tbody>\n",
       "\t<tr><td>-1       </td><td>0.50206  </td><td>0.54216  </td><td>0.72238  </td><td>1.42890  </td><td>2.136500 </td><td> 2.28110 </td><td> 1.936300</td><td> 1.46890 </td><td> 1.00880 </td><td>...      </td><td> 0.61030 </td><td> 0.63889 </td><td> 0.684680</td><td> 0.583240</td><td> 0.64052 </td><td> 0.708590</td><td> 0.705010</td><td> 0.71382 </td><td> 0.43376 </td><td>1        </td></tr>\n",
       "\t<tr><td> 1       </td><td>0.14765  </td><td>0.80467  </td><td>0.36777  </td><td>0.24389  </td><td>0.026614 </td><td>-0.27440 </td><td> 0.096731</td><td>-0.74773 </td><td>-1.60980 </td><td>...      </td><td>-0.40023 </td><td> 0.17608 </td><td> 1.111800</td><td> 2.438400</td><td> 2.73490 </td><td> 1.736100</td><td> 0.036857</td><td>-1.26510 </td><td>-0.20802 </td><td>2        </td></tr>\n",
       "\t<tr><td>-1       </td><td>0.31665  </td><td>0.24320  </td><td>0.37047  </td><td>1.06370  </td><td>1.678200 </td><td> 1.75960 </td><td> 1.697700</td><td> 1.61220 </td><td> 1.16820 </td><td>...      </td><td> 0.61062 </td><td> 0.55290 </td><td> 0.566790</td><td> 0.604000</td><td> 0.77707 </td><td> 0.812350</td><td> 0.748850</td><td> 0.81804 </td><td> 0.53935 </td><td>3        </td></tr>\n",
       "\t<tr><td>-1       </td><td>1.16890  </td><td>2.07590  </td><td>1.76010  </td><td>1.60640  </td><td>1.949000 </td><td> 1.30280 </td><td> 0.459330</td><td> 0.51641 </td><td> 0.85218 </td><td>...      </td><td> 0.72389 </td><td> 1.32390 </td><td> 2.136500</td><td> 1.746600</td><td> 1.47020 </td><td> 1.893500</td><td> 1.256900</td><td> 0.80041 </td><td> 0.73154 </td><td>4        </td></tr>\n",
       "\t<tr><td> 1       </td><td>0.64866  </td><td>0.75203  </td><td>2.63620  </td><td>3.45570  </td><td>2.118200 </td><td> 0.52062 </td><td>-0.188630</td><td> 0.78082 </td><td> 0.93377 </td><td>...      </td><td>-0.13679 </td><td>-0.34024 </td><td>-0.089441</td><td>-0.080297</td><td>-0.19258 </td><td>-0.304700</td><td>-0.454560</td><td> 0.31459 </td><td> 0.58219 </td><td>5        </td></tr>\n",
       "\t<tr><td> 1       </td><td>0.40473  </td><td>1.28090  </td><td>2.51510  </td><td>1.29950  </td><td>1.453400 </td><td> 0.47428 </td><td>-1.396600</td><td>-0.64708 </td><td> 0.43195 </td><td>...      </td><td> 0.27781 </td><td> 0.22568 </td><td> 0.159090</td><td> 0.408350</td><td> 0.54002 </td><td>-0.027791</td><td> 0.203480</td><td> 0.34696 </td><td> 0.33918 </td><td>6        </td></tr>\n",
       "</tbody>\n",
       "</table>\n"
      ],
      "text/latex": [
       "\\begin{tabular}{r|llllllllllllllllllllllllllllllllllllllllllllllllllllllllllllllllllllllllllllllllllllllllllllllllll}\n",
       " class & 1 & 2 & 3 & 4 & 5 & 6 & 7 & 8 & 9 & ... & 88 & 89 & 90 & 91 & 92 & 93 & 94 & 95 & 96 & instance\\\\\n",
       "\\hline\n",
       "\t -1        & 0.50206   & 0.54216   & 0.72238   & 1.42890   & 2.136500  &  2.28110  &  1.936300 &  1.46890  &  1.00880  & ...       &  0.61030  &  0.63889  &  0.684680 &  0.583240 &  0.64052  &  0.708590 &  0.705010 &  0.71382  &  0.43376  & 1        \\\\\n",
       "\t  1        & 0.14765   & 0.80467   & 0.36777   & 0.24389   & 0.026614  & -0.27440  &  0.096731 & -0.74773  & -1.60980  & ...       & -0.40023  &  0.17608  &  1.111800 &  2.438400 &  2.73490  &  1.736100 &  0.036857 & -1.26510  & -0.20802  & 2        \\\\\n",
       "\t -1        & 0.31665   & 0.24320   & 0.37047   & 1.06370   & 1.678200  &  1.75960  &  1.697700 &  1.61220  &  1.16820  & ...       &  0.61062  &  0.55290  &  0.566790 &  0.604000 &  0.77707  &  0.812350 &  0.748850 &  0.81804  &  0.53935  & 3        \\\\\n",
       "\t -1        & 1.16890   & 2.07590   & 1.76010   & 1.60640   & 1.949000  &  1.30280  &  0.459330 &  0.51641  &  0.85218  & ...       &  0.72389  &  1.32390  &  2.136500 &  1.746600 &  1.47020  &  1.893500 &  1.256900 &  0.80041  &  0.73154  & 4        \\\\\n",
       "\t  1        & 0.64866   & 0.75203   & 2.63620   & 3.45570   & 2.118200  &  0.52062  & -0.188630 &  0.78082  &  0.93377  & ...       & -0.13679  & -0.34024  & -0.089441 & -0.080297 & -0.19258  & -0.304700 & -0.454560 &  0.31459  &  0.58219  & 5        \\\\\n",
       "\t  1        & 0.40473   & 1.28090   & 2.51510   & 1.29950   & 1.453400  &  0.47428  & -1.396600 & -0.64708  &  0.43195  & ...       &  0.27781  &  0.22568  &  0.159090 &  0.408350 &  0.54002  & -0.027791 &  0.203480 &  0.34696  &  0.33918  & 6        \\\\\n",
       "\\end{tabular}\n"
      ],
      "text/markdown": [
       "\n",
       "class | 1 | 2 | 3 | 4 | 5 | 6 | 7 | 8 | 9 | ... | 88 | 89 | 90 | 91 | 92 | 93 | 94 | 95 | 96 | instance | \n",
       "|---|---|---|---|---|---|\n",
       "| -1        | 0.50206   | 0.54216   | 0.72238   | 1.42890   | 2.136500  |  2.28110  |  1.936300 |  1.46890  |  1.00880  | ...       |  0.61030  |  0.63889  |  0.684680 |  0.583240 |  0.64052  |  0.708590 |  0.705010 |  0.71382  |  0.43376  | 1         | \n",
       "|  1        | 0.14765   | 0.80467   | 0.36777   | 0.24389   | 0.026614  | -0.27440  |  0.096731 | -0.74773  | -1.60980  | ...       | -0.40023  |  0.17608  |  1.111800 |  2.438400 |  2.73490  |  1.736100 |  0.036857 | -1.26510  | -0.20802  | 2         | \n",
       "| -1        | 0.31665   | 0.24320   | 0.37047   | 1.06370   | 1.678200  |  1.75960  |  1.697700 |  1.61220  |  1.16820  | ...       |  0.61062  |  0.55290  |  0.566790 |  0.604000 |  0.77707  |  0.812350 |  0.748850 |  0.81804  |  0.53935  | 3         | \n",
       "| -1        | 1.16890   | 2.07590   | 1.76010   | 1.60640   | 1.949000  |  1.30280  |  0.459330 |  0.51641  |  0.85218  | ...       |  0.72389  |  1.32390  |  2.136500 |  1.746600 |  1.47020  |  1.893500 |  1.256900 |  0.80041  |  0.73154  | 4         | \n",
       "|  1        | 0.64866   | 0.75203   | 2.63620   | 3.45570   | 2.118200  |  0.52062  | -0.188630 |  0.78082  |  0.93377  | ...       | -0.13679  | -0.34024  | -0.089441 | -0.080297 | -0.19258  | -0.304700 | -0.454560 |  0.31459  |  0.58219  | 5         | \n",
       "|  1        | 0.40473   | 1.28090   | 2.51510   | 1.29950   | 1.453400  |  0.47428  | -1.396600 | -0.64708  |  0.43195  | ...       |  0.27781  |  0.22568  |  0.159090 |  0.408350 |  0.54002  | -0.027791 |  0.203480 |  0.34696  |  0.33918  | 6         | \n",
       "\n",
       "\n"
      ],
      "text/plain": [
       "  class 1       2       3       4       5        6        7         8       \n",
       "1 -1    0.50206 0.54216 0.72238 1.42890 2.136500  2.28110  1.936300  1.46890\n",
       "2  1    0.14765 0.80467 0.36777 0.24389 0.026614 -0.27440  0.096731 -0.74773\n",
       "3 -1    0.31665 0.24320 0.37047 1.06370 1.678200  1.75960  1.697700  1.61220\n",
       "4 -1    1.16890 2.07590 1.76010 1.60640 1.949000  1.30280  0.459330  0.51641\n",
       "5  1    0.64866 0.75203 2.63620 3.45570 2.118200  0.52062 -0.188630  0.78082\n",
       "6  1    0.40473 1.28090 2.51510 1.29950 1.453400  0.47428 -1.396600 -0.64708\n",
       "  9        ... 88       89       90        91        92       93       \n",
       "1  1.00880 ...  0.61030  0.63889  0.684680  0.583240  0.64052  0.708590\n",
       "2 -1.60980 ... -0.40023  0.17608  1.111800  2.438400  2.73490  1.736100\n",
       "3  1.16820 ...  0.61062  0.55290  0.566790  0.604000  0.77707  0.812350\n",
       "4  0.85218 ...  0.72389  1.32390  2.136500  1.746600  1.47020  1.893500\n",
       "5  0.93377 ... -0.13679 -0.34024 -0.089441 -0.080297 -0.19258 -0.304700\n",
       "6  0.43195 ...  0.27781  0.22568  0.159090  0.408350  0.54002 -0.027791\n",
       "  94        95       96       instance\n",
       "1  0.705010  0.71382  0.43376 1       \n",
       "2  0.036857 -1.26510 -0.20802 2       \n",
       "3  0.748850  0.81804  0.53935 3       \n",
       "4  1.256900  0.80041  0.73154 4       \n",
       "5 -0.454560  0.31459  0.58219 5       \n",
       "6  0.203480  0.34696  0.33918 6       "
      ]
     },
     "metadata": {},
     "output_type": "display_data"
    }
   ],
   "source": [
    "colnames(ecg200) <- c(\"class\",1:96)\n",
    "ecg200$instance <- 1:nrow(ecg200)\n",
    "head(ecg200)"
   ]
  },
  {
   "cell_type": "markdown",
   "metadata": {
    "slideshow": {
     "slide_type": "subslide"
    }
   },
   "source": [
    "- Finalmente podemos transformar o conjunto de dados para o formato Long"
   ]
  },
  {
   "cell_type": "code",
   "execution_count": 12,
   "metadata": {},
   "outputs": [
    {
     "data": {
      "text/html": [
       "<table>\n",
       "<thead><tr><th scope=col>instance</th><th scope=col>class</th><th scope=col>time</th><th scope=col>value</th></tr></thead>\n",
       "<tbody>\n",
       "\t<tr><td>1      </td><td>-1     </td><td>1      </td><td>0.50206</td></tr>\n",
       "\t<tr><td>2      </td><td> 1     </td><td>1      </td><td>0.14765</td></tr>\n",
       "\t<tr><td>3      </td><td>-1     </td><td>1      </td><td>0.31665</td></tr>\n",
       "\t<tr><td>4      </td><td>-1     </td><td>1      </td><td>1.16890</td></tr>\n",
       "\t<tr><td>5      </td><td> 1     </td><td>1      </td><td>0.64866</td></tr>\n",
       "\t<tr><td>6      </td><td> 1     </td><td>1      </td><td>0.40473</td></tr>\n",
       "</tbody>\n",
       "</table>\n"
      ],
      "text/latex": [
       "\\begin{tabular}{r|llll}\n",
       " instance & class & time & value\\\\\n",
       "\\hline\n",
       "\t 1       & -1      & 1       & 0.50206\\\\\n",
       "\t 2       &  1      & 1       & 0.14765\\\\\n",
       "\t 3       & -1      & 1       & 0.31665\\\\\n",
       "\t 4       & -1      & 1       & 1.16890\\\\\n",
       "\t 5       &  1      & 1       & 0.64866\\\\\n",
       "\t 6       &  1      & 1       & 0.40473\\\\\n",
       "\\end{tabular}\n"
      ],
      "text/markdown": [
       "\n",
       "instance | class | time | value | \n",
       "|---|---|---|---|---|---|\n",
       "| 1       | -1      | 1       | 0.50206 | \n",
       "| 2       |  1      | 1       | 0.14765 | \n",
       "| 3       | -1      | 1       | 0.31665 | \n",
       "| 4       | -1      | 1       | 1.16890 | \n",
       "| 5       |  1      | 1       | 0.64866 | \n",
       "| 6       |  1      | 1       | 0.40473 | \n",
       "\n",
       "\n"
      ],
      "text/plain": [
       "  instance class time value  \n",
       "1 1        -1    1    0.50206\n",
       "2 2         1    1    0.14765\n",
       "3 3        -1    1    0.31665\n",
       "4 4        -1    1    1.16890\n",
       "5 5         1    1    0.64866\n",
       "6 6         1    1    0.40473"
      ]
     },
     "metadata": {},
     "output_type": "display_data"
    }
   ],
   "source": [
    "ecg200.melt <- melt(ecg200, id.vars=c(\"instance\",\"class\"), variable.name = \"time\")\n",
    "head(ecg200.melt)"
   ]
  },
  {
   "cell_type": "markdown",
   "metadata": {
    "slideshow": {
     "slide_type": "subslide"
    }
   },
   "source": [
    "- Uma vez feito isso podemos visualizar os dados. Em um primeiro exemplo vamos visualizar as 5 primeiras instâncias de ECG. Para isso precisamos no gráfico:\n",
    "- Agrupar os valores de instância (de forma que cada instancia represente uma linha no gráfico)\n",
    "- Usar a classe para definir a cor (a qual é numérica, mas as transformamos usando *fator* em discreta)"
   ]
  },
  {
   "cell_type": "code",
   "execution_count": 13,
   "metadata": {
    "slideshow": {
     "slide_type": "subslide"
    }
   },
   "outputs": [
    {
     "data": {},
     "metadata": {},
     "output_type": "display_data"
    },
    {
     "data": {
      "image/png": "[encoded data removed]",
      "text/plain": [
       "plot without title"
      ]
     },
     "metadata": {},
     "output_type": "display_data"
    }
   ],
   "source": [
    "ggplot(ecg200.melt[instance %in% 1:5], aes(x = as.numeric(time), y = value, group = instance, color = as.factor(class) ) ) + geom_line() + theme_minimal()"
   ]
  },
  {
   "cell_type": "markdown",
   "metadata": {
    "slideshow": {
     "slide_type": "subslide"
    }
   },
   "source": [
    "- Neste segundo exemplo, visualizamos todas as instâncias"
   ]
  },
  {
   "cell_type": "code",
   "execution_count": 14,
   "metadata": {
    "slideshow": {
     "slide_type": "-"
    }
   },
   "outputs": [
    {
     "data": {},
     "metadata": {},
     "output_type": "display_data"
    },
    {
     "data": {
      "image/png": "[encoded data removed]",
      "text/plain": [
       "plot without title"
      ]
     },
     "metadata": {},
     "output_type": "display_data"
    }
   ],
   "source": [
    "ggplot(ecg200.melt, aes(x = as.numeric(time), y = value, group = instance, color = as.factor(class) ) ) + geom_line() + theme_minimal()"
   ]
  },
  {
   "cell_type": "markdown",
   "metadata": {
    "slideshow": {
     "slide_type": "slide"
    }
   },
   "source": [
    "## Dados de Textos\n",
    "\n",
    "- Existem muitos conjunto de dados com texto, que podem ser extraídos por exemplo do Wikipedia ou do Twitter para estudo. Em R tem bibliotecas disponíves para extrair dados desse nesse formato. Em geral, irão precisar criar uma chave de acesso para poder usar esse serviço."
   ]
  },
  {
   "cell_type": "markdown",
   "metadata": {
    "slideshow": {
     "slide_type": "subslide"
    }
   },
   "source": [
    "- Vamos estudar um conjunto de dados de análise de sentimento em reviews de filmes. Um dataset foi disponibilizado pela plataforma Kaggle no endereço https://www.kaggle.com/c/sentiment-analysis-on-movie-reviews/data\n",
    "\n",
    "- Baixar os arquivos em uma pasta dentro do projeto e carregar o arquivo *train.csv*\n",
    "\n",
    "- O arquivo contém frases entraídas de uma sentença geral por um extrator de frases a partir de sentenças.\n",
    "\n",
    "- Essas frases foram rotuladas com o Sentimento;\n",
    "    - 0 negative\n",
    "    - 1 somewhat negative\n",
    "    - 2 neutral\n",
    "    - 3 somewhat positive\n",
    "    - 4 positive"
   ]
  },
  {
   "cell_type": "code",
   "execution_count": 15,
   "metadata": {
    "slideshow": {
     "slide_type": "subslide"
    }
   },
   "outputs": [
    {
     "data": {
      "text/html": [
       "<table>\n",
       "<thead><tr><th scope=col>PhraseId</th><th scope=col>SentenceId</th><th scope=col>Phrase</th><th scope=col>Sentiment</th></tr></thead>\n",
       "<tbody>\n",
       "\t<tr><td>1                                                                                                                                                                                           </td><td>1                                                                                                                                                                                           </td><td>A series of escapades demonstrating the adage that what is good for the goose is also good for the gander , some of which occasionally amuses but none of which amounts to much of a story .</td><td>1                                                                                                                                                                                           </td></tr>\n",
       "\t<tr><td>2                                                                                                                                                                                           </td><td>1                                                                                                                                                                                           </td><td>A series of escapades demonstrating the adage that what is good for the goose                                                                                                               </td><td>2                                                                                                                                                                                           </td></tr>\n",
       "\t<tr><td>3                                                                                                                                                                                           </td><td>1                                                                                                                                                                                           </td><td>A series                                                                                                                                                                                    </td><td>2                                                                                                                                                                                           </td></tr>\n",
       "\t<tr><td>4                                                                                                                                                                                           </td><td>1                                                                                                                                                                                           </td><td>A                                                                                                                                                                                           </td><td>2                                                                                                                                                                                           </td></tr>\n",
       "\t<tr><td>5                                                                                                                                                                                           </td><td>1                                                                                                                                                                                           </td><td>series                                                                                                                                                                                      </td><td>2                                                                                                                                                                                           </td></tr>\n",
       "\t<tr><td>6                                                                                                                                                                                           </td><td>1                                                                                                                                                                                           </td><td>of escapades demonstrating the adage that what is good for the goose                                                                                                                        </td><td>2                                                                                                                                                                                           </td></tr>\n",
       "</tbody>\n",
       "</table>\n"
      ],
      "text/latex": [
       "\\begin{tabular}{r|llll}\n",
       " PhraseId & SentenceId & Phrase & Sentiment\\\\\n",
       "\\hline\n",
       "\t 1                                                                                                                                                                                            & 1                                                                                                                                                                                            & A series of escapades demonstrating the adage that what is good for the goose is also good for the gander , some of which occasionally amuses but none of which amounts to much of a story . & 1                                                                                                                                                                                           \\\\\n",
       "\t 2                                                                                                                                                                                            & 1                                                                                                                                                                                            & A series of escapades demonstrating the adage that what is good for the goose                                                                                                                & 2                                                                                                                                                                                           \\\\\n",
       "\t 3                                                                                                                                                                                            & 1                                                                                                                                                                                            & A series                                                                                                                                                                                     & 2                                                                                                                                                                                           \\\\\n",
       "\t 4                                                                                                                                                                                            & 1                                                                                                                                                                                            & A                                                                                                                                                                                            & 2                                                                                                                                                                                           \\\\\n",
       "\t 5                                                                                                                                                                                            & 1                                                                                                                                                                                            & series                                                                                                                                                                                       & 2                                                                                                                                                                                           \\\\\n",
       "\t 6                                                                                                                                                                                            & 1                                                                                                                                                                                            & of escapades demonstrating the adage that what is good for the goose                                                                                                                         & 2                                                                                                                                                                                           \\\\\n",
       "\\end{tabular}\n"
      ],
      "text/markdown": [
       "\n",
       "PhraseId | SentenceId | Phrase | Sentiment | \n",
       "|---|---|---|---|---|---|\n",
       "| 1                                                                                                                                                                                            | 1                                                                                                                                                                                            | A series of escapades demonstrating the adage that what is good for the goose is also good for the gander , some of which occasionally amuses but none of which amounts to much of a story . | 1                                                                                                                                                                                            | \n",
       "| 2                                                                                                                                                                                            | 1                                                                                                                                                                                            | A series of escapades demonstrating the adage that what is good for the goose                                                                                                                | 2                                                                                                                                                                                            | \n",
       "| 3                                                                                                                                                                                            | 1                                                                                                                                                                                            | A series                                                                                                                                                                                     | 2                                                                                                                                                                                            | \n",
       "| 4                                                                                                                                                                                            | 1                                                                                                                                                                                            | A                                                                                                                                                                                            | 2                                                                                                                                                                                            | \n",
       "| 5                                                                                                                                                                                            | 1                                                                                                                                                                                            | series                                                                                                                                                                                       | 2                                                                                                                                                                                            | \n",
       "| 6                                                                                                                                                                                            | 1                                                                                                                                                                                            | of escapades demonstrating the adage that what is good for the goose                                                                                                                         | 2                                                                                                                                                                                            | \n",
       "\n",
       "\n"
      ],
      "text/plain": [
       "  PhraseId SentenceId\n",
       "1 1        1         \n",
       "2 2        1         \n",
       "3 3        1         \n",
       "4 4        1         \n",
       "5 5        1         \n",
       "6 6        1         \n",
       "  Phrase                                                                                                                                                                                      \n",
       "1 A series of escapades demonstrating the adage that what is good for the goose is also good for the gander , some of which occasionally amuses but none of which amounts to much of a story .\n",
       "2 A series of escapades demonstrating the adage that what is good for the goose                                                                                                               \n",
       "3 A series                                                                                                                                                                                    \n",
       "4 A                                                                                                                                                                                           \n",
       "5 series                                                                                                                                                                                      \n",
       "6 of escapades demonstrating the adage that what is good for the goose                                                                                                                        \n",
       "  Sentiment\n",
       "1 1        \n",
       "2 2        \n",
       "3 2        \n",
       "4 2        \n",
       "5 2        \n",
       "6 2        "
      ]
     },
     "metadata": {},
     "output_type": "display_data"
    }
   ],
   "source": [
    "text <- fread(\"data/Text/train.tsv\")\n",
    "head(text)"
   ]
  },
  {
   "cell_type": "markdown",
   "metadata": {
    "slideshow": {
     "slide_type": "subslide"
    }
   },
   "source": [
    "### Gráficos de Frequência de Palavras"
   ]
  },
  {
   "cell_type": "markdown",
   "metadata": {
    "slideshow": {
     "slide_type": "-"
    }
   },
   "source": [
    "- Uma atividade comum em visualização de dados textais é extrair a frequência de ocorrência das palavras nos textos. Para isso usamos a função *strsplit* para criar uma nova coluna com a palavra e depois criar uma coluna de frequência"
   ]
  },
  {
   "cell_type": "code",
   "execution_count": 19,
   "metadata": {},
   "outputs": [
    {
     "data": {
      "text/html": [
       "<ol class=list-inline>\n",
       "\t<li>'A'</li>\n",
       "\t<li>'series'</li>\n",
       "\t<li>'of'</li>\n",
       "\t<li>'escapades'</li>\n",
       "\t<li>'demonstrating'</li>\n",
       "\t<li>'the'</li>\n",
       "</ol>\n"
      ],
      "text/latex": [
       "\\begin{enumerate*}\n",
       "\\item 'A'\n",
       "\\item 'series'\n",
       "\\item 'of'\n",
       "\\item 'escapades'\n",
       "\\item 'demonstrating'\n",
       "\\item 'the'\n",
       "\\end{enumerate*}\n"
      ],
      "text/markdown": [
       "1. 'A'\n",
       "2. 'series'\n",
       "3. 'of'\n",
       "4. 'escapades'\n",
       "5. 'demonstrating'\n",
       "6. 'the'\n",
       "\n",
       "\n"
      ],
      "text/plain": [
       "[1] \"A\"             \"series\"        \"of\"            \"escapades\"    \n",
       "[5] \"demonstrating\" \"the\"          "
      ]
     },
     "metadata": {},
     "output_type": "display_data"
    }
   ],
   "source": []
  },
  {
   "cell_type": "code",
   "execution_count": 27,
   "metadata": {
    "slideshow": {
     "slide_type": "-"
    }
   },
   "outputs": [
    {
     "data": {
      "text/html": [
       "<table>\n",
       "<thead><tr><th scope=col>word</th><th scope=col>count</th></tr></thead>\n",
       "<tbody>\n",
       "\t<tr><td>the  </td><td>46552</td></tr>\n",
       "\t<tr><td>,    </td><td>42006</td></tr>\n",
       "\t<tr><td>a    </td><td>33443</td></tr>\n",
       "\t<tr><td>of   </td><td>32245</td></tr>\n",
       "\t<tr><td>and  </td><td>31695</td></tr>\n",
       "\t<tr><td>to   </td><td>22363</td></tr>\n",
       "</tbody>\n",
       "</table>\n"
      ],
      "text/latex": [
       "\\begin{tabular}{r|ll}\n",
       " word & count\\\\\n",
       "\\hline\n",
       "\t the   & 46552\\\\\n",
       "\t ,     & 42006\\\\\n",
       "\t a     & 33443\\\\\n",
       "\t of    & 32245\\\\\n",
       "\t and   & 31695\\\\\n",
       "\t to    & 22363\\\\\n",
       "\\end{tabular}\n"
      ],
      "text/markdown": [
       "\n",
       "word | count | \n",
       "|---|---|---|---|---|---|\n",
       "| the   | 46552 | \n",
       "| ,     | 42006 | \n",
       "| a     | 33443 | \n",
       "| of    | 32245 | \n",
       "| and   | 31695 | \n",
       "| to    | 22363 | \n",
       "\n",
       "\n"
      ],
      "text/plain": [
       "  word count\n",
       "1 the  46552\n",
       "2 ,    42006\n",
       "3 a    33443\n",
       "4 of   32245\n",
       "5 and  31695\n",
       "6 to   22363"
      ]
     },
     "metadata": {},
     "output_type": "display_data"
    }
   ],
   "source": [
    "dt1 <- text[,.(word=unlist(strsplit(Phrase,\" \")) )]\n",
    "dt2 <- dt1[, .(count = .N),by=.(word)][order(-count)]\n",
    "head(dt2)"
   ]
  },
  {
   "cell_type": "markdown",
   "metadata": {},
   "source": [
    "Ao visualizar a frequência de palavras em textos é muito comum "
   ]
  },
  {
   "cell_type": "code",
   "execution_count": 26,
   "metadata": {
    "slideshow": {
     "slide_type": "subslide"
    }
   },
   "outputs": [
    {
     "name": "stderr",
     "output_type": "stream",
     "text": [
      "`stat_bin()` using `bins = 30`. Pick better value with `binwidth`.\n"
     ]
    },
    {
     "data": {},
     "metadata": {},
     "output_type": "display_data"
    },
    {
     "data": {
      "image/png": "[encoded data removed]",
      "text/plain": [
       "plot without title"
      ]
     },
     "metadata": {},
     "output_type": "display_data"
    }
   ],
   "source": [
    "ggplot(dt2, aes(x=count)) + geom_histogram() "
   ]
  },
  {
   "cell_type": "code",
   "execution_count": 27,
   "metadata": {
    "slideshow": {
     "slide_type": "subslide"
    }
   },
   "outputs": [
    {
     "name": "stderr",
     "output_type": "stream",
     "text": [
      "`stat_bin()` using `bins = 30`. Pick better value with `binwidth`.\n"
     ]
    },
    {
     "data": {},
     "metadata": {},
     "output_type": "display_data"
    },
    {
     "data": {
      "image/png": "[encoded data removed]",
      "text/plain": [
       "plot without title"
      ]
     },
     "metadata": {},
     "output_type": "display_data"
    }
   ],
   "source": [
    "ggplot(dt2, aes(x=count)) + geom_histogram() + scale_x_log10()"
   ]
  },
  {
   "cell_type": "markdown",
   "metadata": {
    "slideshow": {
     "slide_type": "subslide"
    }
   },
   "source": [
    "- Visualização de frequências individuais das palavras, limitada a um número específico de palavras mais frequêntes"
   ]
  },
  {
   "cell_type": "code",
   "execution_count": 42,
   "metadata": {
    "slideshow": {
     "slide_type": "-"
    }
   },
   "outputs": [
    {
     "data": {},
     "metadata": {},
     "output_type": "display_data"
    },
    {
     "data": {
      "image/png": "[encoded data removed]",
      "text/plain": [
       "plot without title"
      ]
     },
     "metadata": {},
     "output_type": "display_data"
    }
   ],
   "source": [
    "ggplot(dt2[1:20], aes(y=count, x=word )) + geom_bar(stat = \"identity\")"
   ]
  },
  {
   "cell_type": "markdown",
   "metadata": {
    "slideshow": {
     "slide_type": "subslide"
    }
   },
   "source": [
    "- Também podemos ordenar as barras pelo valor da frequência"
   ]
  },
  {
   "cell_type": "code",
   "execution_count": 45,
   "metadata": {},
   "outputs": [
    {
     "data": {},
     "metadata": {},
     "output_type": "display_data"
    },
    {
     "data": {
      "image/png": "[encoded data removed]",
      "text/plain": [
       "plot without title"
      ]
     },
     "metadata": {},
     "output_type": "display_data"
    }
   ],
   "source": [
    "ggplot(dt2[1:20], aes(y=count, x=reorder(word,-count) )) + geom_bar(stat = \"identity\")"
   ]
  },
  {
   "cell_type": "markdown",
   "metadata": {
    "slideshow": {
     "slide_type": "subslide"
    }
   },
   "source": [
    "### Gráfico de Frequência de Palavras por Classe\n",
    "\n",
    "- Para visualizar os dados por classe precisamos conservar o valor da classe para cada palavra, na hora de transformar o conjunto de dados"
   ]
  },
  {
   "cell_type": "code",
   "execution_count": 47,
   "metadata": {},
   "outputs": [
    {
     "data": {
      "text/html": [
       "<table>\n",
       "<thead><tr><th scope=col>word</th><th scope=col>Sentiment</th><th scope=col>count</th></tr></thead>\n",
       "<tbody>\n",
       "\t<tr><td>A            </td><td>1            </td><td> 449         </td></tr>\n",
       "\t<tr><td>series       </td><td>1            </td><td>  84         </td></tr>\n",
       "\t<tr><td>of           </td><td>1            </td><td>6552         </td></tr>\n",
       "\t<tr><td>escapades    </td><td>1            </td><td>   1         </td></tr>\n",
       "\t<tr><td>demonstrating</td><td>1            </td><td>   4         </td></tr>\n",
       "\t<tr><td>the          </td><td>1            </td><td>9712         </td></tr>\n",
       "</tbody>\n",
       "</table>\n"
      ],
      "text/latex": [
       "\\begin{tabular}{r|lll}\n",
       " word & Sentiment & count\\\\\n",
       "\\hline\n",
       "\t A             & 1             &  449         \\\\\n",
       "\t series        & 1             &   84         \\\\\n",
       "\t of            & 1             & 6552         \\\\\n",
       "\t escapades     & 1             &    1         \\\\\n",
       "\t demonstrating & 1             &    4         \\\\\n",
       "\t the           & 1             & 9712         \\\\\n",
       "\\end{tabular}\n"
      ],
      "text/markdown": [
       "\n",
       "word | Sentiment | count | \n",
       "|---|---|---|---|---|---|\n",
       "| A             | 1             |  449          | \n",
       "| series        | 1             |   84          | \n",
       "| of            | 1             | 6552          | \n",
       "| escapades     | 1             |    1          | \n",
       "| demonstrating | 1             |    4          | \n",
       "| the           | 1             | 9712          | \n",
       "\n",
       "\n"
      ],
      "text/plain": [
       "  word          Sentiment count\n",
       "1 A             1          449 \n",
       "2 series        1           84 \n",
       "3 of            1         6552 \n",
       "4 escapades     1            1 \n",
       "5 demonstrating 1            4 \n",
       "6 the           1         9712 "
      ]
     },
     "metadata": {},
     "output_type": "display_data"
    }
   ],
   "source": [
    "dt1 <- text[,.(word=unlist(strsplit(Phrase,\" \")) ), by=.(Sentiment)]\n",
    "dt2 <- dt1[, .(count = .N),by=.(word,Sentiment)]\n",
    "head(dt2)"
   ]
  },
  {
   "cell_type": "code",
   "execution_count": 50,
   "metadata": {
    "slideshow": {
     "slide_type": "subslide"
    }
   },
   "outputs": [
    {
     "name": "stderr",
     "output_type": "stream",
     "text": [
      "`stat_bin()` using `bins = 30`. Pick better value with `binwidth`.\n"
     ]
    },
    {
     "data": {},
     "metadata": {},
     "output_type": "display_data"
    },
    {
     "data": {
      "image/png": "[encoded data removed]",
      "text/plain": [
       "plot without title"
      ]
     },
     "metadata": {},
     "output_type": "display_data"
    }
   ],
   "source": [
    "ggplot(dt2, aes(x=count)) + geom_histogram() + scale_x_log10() + facet_wrap(~Sentiment ) "
   ]
  },
  {
   "cell_type": "markdown",
   "metadata": {
    "slideshow": {
     "slide_type": "subslide"
    }
   },
   "source": [
    "### Gráfico de Nuvem de Palavras (wordcloud)"
   ]
  },
  {
   "cell_type": "markdown",
   "metadata": {},
   "source": [
    "- Atualmente é comum encontrar na Internet as chamadas wordclouds, que são formas de representar a frequência de palavras, onde quanto maior a frequência de uma palavra num conjunto de dados, maior é o seu tamanho no gráfico.\n",
    "\n",
    "- No exemplo das revisões de filmes, vamos ver quais são as palavras mais frequêntes em textos onde o sentimento é 4 (positive) e onde o setimento é 0 (negative)"
   ]
  },
  {
   "cell_type": "markdown",
   "metadata": {
    "slideshow": {
     "slide_type": "subslide"
    }
   },
   "source": [
    "- Visualização das 30 palavras mais frequentes em revisões positivas (Sentiment 4)"
   ]
  },
  {
   "cell_type": "code",
   "execution_count": 197,
   "metadata": {
    "slideshow": {
     "slide_type": "skip"
    }
   },
   "outputs": [],
   "source": [
    "options(repr.plot.width=10, repr.plot.height=7)"
   ]
  },
  {
   "cell_type": "code",
   "execution_count": 225,
   "metadata": {
    "slideshow": {
     "slide_type": "-"
    }
   },
   "outputs": [
    {
     "data": {
      "image/png": "[encoded data removed]",
      "text/plain": [
       "plot without title"
      ]
     },
     "metadata": {},
     "output_type": "display_data"
    }
   ],
   "source": [
    "dt3 <- dt2[Sentiment == \"4\"][order(-count)][1:100]\n",
    "wordcloud(dt3$word, sqrt(dt3$count))"
   ]
  },
  {
   "cell_type": "markdown",
   "metadata": {
    "slideshow": {
     "slide_type": "subslide"
    }
   },
   "source": [
    "- Visualização das 30 palavras mais frequentes em revisões negativas (Sentiment 0)"
   ]
  },
  {
   "cell_type": "code",
   "execution_count": 232,
   "metadata": {
    "slideshow": {
     "slide_type": "-"
    }
   },
   "outputs": [
    {
     "data": {
      "image/png": "[encoded data removed]",
      "text/plain": [
       "plot without title"
      ]
     },
     "metadata": {},
     "output_type": "display_data"
    }
   ],
   "source": [
    "dt3 <- dt2[Sentiment == \"0\"][order(-count)][1:100]\n",
    "wordcloud(dt3$word, sqrt(dt3$count))"
   ]
  },
  {
   "cell_type": "markdown",
   "metadata": {
    "slideshow": {
     "slide_type": "slide"
    }
   },
   "source": [
    "# Atividades\n",
    "\n",
    "- Conjunto de dados ECG\n",
    "    - Gerar um gráfico separando as instâncias por classe em dois subplots, um ao lado do outro. Manter as cores vermelha e verde para as classes\n",
    "    - Gerar um gráfico de boxplot dos valores das séries por classe. A idéia é que se calcule um boxplot para cada classe no mesmo gráfico\n",
    "    - Gerar um gráfico de densidade dos valores das séries por classe. Utilizar valor de alpha para visualizar a superposição das curvas\n",
    "    - Gerar um gráfico de pontos para representar cada série por um ponto colorido, onde eixo X represente a Média dos Valores da série, o eixo Y o Desvio Padrão dos valores da Série e a Cor a classe\n",
    "    "
   ]
  },
  {
   "cell_type": "markdown",
   "metadata": {
    "slideshow": {
     "slide_type": "subslide"
    }
   },
   "source": [
    "- Conjunto de dadso de Revisões de Filme\n",
    "    - Gerar um gráfico de densidade da contagem de palavras, para as palavras que estão com contagem entre 1 e 100, por classe. Mantenha cores diferentes para cada curva de densidade e utilize a transparência para diferenciar as curvas\n",
    "    - Gerar um gráfico de wordcloud para cada sentimento das 100 palavras mais frequêntes\n",
    "    - Gerar um gráfcio de wordcloud para cada sentimento com 30 palavras, entre vigésima e quinquagésima mais frequêntes"
   ]
  },
  {
   "cell_type": "code",
   "execution_count": null,
   "metadata": {},
   "outputs": [],
   "source": []
  }
 ],
 "metadata": {
  "kernelspec": {
   "display_name": "R",
   "language": "R",
   "name": "ir"
  },
  "language_info": {
   "codemirror_mode": "r",
   "file_extension": ".r",
   "mimetype": "text/x-r-source",
   "name": "R",
   "pygments_lexer": "r",
   "version": "3.3.3"
  }
 },
 "nbformat": 4,
 "nbformat_minor": 2
}
